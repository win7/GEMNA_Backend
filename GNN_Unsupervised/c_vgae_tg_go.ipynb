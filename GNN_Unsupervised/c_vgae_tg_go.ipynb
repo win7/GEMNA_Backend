{
 "cells": [
  {
   "attachments": {},
   "cell_type": "markdown",
   "metadata": {},
   "source": [
    "### Imports"
   ]
  },
  {
   "cell_type": "code",
   "execution_count": 1,
   "metadata": {},
   "outputs": [
    {
     "name": "stdout",
     "output_type": "stream",
     "text": [
      "2.0.0\n",
      "nvcc: NVIDIA (R) Cuda compiler driver\n",
      "Copyright (c) 2005-2022 NVIDIA Corporation\n",
      "Built on Wed_Sep_21_10:33:58_PDT_2022\n",
      "Cuda compilation tools, release 11.8, V11.8.89\n",
      "Build cuda_11.8.r11.8/compiler.31833905_0\n"
     ]
    }
   ],
   "source": [
    "import os\n",
    "import torch\n",
    "# os.environ['TORCH'] = torch.__version__\n",
    "print(torch.__version__)\n",
    "\n",
    "# !pip install -q torch-scatter -f https://data.pyg.org/whl/torch-${TORCH}.html\n",
    "# !pip install -q torch-sparse -f https://data.pyg.org/whl/torch-${TORCH}.html\n",
    "# !pip install -q git+https://github.com/pyg-team/pytorch_geometric.git\n",
    "# conda install pyg -c pyg\n",
    "!nvcc --version"
   ]
  },
  {
   "cell_type": "code",
   "execution_count": 2,
   "metadata": {
    "notebookRunGroups": {
     "groupValue": "12"
    }
   },
   "outputs": [],
   "source": [
    "import argparse, time\n",
    "\n",
    "import dgl\n",
    "import networkx as nx\n",
    "import numpy as np\n",
    "import torch\n",
    "import torch.nn as nn\n",
    "import torch.nn.functional as F\n",
    "from dgi.dgi import Classifier, DGI\n",
    "from dgl import DGLGraph\n",
    "from dgl.data import load_data, register_data_args, DGLDataset\n",
    "from torch_geometric.data import Data\n",
    "import torch\n",
    "import pandas as pd\n",
    "import torch_geometric.transforms as T\n",
    "\n",
    "import os"
   ]
  },
  {
   "cell_type": "code",
   "execution_count": 3,
   "metadata": {
    "notebookRunGroups": {
     "groupValue": "12"
    }
   },
   "outputs": [
    {
     "name": "stdout",
     "output_type": "stream",
     "text": [
      "time: 164 µs (started: 2023-10-28 10:30:17 -05:00)\n"
     ]
    }
   ],
   "source": [
    "from tqdm import tqdm\n",
    "from vgae.utils_vgae_tg import *\n",
    "from utils.utils_go import *\n",
    "\n",
    "import json\n",
    "import pandas as pd\n",
    "\n",
    "# os.environ[\"DGLBACKEND\"] = \"pytorch\"\n",
    "\n",
    "%load_ext autotime"
   ]
  },
  {
   "cell_type": "code",
   "execution_count": 4,
   "metadata": {
    "notebookRunGroups": {
     "groupValue": "2"
    }
   },
   "outputs": [
    {
     "name": "stdout",
     "output_type": "stream",
     "text": [
      "time: 399 µs (started: 2023-10-28 10:30:17 -05:00)\n"
     ]
    }
   ],
   "source": [
    "# torch.manual_seed(42)\n",
    "# np.random.seed(42)"
   ]
  },
  {
   "attachments": {},
   "cell_type": "markdown",
   "metadata": {},
   "source": [
    "### Parameters"
   ]
  },
  {
   "cell_type": "code",
   "execution_count": 5,
   "metadata": {},
   "outputs": [
    {
     "name": "stdout",
     "output_type": "stream",
     "text": [
      "Exp:\t\t exp12\n",
      "Method:\t\t dgi\n",
      "Data variations: ['none', 'str', 'dyn']\n",
      "Dimension:\t 3\n",
      "Groups id:\t ['pck1', 'zwf1', 'WT']\n",
      "Subgroups id:\t {'pck1': ['1', '2', '3'], 'zwf1': ['1', '2'], 'WT': ['1', '2', '3', '4', '5']}\n",
      "time: 3.06 ms (started: 2023-10-28 10:30:17 -05:00)\n"
     ]
    }
   ],
   "source": [
    "file = open(\"exp.json\")\n",
    "experiment = json.load(file)\n",
    "exp_num = experiment[\"exp\"]\n",
    "\n",
    "file = open(\"output/{}/parameters.json\".format(exp_num))\n",
    "params = json.load(file)\n",
    "\n",
    "exp = params[\"exp\"]\n",
    "print(\"Exp:\\t\\t\", exp)\n",
    "\n",
    "method = \"dgi\"\n",
    "print(\"Method:\\t\\t\", method)\n",
    "\n",
    "data_variations = params[\"data_variations\"]\n",
    "print(\"Data variations:\", data_variations)\n",
    "\n",
    "dimension = params[\"dimension\"]\n",
    "print(\"Dimension:\\t\", dimension)\n",
    "\n",
    "groups_id = params[\"groups_id\"]\n",
    "print(\"Groups id:\\t\", groups_id)\n",
    "\n",
    "subgroups_id = params[\"subgroups_id\"]\n",
    "print(\"Subgroups id:\\t\", subgroups_id)"
   ]
  },
  {
   "attachments": {},
   "cell_type": "markdown",
   "metadata": {},
   "source": [
    "### Node embeddings"
   ]
  },
  {
   "cell_type": "code",
   "execution_count": 6,
   "metadata": {},
   "outputs": [
    {
     "name": "stderr",
     "output_type": "stream",
     "text": [
      "/home/ealvarez/miniconda3/envs/meta_net_3.10/lib/python3.10/site-packages/torch_geometric/transforms/random_link_split.py:220: UserWarning: There are not enough negative edges to satisfy the provided sampling ratio. The ratio will be adjusted to 0.39.\n",
      "  warnings.warn(\n"
     ]
    },
    {
     "data": {
      "text/plain": [
       "(Data(x=[120, 24], edge_index=[2, 11796], pos_edge_label=[5898], pos_edge_label_index=[2, 5898]),\n",
       " Data(x=[120, 24], edge_index=[2, 11796], pos_edge_label=[346], pos_edge_label_index=[2, 346], neg_edge_label=[135], neg_edge_label_index=[2, 135]),\n",
       " Data(x=[120, 24], edge_index=[2, 12488], pos_edge_label=[693], pos_edge_label_index=[2, 693], neg_edge_label=[271], neg_edge_label_index=[2, 271]))"
      ]
     },
     "execution_count": 6,
     "metadata": {},
     "output_type": "execute_result"
    },
    {
     "name": "stdout",
     "output_type": "stream",
     "text": [
      "time: 228 ms (started: 2023-10-28 10:30:26 -05:00)\n"
     ]
    }
   ],
   "source": [
    "device = torch.device('cuda' if torch.cuda.is_available() else 'cpu')\n",
    "\n",
    "nodes_data = pd.read_csv(\"output/{}/preprocessing/graphs_data/nodes_data_{}_{}.csv\".format(exp, groups_id[0], subgroups_id[groups_id[0]][0])).iloc[:, 2:]\n",
    "edges_data = pd.read_csv(\"output/{}/preprocessing/graphs_data/edges_data_{}_{}.csv\".format(exp, groups_id[0], subgroups_id[groups_id[0]][0]))\n",
    "\n",
    "transform = T.Compose([\n",
    "    # T.NormalizeFeatures(),\n",
    "    T.ToDevice(device),\n",
    "    # T.ToUndirected(),\n",
    "    T.RandomLinkSplit(num_val=0.05, num_test=0.1, is_undirected=True, split_labels=True, add_negative_train_samples=False),\n",
    "    # T.RandomNodeSplit(num_val=0.05, num_test=0.1),\n",
    "])\n",
    "\n",
    "dataset = CustomDataset(nodes_data, edges_data, transform=transform)\n",
    "train_data, val_data, test_data = dataset[0]\n",
    "dataset[0]"
   ]
  },
  {
   "cell_type": "code",
   "execution_count": 12,
   "metadata": {},
   "outputs": [
    {
     "data": {
      "text/html": [
       "<div>\n",
       "<style scoped>\n",
       "    .dataframe tbody tr th:only-of-type {\n",
       "        vertical-align: middle;\n",
       "    }\n",
       "\n",
       "    .dataframe tbody tr th {\n",
       "        vertical-align: top;\n",
       "    }\n",
       "\n",
       "    .dataframe thead th {\n",
       "        text-align: right;\n",
       "    }\n",
       "</style>\n",
       "<table border=\"1\" class=\"dataframe\">\n",
       "  <thead>\n",
       "    <tr style=\"text-align: right;\">\n",
       "      <th></th>\n",
       "      <th>source</th>\n",
       "      <th>target</th>\n",
       "      <th>weight</th>\n",
       "    </tr>\n",
       "  </thead>\n",
       "  <tbody>\n",
       "    <tr>\n",
       "      <th>0</th>\n",
       "      <td>0</td>\n",
       "      <td>1</td>\n",
       "      <td>-0.162508</td>\n",
       "    </tr>\n",
       "    <tr>\n",
       "      <th>1</th>\n",
       "      <td>0</td>\n",
       "      <td>2</td>\n",
       "      <td>-0.057338</td>\n",
       "    </tr>\n",
       "    <tr>\n",
       "      <th>2</th>\n",
       "      <td>0</td>\n",
       "      <td>3</td>\n",
       "      <td>0.083215</td>\n",
       "    </tr>\n",
       "    <tr>\n",
       "      <th>3</th>\n",
       "      <td>0</td>\n",
       "      <td>4</td>\n",
       "      <td>-0.562044</td>\n",
       "    </tr>\n",
       "    <tr>\n",
       "      <th>4</th>\n",
       "      <td>0</td>\n",
       "      <td>5</td>\n",
       "      <td>-0.026301</td>\n",
       "    </tr>\n",
       "    <tr>\n",
       "      <th>...</th>\n",
       "      <td>...</td>\n",
       "      <td>...</td>\n",
       "      <td>...</td>\n",
       "    </tr>\n",
       "    <tr>\n",
       "      <th>6932</th>\n",
       "      <td>116</td>\n",
       "      <td>118</td>\n",
       "      <td>-0.086813</td>\n",
       "    </tr>\n",
       "    <tr>\n",
       "      <th>6933</th>\n",
       "      <td>116</td>\n",
       "      <td>119</td>\n",
       "      <td>0.367687</td>\n",
       "    </tr>\n",
       "    <tr>\n",
       "      <th>6934</th>\n",
       "      <td>117</td>\n",
       "      <td>118</td>\n",
       "      <td>0.247453</td>\n",
       "    </tr>\n",
       "    <tr>\n",
       "      <th>6935</th>\n",
       "      <td>117</td>\n",
       "      <td>119</td>\n",
       "      <td>-0.278296</td>\n",
       "    </tr>\n",
       "    <tr>\n",
       "      <th>6936</th>\n",
       "      <td>118</td>\n",
       "      <td>119</td>\n",
       "      <td>0.127717</td>\n",
       "    </tr>\n",
       "  </tbody>\n",
       "</table>\n",
       "<p>6937 rows × 3 columns</p>\n",
       "</div>"
      ],
      "text/plain": [
       "      source  target    weight\n",
       "0          0       1 -0.162508\n",
       "1          0       2 -0.057338\n",
       "2          0       3  0.083215\n",
       "3          0       4 -0.562044\n",
       "4          0       5 -0.026301\n",
       "...      ...     ...       ...\n",
       "6932     116     118 -0.086813\n",
       "6933     116     119  0.367687\n",
       "6934     117     118  0.247453\n",
       "6935     117     119 -0.278296\n",
       "6936     118     119  0.127717\n",
       "\n",
       "[6937 rows x 3 columns]"
      ]
     },
     "execution_count": 12,
     "metadata": {},
     "output_type": "execute_result"
    },
    {
     "name": "stdout",
     "output_type": "stream",
     "text": [
      "time: 8.48 ms (started: 2023-10-28 10:33:21 -05:00)\n"
     ]
    }
   ],
   "source": [
    "edges_data"
   ]
  },
  {
   "cell_type": "code",
   "execution_count": 7,
   "metadata": {},
   "outputs": [
    {
     "data": {
      "text/plain": [
       "(False, False, False)"
      ]
     },
     "execution_count": 7,
     "metadata": {},
     "output_type": "execute_result"
    },
    {
     "name": "stdout",
     "output_type": "stream",
     "text": [
      "time: 46.5 ms (started: 2023-10-28 10:30:31 -05:00)\n"
     ]
    }
   ],
   "source": [
    "train_data.is_directed(), val_data.is_directed(), test_data.is_directed()"
   ]
  },
  {
   "cell_type": "code",
   "execution_count": 8,
   "metadata": {},
   "outputs": [
    {
     "name": "stdout",
     "output_type": "stream",
     "text": [
      "Validate:\t True\n",
      "Num. nodes:\t 120\n",
      "Num. edges:\t 13874\n",
      "Num. features:\t 24\n",
      "Has isolated:\t False\n",
      "Has loops:\t False\n",
      "Is directed:\t False\n",
      "Is undirected:\t True\n",
      "time: 15.4 ms (started: 2023-10-28 10:30:33 -05:00)\n"
     ]
    },
    {
     "name": "stderr",
     "output_type": "stream",
     "text": [
      "/home/ealvarez/miniconda3/envs/meta_net_3.10/lib/python3.10/site-packages/torch_geometric/data/in_memory_dataset.py:284: UserWarning: It is not recommended to directly access the internal storage format `data` of an 'InMemoryDataset'. If you are absolutely certain what you are doing, access the internal storage via `InMemoryDataset._data` instead to suppress this warning. Alternatively, you can access stacked individual attributes of every graph via `dataset.{attr_name}`.\n",
      "  warnings.warn(msg)\n"
     ]
    }
   ],
   "source": [
    "dataset.info()"
   ]
  },
  {
   "cell_type": "code",
   "execution_count": 9,
   "metadata": {
    "notebookRunGroups": {
     "groupValue": "2"
    }
   },
   "outputs": [
    {
     "name": "stdout",
     "output_type": "stream",
     "text": [
      "Subgroups id:\t {'pck1': ['1', '2', '3'], 'zwf1': ['1', '2'], 'WT': ['1', '2', '3', '4', '5']}\n"
     ]
    },
    {
     "name": "stderr",
     "output_type": "stream",
     "text": [
      "100%|██████████| 3/3 [00:12<00:00,  4.32s/it]\n",
      "100%|██████████| 2/2 [00:08<00:00,  4.11s/it]\n",
      " 20%|██        | 1/5 [00:05<00:20,  5.08s/it]\n",
      " 67%|██████▋   | 2/3 [00:26<00:13, 13.14s/it]\n"
     ]
    },
    {
     "ename": "KeyboardInterrupt",
     "evalue": "",
     "output_type": "error",
     "traceback": [
      "\u001b[0;31m---------------------------------------------------------------------------\u001b[0m",
      "\u001b[0;31mKeyboardInterrupt\u001b[0m                         Traceback (most recent call last)",
      "\u001b[1;32m/home/ealvarez/Project/GNN_Unsupervised/c_vgae_tg_go.ipynb Cell 12\u001b[0m line \u001b[0;36m3\n\u001b[1;32m     <a href='vscode-notebook-cell://ssh-remote%2B172.19.4.251/home/ealvarez/Project/GNN_Unsupervised/c_vgae_tg_go.ipynb#X13sdnNjb2RlLXJlbW90ZQ%3D%3D?line=31'>32</a>\u001b[0m \u001b[39m# train\u001b[39;00m\n\u001b[1;32m     <a href='vscode-notebook-cell://ssh-remote%2B172.19.4.251/home/ealvarez/Project/GNN_Unsupervised/c_vgae_tg_go.ipynb#X13sdnNjb2RlLXJlbW90ZQ%3D%3D?line=32'>33</a>\u001b[0m model \u001b[39m=\u001b[39m VGAE(Encoder(dataset\u001b[39m.\u001b[39mnum_features, dimension))\u001b[39m.\u001b[39mto(device)\n\u001b[0;32m---> <a href='vscode-notebook-cell://ssh-remote%2B172.19.4.251/home/ealvarez/Project/GNN_Unsupervised/c_vgae_tg_go.ipynb#X13sdnNjb2RlLXJlbW90ZQ%3D%3D?line=33'>34</a>\u001b[0m train_vgae_tg(exp, model, train_data, test_data, method, group, subgroup, \u001b[39m0\u001b[39;49m)\n",
      "File \u001b[0;32m~/Project/GNN_Unsupervised/vgae/utils_vgae_tg.py:105\u001b[0m, in \u001b[0;36mtrain_vgae_tg\u001b[0;34m(exp, model, train_data, test_data, method, group, subgroup, iteration)\u001b[0m\n\u001b[1;32m    102\u001b[0m optimizer \u001b[39m=\u001b[39m torch\u001b[39m.\u001b[39moptim\u001b[39m.\u001b[39mAdam(model\u001b[39m.\u001b[39mparameters(), lr\u001b[39m=\u001b[39m\u001b[39m0.01\u001b[39m)\n\u001b[1;32m    104\u001b[0m \u001b[39mfor\u001b[39;00m epoch \u001b[39min\u001b[39;00m \u001b[39mrange\u001b[39m(\u001b[39m301\u001b[39m):\n\u001b[0;32m--> 105\u001b[0m     loss \u001b[39m=\u001b[39m train(model, optimizer, train_data)\n\u001b[1;32m    106\u001b[0m     val_auc, val_ap \u001b[39m=\u001b[39m test(model, test_data)\n\u001b[1;32m    107\u001b[0m \u001b[39m    \u001b[39m\u001b[39m\"\"\" if epoch % 50 == 0:\u001b[39;00m\n\u001b[1;32m    108\u001b[0m \u001b[39m        print(f'Epoch {epoch:>2} | Loss: {loss:.4f} | Val AUC: {val_auc:.4f} | Val AP: {val_ap:.4f}') \"\"\"\u001b[39;00m\n",
      "File \u001b[0;32m~/Project/GNN_Unsupervised/vgae/utils_vgae_tg.py:90\u001b[0m, in \u001b[0;36mtrain\u001b[0;34m(model, optimizer, train_data)\u001b[0m\n\u001b[1;32m     88\u001b[0m optimizer\u001b[39m.\u001b[39mzero_grad()\n\u001b[1;32m     89\u001b[0m z \u001b[39m=\u001b[39m model\u001b[39m.\u001b[39mencode(train_data\u001b[39m.\u001b[39mx, train_data\u001b[39m.\u001b[39medge_index)\n\u001b[0;32m---> 90\u001b[0m loss \u001b[39m=\u001b[39m model\u001b[39m.\u001b[39;49mrecon_loss(z, train_data\u001b[39m.\u001b[39;49mpos_edge_label_index) \u001b[39m+\u001b[39m (\u001b[39m1\u001b[39m \u001b[39m/\u001b[39m train_data\u001b[39m.\u001b[39mnum_nodes) \u001b[39m*\u001b[39m model\u001b[39m.\u001b[39mkl_loss()\n\u001b[1;32m     91\u001b[0m loss\u001b[39m.\u001b[39mbackward()\n\u001b[1;32m     92\u001b[0m optimizer\u001b[39m.\u001b[39mstep()\n",
      "File \u001b[0;32m~/miniconda3/envs/meta_net_3.10/lib/python3.10/site-packages/torch_geometric/nn/models/autoencoder.py:103\u001b[0m, in \u001b[0;36mGAE.recon_loss\u001b[0;34m(self, z, pos_edge_index, neg_edge_index)\u001b[0m\n\u001b[1;32m     99\u001b[0m pos_loss \u001b[39m=\u001b[39m \u001b[39m-\u001b[39mtorch\u001b[39m.\u001b[39mlog(\n\u001b[1;32m    100\u001b[0m     \u001b[39mself\u001b[39m\u001b[39m.\u001b[39mdecoder(z, pos_edge_index, sigmoid\u001b[39m=\u001b[39m\u001b[39mTrue\u001b[39;00m) \u001b[39m+\u001b[39m EPS)\u001b[39m.\u001b[39mmean()\n\u001b[1;32m    102\u001b[0m \u001b[39mif\u001b[39;00m neg_edge_index \u001b[39mis\u001b[39;00m \u001b[39mNone\u001b[39;00m:\n\u001b[0;32m--> 103\u001b[0m     neg_edge_index \u001b[39m=\u001b[39m negative_sampling(pos_edge_index, z\u001b[39m.\u001b[39;49msize(\u001b[39m0\u001b[39;49m))\n\u001b[1;32m    104\u001b[0m neg_loss \u001b[39m=\u001b[39m \u001b[39m-\u001b[39mtorch\u001b[39m.\u001b[39mlog(\u001b[39m1\u001b[39m \u001b[39m-\u001b[39m\n\u001b[1;32m    105\u001b[0m                       \u001b[39mself\u001b[39m\u001b[39m.\u001b[39mdecoder(z, neg_edge_index, sigmoid\u001b[39m=\u001b[39m\u001b[39mTrue\u001b[39;00m) \u001b[39m+\u001b[39m\n\u001b[1;32m    106\u001b[0m                       EPS)\u001b[39m.\u001b[39mmean()\n\u001b[1;32m    108\u001b[0m \u001b[39mreturn\u001b[39;00m pos_loss \u001b[39m+\u001b[39m neg_loss\n",
      "File \u001b[0;32m~/miniconda3/envs/meta_net_3.10/lib/python3.10/site-packages/torch_geometric/utils/negative_sampling.py:98\u001b[0m, in \u001b[0;36mnegative_sampling\u001b[0;34m(edge_index, num_nodes, num_neg_samples, method, force_undirected)\u001b[0m\n\u001b[1;32m     96\u001b[0m idx \u001b[39m=\u001b[39m idx\u001b[39m.\u001b[39mto(\u001b[39m'\u001b[39m\u001b[39mcpu\u001b[39m\u001b[39m'\u001b[39m)\n\u001b[1;32m     97\u001b[0m \u001b[39mfor\u001b[39;00m _ \u001b[39min\u001b[39;00m \u001b[39mrange\u001b[39m(\u001b[39m3\u001b[39m):  \u001b[39m# Number of tries to sample negative indices.\u001b[39;00m\n\u001b[0;32m---> 98\u001b[0m     rnd \u001b[39m=\u001b[39m sample(population, sample_size, device\u001b[39m=\u001b[39;49m\u001b[39m'\u001b[39;49m\u001b[39mcpu\u001b[39;49m\u001b[39m'\u001b[39;49m)\n\u001b[1;32m     99\u001b[0m     mask \u001b[39m=\u001b[39m np\u001b[39m.\u001b[39misin(rnd, idx)\n\u001b[1;32m    100\u001b[0m     \u001b[39mif\u001b[39;00m neg_idx \u001b[39mis\u001b[39;00m \u001b[39mnot\u001b[39;00m \u001b[39mNone\u001b[39;00m:\n",
      "File \u001b[0;32m~/miniconda3/envs/meta_net_3.10/lib/python3.10/site-packages/torch_geometric/utils/negative_sampling.py:305\u001b[0m, in \u001b[0;36msample\u001b[0;34m(population, k, device)\u001b[0m\n\u001b[1;32m    303\u001b[0m     \u001b[39mreturn\u001b[39;00m torch\u001b[39m.\u001b[39marange(population, device\u001b[39m=\u001b[39mdevice)\n\u001b[1;32m    304\u001b[0m \u001b[39melse\u001b[39;00m:\n\u001b[0;32m--> 305\u001b[0m     \u001b[39mreturn\u001b[39;00m torch\u001b[39m.\u001b[39mtensor(random\u001b[39m.\u001b[39;49msample(\u001b[39mrange\u001b[39;49m(population), k), device\u001b[39m=\u001b[39mdevice)\n",
      "File \u001b[0;32m~/miniconda3/envs/meta_net_3.10/lib/python3.10/random.py:492\u001b[0m, in \u001b[0;36mRandom.sample\u001b[0;34m(self, population, k, counts)\u001b[0m\n\u001b[1;32m    490\u001b[0m pool \u001b[39m=\u001b[39m \u001b[39mlist\u001b[39m(population)\n\u001b[1;32m    491\u001b[0m \u001b[39mfor\u001b[39;00m i \u001b[39min\u001b[39;00m \u001b[39mrange\u001b[39m(k):\n\u001b[0;32m--> 492\u001b[0m     j \u001b[39m=\u001b[39m randbelow(n \u001b[39m-\u001b[39;49m i)\n\u001b[1;32m    493\u001b[0m     result[i] \u001b[39m=\u001b[39m pool[j]\n\u001b[1;32m    494\u001b[0m     pool[j] \u001b[39m=\u001b[39m pool[n \u001b[39m-\u001b[39m i \u001b[39m-\u001b[39m \u001b[39m1\u001b[39m]  \u001b[39m# move non-selected item into vacancy\u001b[39;00m\n",
      "File \u001b[0;32m~/miniconda3/envs/meta_net_3.10/lib/python3.10/random.py:239\u001b[0m, in \u001b[0;36mRandom._randbelow_with_getrandbits\u001b[0;34m(self, n)\u001b[0m\n\u001b[1;32m    236\u001b[0m             \u001b[39mcls\u001b[39m\u001b[39m.\u001b[39m_randbelow \u001b[39m=\u001b[39m \u001b[39mcls\u001b[39m\u001b[39m.\u001b[39m_randbelow_without_getrandbits\n\u001b[1;32m    237\u001b[0m             \u001b[39mbreak\u001b[39;00m\n\u001b[0;32m--> 239\u001b[0m \u001b[39mdef\u001b[39;00m \u001b[39m_randbelow_with_getrandbits\u001b[39m(\u001b[39mself\u001b[39m, n):\n\u001b[1;32m    240\u001b[0m     \u001b[39m\"\u001b[39m\u001b[39mReturn a random int in the range [0,n).  Returns 0 if n==0.\u001b[39m\u001b[39m\"\u001b[39m\n\u001b[1;32m    242\u001b[0m     \u001b[39mif\u001b[39;00m \u001b[39mnot\u001b[39;00m n:\n",
      "\u001b[0;31mKeyboardInterrupt\u001b[0m: "
     ]
    },
    {
     "name": "stdout",
     "output_type": "stream",
     "text": [
      "time: 26.8 s (started: 2023-10-26 15:25:48 -05:00)\n"
     ]
    }
   ],
   "source": [
    "# get node embeddings\n",
    "device = torch.device('cuda' if torch.cuda.is_available() else 'cpu')\n",
    "seed = 42\n",
    "\n",
    "for data_variation in data_variations:\n",
    "    if data_variation != \"none\":\n",
    "        for group in groups_id:\n",
    "            subgroups_id[group] = [data_variation]\n",
    "        torch.manual_seed(seed)\n",
    "        np.random.seed(seed)\n",
    "    else:\n",
    "        torch.manual_seed(seed)\n",
    "        np.random.seed(seed)\n",
    "\n",
    "    print(\"Subgroups id:\\t\", subgroups_id)\n",
    "    \n",
    "    for group in tqdm(groups_id):\n",
    "        for subgroup in tqdm(subgroups_id[group]):\n",
    "            nodes_data = pd.read_csv(\"output/{}/preprocessing/graphs_data/nodes_data_{}_{}.csv\".format(exp, group, subgroup)).iloc[:, 2:]\n",
    "            edges_data = pd.read_csv(\"output/{}/preprocessing/graphs_data/edges_data_{}_{}.csv\".format(exp, group, subgroup))\n",
    "\n",
    "            # read dataset\n",
    "            transform = T.Compose([\n",
    "                T.NormalizeFeatures(),\n",
    "                T.ToDevice(device),\n",
    "                T.RandomLinkSplit(num_val=0.05, num_test=0.1, is_undirected=True, split_labels=True, add_negative_train_samples=False),\n",
    "                # T.RandomNodeSplit(num_val=0.05, num_test=0.1),\n",
    "            ])\n",
    "            dataset = CustomDataset(nodes_data, edges_data, transform=transform)\n",
    "            train_data, val_data, test_data = dataset[0]\n",
    "\n",
    "            # train\n",
    "            model = VGAE(Encoder(dataset.num_features, dimension)).to(device)\n",
    "            train_vgae_tg(exp, model, train_data, test_data, method, group, subgroup, 0)\n",
    "            "
   ]
  },
  {
   "cell_type": "code",
   "execution_count": null,
   "metadata": {},
   "outputs": [
    {
     "data": {
      "text/html": [
       "<div>\n",
       "<style scoped>\n",
       "    .dataframe tbody tr th:only-of-type {\n",
       "        vertical-align: middle;\n",
       "    }\n",
       "\n",
       "    .dataframe tbody tr th {\n",
       "        vertical-align: top;\n",
       "    }\n",
       "\n",
       "    .dataframe thead th {\n",
       "        text-align: right;\n",
       "    }\n",
       "</style>\n",
       "<table border=\"1\" class=\"dataframe\">\n",
       "  <thead>\n",
       "    <tr style=\"text-align: right;\">\n",
       "      <th></th>\n",
       "      <th>0</th>\n",
       "      <th>1</th>\n",
       "      <th>2</th>\n",
       "    </tr>\n",
       "  </thead>\n",
       "  <tbody>\n",
       "    <tr>\n",
       "      <th>0</th>\n",
       "      <td>0.000935</td>\n",
       "      <td>-0.013585</td>\n",
       "      <td>0.017064</td>\n",
       "    </tr>\n",
       "    <tr>\n",
       "      <th>1</th>\n",
       "      <td>-0.000733</td>\n",
       "      <td>-0.016786</td>\n",
       "      <td>0.016931</td>\n",
       "    </tr>\n",
       "    <tr>\n",
       "      <th>2</th>\n",
       "      <td>0.002580</td>\n",
       "      <td>-0.010430</td>\n",
       "      <td>0.017195</td>\n",
       "    </tr>\n",
       "    <tr>\n",
       "      <th>3</th>\n",
       "      <td>0.002752</td>\n",
       "      <td>-0.010103</td>\n",
       "      <td>0.017208</td>\n",
       "    </tr>\n",
       "    <tr>\n",
       "      <th>4</th>\n",
       "      <td>0.001849</td>\n",
       "      <td>-0.011833</td>\n",
       "      <td>0.017137</td>\n",
       "    </tr>\n",
       "    <tr>\n",
       "      <th>...</th>\n",
       "      <td>...</td>\n",
       "      <td>...</td>\n",
       "      <td>...</td>\n",
       "    </tr>\n",
       "    <tr>\n",
       "      <th>115</th>\n",
       "      <td>0.005171</td>\n",
       "      <td>-0.005463</td>\n",
       "      <td>0.017401</td>\n",
       "    </tr>\n",
       "    <tr>\n",
       "      <th>116</th>\n",
       "      <td>0.006135</td>\n",
       "      <td>-0.003615</td>\n",
       "      <td>0.017477</td>\n",
       "    </tr>\n",
       "    <tr>\n",
       "      <th>117</th>\n",
       "      <td>-0.002376</td>\n",
       "      <td>-0.019939</td>\n",
       "      <td>0.016800</td>\n",
       "    </tr>\n",
       "    <tr>\n",
       "      <th>118</th>\n",
       "      <td>0.001006</td>\n",
       "      <td>-0.013451</td>\n",
       "      <td>0.017069</td>\n",
       "    </tr>\n",
       "    <tr>\n",
       "      <th>119</th>\n",
       "      <td>0.000146</td>\n",
       "      <td>-0.015102</td>\n",
       "      <td>0.017001</td>\n",
       "    </tr>\n",
       "  </tbody>\n",
       "</table>\n",
       "<p>120 rows × 3 columns</p>\n",
       "</div>"
      ],
      "text/plain": [
       "            0         1         2\n",
       "0    0.000935 -0.013585  0.017064\n",
       "1   -0.000733 -0.016786  0.016931\n",
       "2    0.002580 -0.010430  0.017195\n",
       "3    0.002752 -0.010103  0.017208\n",
       "4    0.001849 -0.011833  0.017137\n",
       "..        ...       ...       ...\n",
       "115  0.005171 -0.005463  0.017401\n",
       "116  0.006135 -0.003615  0.017477\n",
       "117 -0.002376 -0.019939  0.016800\n",
       "118  0.001006 -0.013451  0.017069\n",
       "119  0.000146 -0.015102  0.017001\n",
       "\n",
       "[120 rows x 3 columns]"
      ]
     },
     "execution_count": 10,
     "metadata": {},
     "output_type": "execute_result"
    },
    {
     "name": "stdout",
     "output_type": "stream",
     "text": [
      "time: 7.52 ms (started: 2023-10-23 15:00:20 -05:00)\n"
     ]
    }
   ],
   "source": [
    "df_node_embeddings = pd.read_csv(\"output/{}/node_embeddings/node-embeddings_{}_{}_{}_{}.csv\".format(exp, method, groups_id[0], \n",
    "                                                                                                    subgroups_id[groups_id[0]][0], 0), index_col=0)\n",
    "df_node_embeddings"
   ]
  }
 ],
 "metadata": {
  "kernelspec": {
   "display_name": "Python 3 (ipykernel)",
   "language": "python",
   "name": "python3"
  },
  "language_info": {
   "codemirror_mode": {
    "name": "ipython",
    "version": 3
   },
   "file_extension": ".py",
   "mimetype": "text/x-python",
   "name": "python",
   "nbconvert_exporter": "python",
   "pygments_lexer": "ipython3",
   "version": "3.10.12"
  },
  "orig_nbformat": 4
 },
 "nbformat": 4,
 "nbformat_minor": 2
}
