{
 "cells": [
  {
   "attachments": {},
   "cell_type": "markdown",
   "metadata": {},
   "source": [
    "### Imports"
   ]
  },
  {
   "cell_type": "code",
   "execution_count": 10,
   "metadata": {
    "notebookRunGroups": {
     "groupValue": ""
    }
   },
   "outputs": [],
   "source": [
    "import json\n",
    "import time\n",
    "\n",
    "from pyod.models.ecod import ECOD\n",
    "from tqdm import tqdm\n",
    "import networkx as nx\n",
    "import numpy as np\n",
    "import pandas as pd\n",
    "import pingouin as pg\n",
    "import torch\n",
    "import torch_geometric.transforms as T\n",
    "\n",
    "from utils.utils_go import *\n",
    "# from dgi.utils_dgi import *\n",
    "# from vgae.utils_vgae import *\n",
    "# from vgae.utils_vgae_tg import *\n",
    "from unsupervised_models.models import *\n",
    "\n",
    "# os.environ[\"DGLBACKEND\"] = \"pytorch\"\n",
    "# %load_ext autotime"
   ]
  },
  {
   "cell_type": "code",
   "execution_count": 11,
   "metadata": {},
   "outputs": [],
   "source": [
    "torch.manual_seed(0)\n",
    "torch.cuda.manual_seed(0)\n",
    "torch.cuda.manual_seed_all(0)\n",
    "torch.backends.cudnn.deterministic = True\n",
    "torch.backends.cudnn.benchmark = False"
   ]
  },
  {
   "cell_type": "code",
   "execution_count": 12,
   "metadata": {},
   "outputs": [
    {
     "name": "stdout",
     "output_type": "stream",
     "text": [
      "11.8\n",
      "2.0.0\n"
     ]
    }
   ],
   "source": [
    "import torch\n",
    "\n",
    "!python -c \"import torch; print(torch.version.cuda)\"\n",
    "!python -c \"import torch; print(torch.__version__)\""
   ]
  },
  {
   "attachments": {},
   "cell_type": "markdown",
   "metadata": {},
   "source": [
    "### Parameters"
   ]
  },
  {
   "cell_type": "code",
   "execution_count": 13,
   "metadata": {
    "notebookRunGroups": {
     "groupValue": ""
    }
   },
   "outputs": [
    {
     "name": "stdout",
     "output_type": "stream",
     "text": [
      "Exp:\t\t exp65\n",
      "Methods:\t ['dgi-tran', 'argva-base', 'vgae-line', 'vgae-base']\n",
      "Data variations: ['none', 'str', 'dyn']\n",
      "Dimension:\t 3\n",
      "Threshold corr:\t 0.3\n",
      "Iterations:\t 1\n",
      "Groups id:\t ['WT-YNB', 'S51A-YNB', 'WT-Tyr', 'S51A-Tyr', 'WT-total', 'WT-vac', 'avt1-total', 'avt1-vac', 'aa-standard']\n",
      "Subgroups id:\t {'WT-YNB': ['1', '2'], 'S51A-YNB': ['1', '2'], 'WT-Tyr': ['1', '2'], 'S51A-Tyr': ['1', '2'], 'WT-total': ['1', '2'], 'WT-vac': ['1', '2'], 'avt1-total': ['1', '2'], 'avt1-vac': ['1', '2'], 'aa-standard': ['1', '2']}\n",
      "Seeds:\t\t [41, 42, 43, 44, 45, 46]\n"
     ]
    }
   ],
   "source": [
    "file = open(\"exp.json\")\n",
    "experiment = json.load(file)\n",
    "exp_num = experiment[\"exp\"]\n",
    "\n",
    "file = open(\"output/{}/parameters.json\".format(exp_num))\n",
    "params = json.load(file)\n",
    "\n",
    "exp = params[\"exp\"]\n",
    "print(\"Exp:\\t\\t\", exp)\n",
    "\n",
    "methods = params[\"methods\"]\n",
    "print(\"Methods:\\t\", methods)\n",
    "\n",
    "data_variations = params[\"data_variations\"]\n",
    "print(\"Data variations:\", data_variations)\n",
    "\n",
    "dimension = params[\"dimension\"]\n",
    "print(\"Dimension:\\t\", dimension)\n",
    "\n",
    "threshold_corr = params[\"threshold_corr\"]\n",
    "print(\"Threshold corr:\\t\", threshold_corr)\n",
    "\n",
    "iterations = params[\"iterations\"]\n",
    "print(\"Iterations:\\t\", iterations)\n",
    "\n",
    "groups_id = params[\"groups_id\"]\n",
    "print(\"Groups id:\\t\", groups_id)\n",
    "\n",
    "subgroups_id_ = params[\"subgroups_id\"]\n",
    "print(\"Subgroups id:\\t\", subgroups_id_)\n",
    "\n",
    "seeds = params[\"seeds\"]\n",
    "print(\"Seeds:\\t\\t\", seeds)"
   ]
  },
  {
   "cell_type": "markdown",
   "metadata": {},
   "source": [
    "### Node-Edge embeddings"
   ]
  },
  {
   "cell_type": "code",
   "execution_count": 14,
   "metadata": {},
   "outputs": [
    {
     "name": "stdout",
     "output_type": "stream",
     "text": [
      "cuda:0\n",
      "dgi-tran none\n",
      "Node-embeddings\n",
      "Subgroups id:\t {'WT-YNB': ['1', '2'], 'S51A-YNB': ['1', '2'], 'WT-Tyr': ['1', '2'], 'S51A-Tyr': ['1', '2'], 'WT-total': ['1', '2'], 'WT-vac': ['1', '2'], 'avt1-total': ['1', '2'], 'avt1-vac': ['1', '2'], 'aa-standard': ['1', '2']}\n"
     ]
    },
    {
     "name": "stderr",
     "output_type": "stream",
     "text": [
      "Epoch: 12:   0%|          | 0/50 [00:00<?, ?it/s, Loss: 1.3869]"
     ]
    },
    {
     "name": "stderr",
     "output_type": "stream",
     "text": [
      "Epoch: 18:  34%|███▍      | 17/50 [00:00<00:00, 259.07it/s, Loss: 1.3872]\n"
     ]
    },
    {
     "name": "stdout",
     "output_type": "stream",
     "text": [
      "Early stopping, epoch: 18\n"
     ]
    },
    {
     "name": "stderr",
     "output_type": "stream",
     "text": [
      "Epoch: 8:  14%|█▍        | 7/50 [00:00<00:00, 255.69it/s, Loss: 1.3863]\n"
     ]
    },
    {
     "name": "stdout",
     "output_type": "stream",
     "text": [
      "Early stopping, epoch: 8\n"
     ]
    },
    {
     "name": "stderr",
     "output_type": "stream",
     "text": [
      "Epoch: 11:  20%|██        | 10/50 [00:00<00:00, 265.26it/s, Loss: 1.3867]\n"
     ]
    },
    {
     "name": "stdout",
     "output_type": "stream",
     "text": [
      "Early stopping, epoch: 11\n"
     ]
    },
    {
     "name": "stderr",
     "output_type": "stream",
     "text": [
      "Epoch: 6:  10%|█         | 5/50 [00:00<00:00, 239.38it/s, Loss: 1.3863]\n"
     ]
    },
    {
     "name": "stdout",
     "output_type": "stream",
     "text": [
      "Early stopping, epoch: 6\n"
     ]
    },
    {
     "name": "stderr",
     "output_type": "stream",
     "text": [
      "Epoch: 6:  10%|█         | 5/50 [00:00<00:00, 245.67it/s, Loss: 1.3863]\n"
     ]
    },
    {
     "name": "stdout",
     "output_type": "stream",
     "text": [
      "Early stopping, epoch: 6\n"
     ]
    },
    {
     "name": "stderr",
     "output_type": "stream",
     "text": [
      "Epoch: 20:  38%|███▊      | 19/50 [00:00<00:00, 269.55it/s, Loss: 1.3868]\n"
     ]
    },
    {
     "name": "stdout",
     "output_type": "stream",
     "text": [
      "Early stopping, epoch: 20\n"
     ]
    },
    {
     "name": "stderr",
     "output_type": "stream",
     "text": [
      "Epoch: 14:  26%|██▌       | 13/50 [00:00<00:00, 265.52it/s, Loss: 1.3863]\n"
     ]
    },
    {
     "name": "stdout",
     "output_type": "stream",
     "text": [
      "Early stopping, epoch: 14\n"
     ]
    },
    {
     "name": "stderr",
     "output_type": "stream",
     "text": [
      "Epoch: 9:  16%|█▌        | 8/50 [00:00<00:00, 258.07it/s, Loss: 1.3864]\n"
     ]
    },
    {
     "name": "stdout",
     "output_type": "stream",
     "text": [
      "Early stopping, epoch: 9\n"
     ]
    },
    {
     "name": "stderr",
     "output_type": "stream",
     "text": [
      "Epoch: 11:  20%|██        | 10/50 [00:00<00:00, 259.41it/s, Loss: 1.3868]\n"
     ]
    },
    {
     "name": "stdout",
     "output_type": "stream",
     "text": [
      "Early stopping, epoch: 11\n"
     ]
    },
    {
     "name": "stderr",
     "output_type": "stream",
     "text": [
      "Epoch: 18:  34%|███▍      | 17/50 [00:00<00:00, 266.94it/s, Loss: 1.3869]\n"
     ]
    },
    {
     "name": "stdout",
     "output_type": "stream",
     "text": [
      "Early stopping, epoch: 18\n"
     ]
    },
    {
     "name": "stderr",
     "output_type": "stream",
     "text": [
      "Epoch: 12:  22%|██▏       | 11/50 [00:00<00:00, 266.28it/s, Loss: 1.3864]"
     ]
    },
    {
     "name": "stdout",
     "output_type": "stream",
     "text": [
      "Early stopping, epoch: 12\n"
     ]
    },
    {
     "name": "stderr",
     "output_type": "stream",
     "text": [
      "\n",
      "Epoch: 50: 100%|██████████| 50/50 [00:00<00:00, 279.20it/s, Loss: 1.3863]\n",
      "Epoch: 13:  24%|██▍       | 12/50 [00:00<00:00, 245.70it/s, Loss: 1.3867]\n"
     ]
    },
    {
     "name": "stdout",
     "output_type": "stream",
     "text": [
      "Early stopping, epoch: 13\n"
     ]
    },
    {
     "name": "stderr",
     "output_type": "stream",
     "text": [
      "Epoch: 23:  44%|████▍     | 22/50 [00:00<00:00, 277.52it/s, Loss: 1.3863]\n"
     ]
    },
    {
     "name": "stdout",
     "output_type": "stream",
     "text": [
      "Early stopping, epoch: 23\n"
     ]
    },
    {
     "name": "stderr",
     "output_type": "stream",
     "text": [
      "Epoch: 12:  22%|██▏       | 11/50 [00:00<00:00, 269.80it/s, Loss: 1.3863]\n"
     ]
    },
    {
     "name": "stdout",
     "output_type": "stream",
     "text": [
      "Early stopping, epoch: 12\n"
     ]
    },
    {
     "name": "stderr",
     "output_type": "stream",
     "text": [
      "Epoch: 14:  26%|██▌       | 13/50 [00:00<00:00, 269.06it/s, Loss: 1.3863]\n"
     ]
    },
    {
     "name": "stdout",
     "output_type": "stream",
     "text": [
      "Early stopping, epoch: 14\n"
     ]
    },
    {
     "name": "stderr",
     "output_type": "stream",
     "text": [
      "Epoch: 11:  20%|██        | 10/50 [00:00<00:00, 258.01it/s, Loss: 1.3870]\n"
     ]
    },
    {
     "name": "stdout",
     "output_type": "stream",
     "text": [
      "Early stopping, epoch: 11\n"
     ]
    },
    {
     "name": "stderr",
     "output_type": "stream",
     "text": [
      "Epoch: 16:  30%|███       | 15/50 [00:00<00:00, 266.45it/s, Loss: 1.3870]\n"
     ]
    },
    {
     "name": "stdout",
     "output_type": "stream",
     "text": [
      "Early stopping, epoch: 16\n",
      "Edge-embeddings\n"
     ]
    },
    {
     "name": "stderr",
     "output_type": "stream",
     "text": [
      "100%|██████████| 2/2 [00:01<00:00,  1.98it/s]\n",
      "100%|██████████| 2/2 [00:00<00:00,  2.15it/s]\n",
      "100%|██████████| 2/2 [00:01<00:00,  1.96it/s]\n",
      "100%|██████████| 2/2 [00:01<00:00,  1.93it/s]\n",
      "100%|██████████| 2/2 [00:00<00:00,  2.02it/s]\n",
      "100%|██████████| 2/2 [00:00<00:00,  2.04it/s]\n",
      "100%|██████████| 2/2 [00:00<00:00,  2.02it/s]\n",
      "100%|██████████| 2/2 [00:01<00:00,  1.96it/s]\n",
      "100%|██████████| 2/2 [00:01<00:00,  1.97it/s]\n",
      "100%|██████████| 9/9 [00:09<00:00,  1.00s/it]\n",
      "100%|██████████| 2/2 [00:00<00:00, 163.38it/s]\n",
      "100%|██████████| 2/2 [00:00<00:00, 259.06it/s]\n",
      "100%|██████████| 2/2 [00:00<00:00, 281.40it/s]\n",
      "100%|██████████| 2/2 [00:00<00:00, 261.10it/s]\n",
      "100%|██████████| 2/2 [00:00<00:00, 297.98it/s]\n",
      "100%|██████████| 2/2 [00:00<00:00, 282.12it/s]\n",
      "100%|██████████| 2/2 [00:00<00:00, 295.71it/s]\n",
      "100%|██████████| 2/2 [00:00<00:00, 271.76it/s]\n",
      "100%|██████████| 2/2 [00:00<00:00, 282.16it/s]\n",
      "100%|██████████| 9/9 [00:00<00:00, 103.79it/s]\n"
     ]
    },
    {
     "name": "stdout",
     "output_type": "stream",
     "text": [
      "Outlier detection\n"
     ]
    },
    {
     "name": "stderr",
     "output_type": "stream",
     "text": [
      "100%|██████████| 9/9 [00:00<00:00, 29.45it/s]\n",
      "100%|██████████| 9/9 [00:00<00:00, 266.74it/s]\n",
      "100%|██████████| 9/9 [00:00<00:00, 72.59it/s]\n"
     ]
    },
    {
     "name": "stdout",
     "output_type": "stream",
     "text": [
      "dgi-tran str\n",
      "Node-embeddings\n",
      "Subgroups id:\t {'WT-YNB': ['str'], 'S51A-YNB': ['str'], 'WT-Tyr': ['str'], 'S51A-Tyr': ['str'], 'WT-total': ['str'], 'WT-vac': ['str'], 'avt1-total': ['str'], 'avt1-vac': ['str'], 'aa-standard': ['str']}\n"
     ]
    },
    {
     "name": "stderr",
     "output_type": "stream",
     "text": [
      "Epoch: 18:  34%|███▍      | 17/50 [00:00<00:00, 224.92it/s, Loss: 1.3872]\n"
     ]
    },
    {
     "name": "stdout",
     "output_type": "stream",
     "text": [
      "Early stopping, epoch: 18\n"
     ]
    },
    {
     "name": "stderr",
     "output_type": "stream",
     "text": [
      "Epoch: 8:  14%|█▍        | 7/50 [00:00<00:00, 214.88it/s, Loss: 1.3863]\n"
     ]
    },
    {
     "name": "stdout",
     "output_type": "stream",
     "text": [
      "Early stopping, epoch: 8\n"
     ]
    },
    {
     "name": "stderr",
     "output_type": "stream",
     "text": [
      "Epoch: 10:  18%|█▊        | 9/50 [00:00<00:00, 216.67it/s, Loss: 1.3867]\n"
     ]
    },
    {
     "name": "stdout",
     "output_type": "stream",
     "text": [
      "Early stopping, epoch: 10\n"
     ]
    },
    {
     "name": "stderr",
     "output_type": "stream",
     "text": [
      "Epoch: 17:  32%|███▏      | 16/50 [00:00<00:00, 235.53it/s, Loss: 1.3863]\n"
     ]
    },
    {
     "name": "stdout",
     "output_type": "stream",
     "text": [
      "Early stopping, epoch: 17\n"
     ]
    },
    {
     "name": "stderr",
     "output_type": "stream",
     "text": [
      "Epoch: 6:  10%|█         | 5/50 [00:00<00:00, 208.01it/s, Loss: 1.3863]\n"
     ]
    },
    {
     "name": "stdout",
     "output_type": "stream",
     "text": [
      "Early stopping, epoch: 6\n"
     ]
    },
    {
     "name": "stderr",
     "output_type": "stream",
     "text": [
      "Epoch: 20:  38%|███▊      | 19/50 [00:00<00:00, 221.67it/s, Loss: 1.3867]\n"
     ]
    },
    {
     "name": "stdout",
     "output_type": "stream",
     "text": [
      "Early stopping, epoch: 20\n"
     ]
    },
    {
     "name": "stderr",
     "output_type": "stream",
     "text": [
      "Epoch: 14:  26%|██▌       | 13/50 [00:00<00:00, 220.86it/s, Loss: 1.3863]\n"
     ]
    },
    {
     "name": "stdout",
     "output_type": "stream",
     "text": [
      "Early stopping, epoch: 14\n"
     ]
    },
    {
     "name": "stderr",
     "output_type": "stream",
     "text": [
      "Epoch: 9:  16%|█▌        | 8/50 [00:00<00:00, 214.53it/s, Loss: 1.3865]\n"
     ]
    },
    {
     "name": "stdout",
     "output_type": "stream",
     "text": [
      "Early stopping, epoch: 9\n"
     ]
    },
    {
     "name": "stderr",
     "output_type": "stream",
     "text": [
      "Epoch: 11:  20%|██        | 10/50 [00:00<00:00, 225.06it/s, Loss: 1.3868]\n"
     ]
    },
    {
     "name": "stdout",
     "output_type": "stream",
     "text": [
      "Early stopping, epoch: 11\n",
      "Edge-embeddings\n"
     ]
    },
    {
     "name": "stderr",
     "output_type": "stream",
     "text": [
      "100%|██████████| 1/1 [00:00<00:00,  1.85it/s]\n",
      "100%|██████████| 1/1 [00:00<00:00,  1.97it/s]\n",
      "100%|██████████| 1/1 [00:00<00:00,  1.95it/s]\n",
      "100%|██████████| 1/1 [00:00<00:00,  1.93it/s]\n",
      "100%|██████████| 1/1 [00:00<00:00,  1.90it/s]\n",
      "100%|██████████| 1/1 [00:00<00:00,  1.89it/s]\n",
      "100%|██████████| 1/1 [00:00<00:00,  1.90it/s]\n",
      "100%|██████████| 1/1 [00:00<00:00,  1.98it/s]\n",
      "100%|██████████| 1/1 [00:00<00:00,  1.89it/s]\n",
      "100%|██████████| 9/9 [00:04<00:00,  1.91it/s]\n",
      "100%|██████████| 1/1 [00:00<00:00, 91.43it/s]\n",
      "100%|██████████| 1/1 [00:00<00:00, 147.99it/s]\n",
      "100%|██████████| 1/1 [00:00<00:00, 156.87it/s]\n",
      "100%|██████████| 1/1 [00:00<00:00, 124.10it/s]\n",
      "100%|██████████| 1/1 [00:00<00:00, 180.94it/s]\n",
      "100%|██████████| 1/1 [00:00<00:00, 156.86it/s]\n",
      "100%|██████████| 1/1 [00:00<00:00, 181.28it/s]\n",
      "100%|██████████| 1/1 [00:00<00:00, 166.59it/s]\n",
      "100%|██████████| 1/1 [00:00<00:00, 166.84it/s]\n",
      "100%|██████████| 9/9 [00:00<00:00, 118.84it/s]\n"
     ]
    },
    {
     "name": "stdout",
     "output_type": "stream",
     "text": [
      "Outlier detection\n"
     ]
    },
    {
     "name": "stderr",
     "output_type": "stream",
     "text": [
      "100%|██████████| 9/9 [00:00<00:00, 29.49it/s]\n",
      "100%|██████████| 9/9 [00:00<00:00, 435.66it/s]\n",
      "100%|██████████| 9/9 [00:00<00:00, 202.25it/s]\n",
      "100%|██████████| 9/9 [00:00<00:00, 3573.00it/s]\n",
      "100%|██████████| 9/9 [00:00<00:00, 71.58it/s]\n"
     ]
    },
    {
     "name": "stdout",
     "output_type": "stream",
     "text": [
      "dgi-tran dyn\n",
      "Node-embeddings\n",
      "Subgroups id:\t {'WT-YNB': ['dyn'], 'S51A-YNB': ['dyn'], 'WT-Tyr': ['dyn'], 'S51A-Tyr': ['dyn'], 'WT-total': ['dyn'], 'WT-vac': ['dyn'], 'avt1-total': ['dyn'], 'avt1-vac': ['dyn'], 'aa-standard': ['dyn']}\n"
     ]
    },
    {
     "name": "stderr",
     "output_type": "stream",
     "text": [
      "Epoch: 18:  34%|███▍      | 17/50 [00:00<00:00, 188.22it/s, Loss: 1.3872]\n"
     ]
    },
    {
     "name": "stdout",
     "output_type": "stream",
     "text": [
      "Early stopping, epoch: 18\n"
     ]
    },
    {
     "name": "stderr",
     "output_type": "stream",
     "text": [
      "Epoch: 8:  14%|█▍        | 7/50 [00:00<00:00, 201.42it/s, Loss: 1.3863]\n"
     ]
    },
    {
     "name": "stdout",
     "output_type": "stream",
     "text": [
      "Early stopping, epoch: 8\n"
     ]
    },
    {
     "name": "stderr",
     "output_type": "stream",
     "text": [
      "Epoch: 10:  18%|█▊        | 9/50 [00:00<00:00, 214.56it/s, Loss: 1.3867]\n"
     ]
    },
    {
     "name": "stdout",
     "output_type": "stream",
     "text": [
      "Early stopping, epoch: 10\n"
     ]
    },
    {
     "name": "stderr",
     "output_type": "stream",
     "text": [
      "Epoch: 22:  42%|████▏     | 21/50 [00:00<00:00, 241.70it/s, Loss: 1.3863]\n"
     ]
    },
    {
     "name": "stdout",
     "output_type": "stream",
     "text": [
      "Early stopping, epoch: 22\n"
     ]
    },
    {
     "name": "stderr",
     "output_type": "stream",
     "text": [
      "Epoch: 6:  10%|█         | 5/50 [00:00<00:00, 209.05it/s, Loss: 1.3863]\n"
     ]
    },
    {
     "name": "stdout",
     "output_type": "stream",
     "text": [
      "Early stopping, epoch: 6\n"
     ]
    },
    {
     "name": "stderr",
     "output_type": "stream",
     "text": [
      "Epoch: 20:  38%|███▊      | 19/50 [00:00<00:00, 240.36it/s, Loss: 1.3867]\n"
     ]
    },
    {
     "name": "stdout",
     "output_type": "stream",
     "text": [
      "Early stopping, epoch: 20\n"
     ]
    },
    {
     "name": "stderr",
     "output_type": "stream",
     "text": [
      "Epoch: 14:  26%|██▌       | 13/50 [00:00<00:00, 251.70it/s, Loss: 1.3863]\n"
     ]
    },
    {
     "name": "stdout",
     "output_type": "stream",
     "text": [
      "Early stopping, epoch: 14\n"
     ]
    },
    {
     "name": "stderr",
     "output_type": "stream",
     "text": [
      "Epoch: 9:  16%|█▌        | 8/50 [00:00<00:00, 244.54it/s, Loss: 1.3865]\n"
     ]
    },
    {
     "name": "stdout",
     "output_type": "stream",
     "text": [
      "Early stopping, epoch: 9\n"
     ]
    },
    {
     "name": "stderr",
     "output_type": "stream",
     "text": [
      "Epoch: 11:  20%|██        | 10/50 [00:00<00:00, 256.77it/s, Loss: 1.3868]\n"
     ]
    },
    {
     "name": "stdout",
     "output_type": "stream",
     "text": [
      "Early stopping, epoch: 11\n",
      "Edge-embeddings\n"
     ]
    },
    {
     "name": "stderr",
     "output_type": "stream",
     "text": [
      "100%|██████████| 1/1 [00:00<00:00,  1.91it/s]\n",
      "100%|██████████| 1/1 [00:00<00:00,  1.82it/s]\n",
      "100%|██████████| 1/1 [00:00<00:00,  1.91it/s]\n",
      "100%|██████████| 1/1 [00:00<00:00,  1.86it/s]\n",
      "100%|██████████| 1/1 [00:00<00:00,  1.93it/s]\n",
      "100%|██████████| 1/1 [00:00<00:00,  1.98it/s]\n",
      "100%|██████████| 1/1 [00:00<00:00,  1.95it/s]\n",
      "100%|██████████| 1/1 [00:00<00:00,  1.85it/s]\n",
      "100%|██████████| 1/1 [00:00<00:00,  1.86it/s]\n",
      "100%|██████████| 9/9 [00:04<00:00,  1.89it/s]\n",
      "100%|██████████| 1/1 [00:00<00:00, 78.17it/s]\n",
      "100%|██████████| 1/1 [00:00<00:00, 143.39it/s]\n",
      "100%|██████████| 1/1 [00:00<00:00, 163.53it/s]\n",
      "100%|██████████| 1/1 [00:00<00:00, 134.63it/s]\n",
      "100%|██████████| 1/1 [00:00<00:00, 145.16it/s]\n",
      "100%|██████████| 1/1 [00:00<00:00, 144.31it/s]\n",
      "100%|██████████| 1/1 [00:00<00:00, 147.24it/s]\n",
      "100%|██████████| 1/1 [00:00<00:00, 148.83it/s]\n",
      "100%|██████████| 1/1 [00:00<00:00, 158.82it/s]\n",
      "100%|██████████| 9/9 [00:00<00:00, 110.55it/s]\n"
     ]
    },
    {
     "name": "stdout",
     "output_type": "stream",
     "text": [
      "Outlier detection\n"
     ]
    },
    {
     "name": "stderr",
     "output_type": "stream",
     "text": [
      "100%|██████████| 9/9 [00:00<00:00, 23.73it/s]\n",
      "100%|██████████| 9/9 [00:00<00:00, 428.47it/s]\n",
      "100%|██████████| 9/9 [00:00<00:00, 201.80it/s]\n",
      "100%|██████████| 9/9 [00:00<00:00, 2508.89it/s]\n",
      "100%|██████████| 9/9 [00:00<00:00, 71.44it/s]\n",
      "/home/ealvarez/miniconda3/envs/gnn_unsupervised_3.10/lib/python3.10/site-packages/torch_geometric/transforms/random_link_split.py:220: UserWarning: There are not enough negative edges to satisfy the provided sampling ratio. The ratio will be adjusted to 0.00.\n",
      "  warnings.warn(\n"
     ]
    },
    {
     "name": "stdout",
     "output_type": "stream",
     "text": [
      "argva-base none\n",
      "Node-embeddings\n",
      "Subgroups id:\t {'WT-YNB': ['1', '2'], 'S51A-YNB': ['1', '2'], 'WT-Tyr': ['1', '2'], 'S51A-Tyr': ['1', '2'], 'WT-total': ['1', '2'], 'WT-vac': ['1', '2'], 'avt1-total': ['1', '2'], 'avt1-vac': ['1', '2'], 'aa-standard': ['1', '2']}\n"
     ]
    },
    {
     "name": "stderr",
     "output_type": "stream",
     "text": [
      "Epoch: 14:  26%|██▌       | 13/50 [00:00<00:00, 52.65it/s, Loss: 2.1980]\n",
      "/home/ealvarez/miniconda3/envs/gnn_unsupervised_3.10/lib/python3.10/site-packages/torch_geometric/transforms/random_link_split.py:220: UserWarning: There are not enough negative edges to satisfy the provided sampling ratio. The ratio will be adjusted to 0.00.\n",
      "  warnings.warn(\n"
     ]
    },
    {
     "name": "stdout",
     "output_type": "stream",
     "text": [
      "Early stopping, epoch: 14\n"
     ]
    },
    {
     "name": "stderr",
     "output_type": "stream",
     "text": [
      "Epoch: 19:  36%|███▌      | 18/50 [00:00<00:00, 54.51it/s, Loss: 2.3022]\n",
      "/home/ealvarez/miniconda3/envs/gnn_unsupervised_3.10/lib/python3.10/site-packages/torch_geometric/transforms/random_link_split.py:220: UserWarning: There are not enough negative edges to satisfy the provided sampling ratio. The ratio will be adjusted to 0.00.\n",
      "  warnings.warn(\n"
     ]
    },
    {
     "name": "stdout",
     "output_type": "stream",
     "text": [
      "Early stopping, epoch: 19\n"
     ]
    },
    {
     "name": "stderr",
     "output_type": "stream",
     "text": [
      "Epoch: 20:  38%|███▊      | 19/50 [00:00<00:00, 55.05it/s, Loss: 2.3776]\n",
      "/home/ealvarez/miniconda3/envs/gnn_unsupervised_3.10/lib/python3.10/site-packages/torch_geometric/transforms/random_link_split.py:220: UserWarning: There are not enough negative edges to satisfy the provided sampling ratio. The ratio will be adjusted to 0.00.\n",
      "  warnings.warn(\n"
     ]
    },
    {
     "name": "stdout",
     "output_type": "stream",
     "text": [
      "Early stopping, epoch: 20\n"
     ]
    },
    {
     "name": "stderr",
     "output_type": "stream",
     "text": [
      "Epoch: 17:  32%|███▏      | 16/50 [00:00<00:00, 57.45it/s, Loss: 2.3695]\n",
      "/home/ealvarez/miniconda3/envs/gnn_unsupervised_3.10/lib/python3.10/site-packages/torch_geometric/transforms/random_link_split.py:220: UserWarning: There are not enough negative edges to satisfy the provided sampling ratio. The ratio will be adjusted to 0.00.\n",
      "  warnings.warn(\n"
     ]
    },
    {
     "name": "stdout",
     "output_type": "stream",
     "text": [
      "Early stopping, epoch: 17\n"
     ]
    },
    {
     "name": "stderr",
     "output_type": "stream",
     "text": [
      "Epoch: 16:  30%|███       | 15/50 [00:00<00:00, 57.47it/s, Loss: 2.2350]\n",
      "/home/ealvarez/miniconda3/envs/gnn_unsupervised_3.10/lib/python3.10/site-packages/torch_geometric/transforms/random_link_split.py:220: UserWarning: There are not enough negative edges to satisfy the provided sampling ratio. The ratio will be adjusted to 0.00.\n",
      "  warnings.warn(\n"
     ]
    },
    {
     "name": "stdout",
     "output_type": "stream",
     "text": [
      "Early stopping, epoch: 16\n"
     ]
    },
    {
     "name": "stderr",
     "output_type": "stream",
     "text": [
      "Epoch: 23:  44%|████▍     | 22/50 [00:00<00:00, 58.68it/s, Loss: 2.3553]\n",
      "/home/ealvarez/miniconda3/envs/gnn_unsupervised_3.10/lib/python3.10/site-packages/torch_geometric/transforms/random_link_split.py:220: UserWarning: There are not enough negative edges to satisfy the provided sampling ratio. The ratio will be adjusted to 0.00.\n",
      "  warnings.warn(\n"
     ]
    },
    {
     "name": "stdout",
     "output_type": "stream",
     "text": [
      "Early stopping, epoch: 23\n"
     ]
    },
    {
     "name": "stderr",
     "output_type": "stream",
     "text": [
      "Epoch: 15:  28%|██▊       | 14/50 [00:00<00:00, 57.73it/s, Loss: 2.2912]\n",
      "/home/ealvarez/miniconda3/envs/gnn_unsupervised_3.10/lib/python3.10/site-packages/torch_geometric/transforms/random_link_split.py:220: UserWarning: There are not enough negative edges to satisfy the provided sampling ratio. The ratio will be adjusted to 0.00.\n",
      "  warnings.warn(\n"
     ]
    },
    {
     "name": "stdout",
     "output_type": "stream",
     "text": [
      "Early stopping, epoch: 15\n"
     ]
    },
    {
     "name": "stderr",
     "output_type": "stream",
     "text": [
      "Epoch: 16:  30%|███       | 15/50 [00:00<00:00, 57.36it/s, Loss: 2.2567]\n",
      "/home/ealvarez/miniconda3/envs/gnn_unsupervised_3.10/lib/python3.10/site-packages/torch_geometric/transforms/random_link_split.py:220: UserWarning: There are not enough negative edges to satisfy the provided sampling ratio. The ratio will be adjusted to 0.00.\n",
      "  warnings.warn(\n"
     ]
    },
    {
     "name": "stdout",
     "output_type": "stream",
     "text": [
      "Early stopping, epoch: 16\n"
     ]
    },
    {
     "name": "stderr",
     "output_type": "stream",
     "text": [
      "Epoch: 15:  28%|██▊       | 14/50 [00:00<00:00, 57.51it/s, Loss: 2.2377]\n",
      "/home/ealvarez/miniconda3/envs/gnn_unsupervised_3.10/lib/python3.10/site-packages/torch_geometric/transforms/random_link_split.py:220: UserWarning: There are not enough negative edges to satisfy the provided sampling ratio. The ratio will be adjusted to 0.00.\n",
      "  warnings.warn(\n"
     ]
    },
    {
     "name": "stdout",
     "output_type": "stream",
     "text": [
      "Early stopping, epoch: 15\n"
     ]
    },
    {
     "name": "stderr",
     "output_type": "stream",
     "text": [
      "Epoch: 19:  36%|███▌      | 18/50 [00:00<00:00, 58.90it/s, Loss: 2.4005]\n",
      "/home/ealvarez/miniconda3/envs/gnn_unsupervised_3.10/lib/python3.10/site-packages/torch_geometric/transforms/random_link_split.py:220: UserWarning: There are not enough negative edges to satisfy the provided sampling ratio. The ratio will be adjusted to 0.00.\n",
      "  warnings.warn(\n"
     ]
    },
    {
     "name": "stdout",
     "output_type": "stream",
     "text": [
      "Early stopping, epoch: 19\n"
     ]
    },
    {
     "name": "stderr",
     "output_type": "stream",
     "text": [
      "Epoch: 23:  44%|████▍     | 22/50 [00:00<00:00, 63.91it/s, Loss: 2.5173]\n",
      "/home/ealvarez/miniconda3/envs/gnn_unsupervised_3.10/lib/python3.10/site-packages/torch_geometric/transforms/random_link_split.py:220: UserWarning: There are not enough negative edges to satisfy the provided sampling ratio. The ratio will be adjusted to 0.00.\n",
      "  warnings.warn(\n"
     ]
    },
    {
     "name": "stdout",
     "output_type": "stream",
     "text": [
      "Early stopping, epoch: 23\n"
     ]
    },
    {
     "name": "stderr",
     "output_type": "stream",
     "text": [
      "Epoch: 16:  30%|███       | 15/50 [00:00<00:00, 65.16it/s, Loss: 2.2984]\n",
      "/home/ealvarez/miniconda3/envs/gnn_unsupervised_3.10/lib/python3.10/site-packages/torch_geometric/transforms/random_link_split.py:220: UserWarning: There are not enough negative edges to satisfy the provided sampling ratio. The ratio will be adjusted to 0.00.\n",
      "  warnings.warn(\n"
     ]
    },
    {
     "name": "stdout",
     "output_type": "stream",
     "text": [
      "Early stopping, epoch: 16\n"
     ]
    },
    {
     "name": "stderr",
     "output_type": "stream",
     "text": [
      "Epoch: 23:  44%|████▍     | 22/50 [00:00<00:00, 66.47it/s, Loss: 2.3541]\n",
      "/home/ealvarez/miniconda3/envs/gnn_unsupervised_3.10/lib/python3.10/site-packages/torch_geometric/transforms/random_link_split.py:220: UserWarning: There are not enough negative edges to satisfy the provided sampling ratio. The ratio will be adjusted to 0.00.\n",
      "  warnings.warn(\n"
     ]
    },
    {
     "name": "stdout",
     "output_type": "stream",
     "text": [
      "Early stopping, epoch: 23\n"
     ]
    },
    {
     "name": "stderr",
     "output_type": "stream",
     "text": [
      "Epoch: 19:  36%|███▌      | 18/50 [00:00<00:00, 65.44it/s, Loss: 2.3879]\n",
      "/home/ealvarez/miniconda3/envs/gnn_unsupervised_3.10/lib/python3.10/site-packages/torch_geometric/transforms/random_link_split.py:220: UserWarning: There are not enough negative edges to satisfy the provided sampling ratio. The ratio will be adjusted to 0.00.\n",
      "  warnings.warn(\n"
     ]
    },
    {
     "name": "stdout",
     "output_type": "stream",
     "text": [
      "Early stopping, epoch: 19\n"
     ]
    },
    {
     "name": "stderr",
     "output_type": "stream",
     "text": [
      "Epoch: 18:  34%|███▍      | 17/50 [00:00<00:00, 64.70it/s, Loss: 2.3147]\n",
      "/home/ealvarez/miniconda3/envs/gnn_unsupervised_3.10/lib/python3.10/site-packages/torch_geometric/transforms/random_link_split.py:220: UserWarning: There are not enough negative edges to satisfy the provided sampling ratio. The ratio will be adjusted to 0.00.\n",
      "  warnings.warn(\n"
     ]
    },
    {
     "name": "stdout",
     "output_type": "stream",
     "text": [
      "Early stopping, epoch: 18\n"
     ]
    },
    {
     "name": "stderr",
     "output_type": "stream",
     "text": [
      "Epoch: 21:  40%|████      | 20/50 [00:00<00:00, 65.34it/s, Loss: 2.2531]\n",
      "/home/ealvarez/miniconda3/envs/gnn_unsupervised_3.10/lib/python3.10/site-packages/torch_geometric/transforms/random_link_split.py:220: UserWarning: There are not enough negative edges to satisfy the provided sampling ratio. The ratio will be adjusted to 0.00.\n",
      "  warnings.warn(\n"
     ]
    },
    {
     "name": "stdout",
     "output_type": "stream",
     "text": [
      "Early stopping, epoch: 21\n"
     ]
    },
    {
     "name": "stderr",
     "output_type": "stream",
     "text": [
      "Epoch: 20:  38%|███▊      | 19/50 [00:00<00:00, 64.74it/s, Loss: 2.3402]\n",
      "/home/ealvarez/miniconda3/envs/gnn_unsupervised_3.10/lib/python3.10/site-packages/torch_geometric/transforms/random_link_split.py:220: UserWarning: There are not enough negative edges to satisfy the provided sampling ratio. The ratio will be adjusted to 0.00.\n",
      "  warnings.warn(\n"
     ]
    },
    {
     "name": "stdout",
     "output_type": "stream",
     "text": [
      "Early stopping, epoch: 20\n"
     ]
    },
    {
     "name": "stderr",
     "output_type": "stream",
     "text": [
      "Epoch: 24:  46%|████▌     | 23/50 [00:00<00:00, 65.64it/s, Loss: 2.4041]\n"
     ]
    },
    {
     "name": "stdout",
     "output_type": "stream",
     "text": [
      "Early stopping, epoch: 24\n",
      "Edge-embeddings\n"
     ]
    },
    {
     "name": "stderr",
     "output_type": "stream",
     "text": [
      "100%|██████████| 2/2 [00:01<00:00,  1.95it/s]\n",
      "100%|██████████| 2/2 [00:01<00:00,  1.97it/s]\n",
      "100%|██████████| 2/2 [00:01<00:00,  1.99it/s]\n",
      "100%|██████████| 2/2 [00:01<00:00,  1.94it/s]\n",
      "100%|██████████| 2/2 [00:00<00:00,  2.00it/s]\n",
      "100%|██████████| 2/2 [00:01<00:00,  1.98it/s]\n",
      "100%|██████████| 2/2 [00:01<00:00,  1.95it/s]\n",
      "100%|██████████| 2/2 [00:01<00:00,  1.98it/s]\n",
      "100%|██████████| 2/2 [00:00<00:00,  2.03it/s]\n",
      "100%|██████████| 9/9 [00:09<00:00,  1.01s/it]\n",
      "100%|██████████| 2/2 [00:00<00:00, 133.46it/s]\n",
      "100%|██████████| 2/2 [00:00<00:00, 232.17it/s]\n",
      "100%|██████████| 2/2 [00:00<00:00, 255.24it/s]\n",
      "100%|██████████| 2/2 [00:00<00:00, 237.38it/s]\n",
      "100%|██████████| 2/2 [00:00<00:00, 244.18it/s]\n",
      "100%|██████████| 2/2 [00:00<00:00, 225.05it/s]\n",
      "100%|██████████| 2/2 [00:00<00:00, 240.80it/s]\n",
      "100%|██████████| 2/2 [00:00<00:00, 232.82it/s]\n",
      "100%|██████████| 2/2 [00:00<00:00, 226.54it/s]\n",
      "100%|██████████| 9/9 [00:00<00:00, 83.45it/s]\n"
     ]
    },
    {
     "name": "stdout",
     "output_type": "stream",
     "text": [
      "Outlier detection\n"
     ]
    },
    {
     "name": "stderr",
     "output_type": "stream",
     "text": [
      "100%|██████████| 9/9 [00:00<00:00, 23.53it/s]\n",
      "100%|██████████| 9/9 [00:00<00:00, 264.46it/s]\n",
      "100%|██████████| 9/9 [00:00<00:00, 71.65it/s]\n"
     ]
    },
    {
     "name": "stdout",
     "output_type": "stream",
     "text": [
      "argva-base str\n",
      "Node-embeddings\n",
      "Subgroups id:\t {'WT-YNB': ['str'], 'S51A-YNB': ['str'], 'WT-Tyr': ['str'], 'S51A-Tyr': ['str'], 'WT-total': ['str'], 'WT-vac': ['str'], 'avt1-total': ['str'], 'avt1-vac': ['str'], 'aa-standard': ['str']}\n"
     ]
    },
    {
     "name": "stderr",
     "output_type": "stream",
     "text": [
      "Epoch: 17:  32%|███▏      | 16/50 [00:00<00:00, 55.00it/s, Loss: 2.3336]\n"
     ]
    },
    {
     "name": "stdout",
     "output_type": "stream",
     "text": [
      "Early stopping, epoch: 17\n"
     ]
    },
    {
     "name": "stderr",
     "output_type": "stream",
     "text": [
      "Epoch: 16:  30%|███       | 15/50 [00:00<00:00, 55.94it/s, Loss: 2.3251]\n"
     ]
    },
    {
     "name": "stdout",
     "output_type": "stream",
     "text": [
      "Early stopping, epoch: 16\n"
     ]
    },
    {
     "name": "stderr",
     "output_type": "stream",
     "text": [
      "Epoch: 18:  34%|███▍      | 17/50 [00:00<00:00, 56.11it/s, Loss: 2.3646]\n"
     ]
    },
    {
     "name": "stdout",
     "output_type": "stream",
     "text": [
      "Early stopping, epoch: 18\n"
     ]
    },
    {
     "name": "stderr",
     "output_type": "stream",
     "text": [
      "Epoch: 19:  36%|███▌      | 18/50 [00:00<00:00, 56.41it/s, Loss: 2.4085]\n"
     ]
    },
    {
     "name": "stdout",
     "output_type": "stream",
     "text": [
      "Early stopping, epoch: 19\n"
     ]
    },
    {
     "name": "stderr",
     "output_type": "stream",
     "text": [
      "Epoch: 17:  32%|███▏      | 16/50 [00:00<00:00, 56.25it/s, Loss: 2.3182]\n"
     ]
    },
    {
     "name": "stdout",
     "output_type": "stream",
     "text": [
      "Early stopping, epoch: 17\n"
     ]
    },
    {
     "name": "stderr",
     "output_type": "stream",
     "text": [
      "Epoch: 23:  44%|████▍     | 22/50 [00:00<00:00, 57.29it/s, Loss: 2.4539]\n"
     ]
    },
    {
     "name": "stdout",
     "output_type": "stream",
     "text": [
      "Early stopping, epoch: 23\n"
     ]
    },
    {
     "name": "stderr",
     "output_type": "stream",
     "text": [
      "Epoch: 15:  28%|██▊       | 14/50 [00:00<00:00, 56.14it/s, Loss: 2.4036]\n"
     ]
    },
    {
     "name": "stdout",
     "output_type": "stream",
     "text": [
      "Early stopping, epoch: 15\n"
     ]
    },
    {
     "name": "stderr",
     "output_type": "stream",
     "text": [
      "Epoch: 18:  34%|███▍      | 17/50 [00:00<00:00, 56.34it/s, Loss: 2.3762]\n"
     ]
    },
    {
     "name": "stdout",
     "output_type": "stream",
     "text": [
      "Early stopping, epoch: 18\n"
     ]
    },
    {
     "name": "stderr",
     "output_type": "stream",
     "text": [
      "Epoch: 16:  30%|███       | 15/50 [00:00<00:00, 55.63it/s, Loss: 2.3159]\n"
     ]
    },
    {
     "name": "stdout",
     "output_type": "stream",
     "text": [
      "Early stopping, epoch: 16\n",
      "Edge-embeddings\n"
     ]
    },
    {
     "name": "stderr",
     "output_type": "stream",
     "text": [
      "100%|██████████| 1/1 [00:00<00:00,  1.86it/s]\n",
      "100%|██████████| 1/1 [00:00<00:00,  1.82it/s]\n",
      "100%|██████████| 1/1 [00:00<00:00,  1.94it/s]\n",
      "100%|██████████| 1/1 [00:00<00:00,  1.93it/s]\n",
      "100%|██████████| 1/1 [00:00<00:00,  1.91it/s]\n",
      "100%|██████████| 1/1 [00:00<00:00,  1.96it/s]\n",
      "100%|██████████| 1/1 [00:00<00:00,  1.91it/s]\n",
      "100%|██████████| 1/1 [00:00<00:00,  1.83it/s]\n",
      "100%|██████████| 1/1 [00:00<00:00,  1.85it/s]\n",
      "100%|██████████| 9/9 [00:04<00:00,  1.88it/s]\n",
      "100%|██████████| 1/1 [00:00<00:00, 80.42it/s]\n",
      "100%|██████████| 1/1 [00:00<00:00, 131.05it/s]\n",
      "100%|██████████| 1/1 [00:00<00:00, 141.21it/s]\n",
      "100%|██████████| 1/1 [00:00<00:00, 139.75it/s]\n",
      "100%|██████████| 1/1 [00:00<00:00, 148.90it/s]\n",
      "100%|██████████| 1/1 [00:00<00:00, 136.48it/s]\n",
      "100%|██████████| 1/1 [00:00<00:00, 163.19it/s]\n",
      "100%|██████████| 1/1 [00:00<00:00, 157.33it/s]\n",
      "100%|██████████| 1/1 [00:00<00:00, 156.52it/s]\n",
      "100%|██████████| 9/9 [00:00<00:00, 110.88it/s]\n"
     ]
    },
    {
     "name": "stdout",
     "output_type": "stream",
     "text": [
      "Outlier detection\n"
     ]
    },
    {
     "name": "stderr",
     "output_type": "stream",
     "text": [
      "100%|██████████| 9/9 [00:00<00:00, 24.37it/s]\n",
      "100%|██████████| 9/9 [00:00<00:00, 433.72it/s]\n",
      "100%|██████████| 9/9 [00:00<00:00, 202.74it/s]\n",
      "100%|██████████| 9/9 [00:00<00:00, 2130.89it/s]\n",
      "100%|██████████| 9/9 [00:00<00:00, 71.43it/s]\n"
     ]
    },
    {
     "name": "stdout",
     "output_type": "stream",
     "text": [
      "argva-base dyn\n",
      "Node-embeddings\n",
      "Subgroups id:\t {'WT-YNB': ['dyn'], 'S51A-YNB': ['dyn'], 'WT-Tyr': ['dyn'], 'S51A-Tyr': ['dyn'], 'WT-total': ['dyn'], 'WT-vac': ['dyn'], 'avt1-total': ['dyn'], 'avt1-vac': ['dyn'], 'aa-standard': ['dyn']}\n"
     ]
    },
    {
     "name": "stderr",
     "output_type": "stream",
     "text": [
      "Epoch: 15:  28%|██▊       | 14/50 [00:00<00:00, 56.24it/s, Loss: 2.2638]\n"
     ]
    },
    {
     "name": "stdout",
     "output_type": "stream",
     "text": [
      "Early stopping, epoch: 15\n"
     ]
    },
    {
     "name": "stderr",
     "output_type": "stream",
     "text": [
      "Epoch: 18:  34%|███▍      | 17/50 [00:00<00:00, 58.24it/s, Loss: 2.2900]\n"
     ]
    },
    {
     "name": "stdout",
     "output_type": "stream",
     "text": [
      "Early stopping, epoch: 18\n"
     ]
    },
    {
     "name": "stderr",
     "output_type": "stream",
     "text": [
      "Epoch: 18:  34%|███▍      | 17/50 [00:00<00:00, 57.17it/s, Loss: 2.3689]\n"
     ]
    },
    {
     "name": "stdout",
     "output_type": "stream",
     "text": [
      "Early stopping, epoch: 18\n"
     ]
    },
    {
     "name": "stderr",
     "output_type": "stream",
     "text": [
      "Epoch: 18:  34%|███▍      | 17/50 [00:00<00:00, 56.89it/s, Loss: 2.3550]\n"
     ]
    },
    {
     "name": "stdout",
     "output_type": "stream",
     "text": [
      "Early stopping, epoch: 18\n"
     ]
    },
    {
     "name": "stderr",
     "output_type": "stream",
     "text": [
      "Epoch: 17:  32%|███▏      | 16/50 [00:00<00:00, 56.35it/s, Loss: 2.3530]\n"
     ]
    },
    {
     "name": "stdout",
     "output_type": "stream",
     "text": [
      "Early stopping, epoch: 17\n"
     ]
    },
    {
     "name": "stderr",
     "output_type": "stream",
     "text": [
      "Epoch: 20:  38%|███▊      | 19/50 [00:00<00:00, 56.28it/s, Loss: 2.3043]\n"
     ]
    },
    {
     "name": "stdout",
     "output_type": "stream",
     "text": [
      "Early stopping, epoch: 20\n"
     ]
    },
    {
     "name": "stderr",
     "output_type": "stream",
     "text": [
      "Epoch: 16:  30%|███       | 15/50 [00:00<00:00, 55.46it/s, Loss: 2.4274]\n"
     ]
    },
    {
     "name": "stdout",
     "output_type": "stream",
     "text": [
      "Early stopping, epoch: 16\n"
     ]
    },
    {
     "name": "stderr",
     "output_type": "stream",
     "text": [
      "Epoch: 18:  34%|███▍      | 17/50 [00:00<00:00, 56.22it/s, Loss: 2.3631]\n"
     ]
    },
    {
     "name": "stdout",
     "output_type": "stream",
     "text": [
      "Early stopping, epoch: 18\n"
     ]
    },
    {
     "name": "stderr",
     "output_type": "stream",
     "text": [
      "Epoch: 14:  26%|██▌       | 13/50 [00:00<00:00, 51.20it/s, Loss: 2.2004]\n"
     ]
    },
    {
     "name": "stdout",
     "output_type": "stream",
     "text": [
      "Early stopping, epoch: 14\n",
      "Edge-embeddings\n"
     ]
    },
    {
     "name": "stderr",
     "output_type": "stream",
     "text": [
      "100%|██████████| 1/1 [00:00<00:00,  1.98it/s]\n",
      "100%|██████████| 1/1 [00:00<00:00,  1.85it/s]\n",
      "100%|██████████| 1/1 [00:00<00:00,  1.84it/s]\n",
      "100%|██████████| 1/1 [00:00<00:00,  1.76it/s]\n",
      "100%|██████████| 1/1 [00:00<00:00,  1.85it/s]\n",
      "100%|██████████| 1/1 [00:00<00:00,  1.79it/s]\n",
      "100%|██████████| 1/1 [00:00<00:00,  1.97it/s]\n",
      "100%|██████████| 1/1 [00:00<00:00,  1.89it/s]\n",
      "100%|██████████| 1/1 [00:00<00:00,  1.81it/s]\n",
      "100%|██████████| 9/9 [00:04<00:00,  1.85it/s]\n",
      "100%|██████████| 1/1 [00:00<00:00, 84.22it/s]\n",
      "100%|██████████| 1/1 [00:00<00:00, 124.31it/s]\n",
      "100%|██████████| 1/1 [00:00<00:00, 156.26it/s]\n",
      "100%|██████████| 1/1 [00:00<00:00, 140.06it/s]\n",
      "100%|██████████| 1/1 [00:00<00:00, 160.90it/s]\n",
      "100%|██████████| 1/1 [00:00<00:00, 149.72it/s]\n",
      "100%|██████████| 1/1 [00:00<00:00, 155.63it/s]\n",
      "100%|██████████| 1/1 [00:00<00:00, 156.43it/s]\n",
      "100%|██████████| 1/1 [00:00<00:00, 151.62it/s]\n",
      "100%|██████████| 9/9 [00:00<00:00, 97.20it/s]\n"
     ]
    },
    {
     "name": "stdout",
     "output_type": "stream",
     "text": [
      "Outlier detection\n"
     ]
    },
    {
     "name": "stderr",
     "output_type": "stream",
     "text": [
      "100%|██████████| 9/9 [00:00<00:00, 24.00it/s]\n",
      "100%|██████████| 9/9 [00:00<00:00, 423.23it/s]\n",
      "100%|██████████| 9/9 [00:00<00:00, 199.04it/s]\n",
      "100%|██████████| 9/9 [00:00<00:00, 1951.14it/s]\n",
      "100%|██████████| 9/9 [00:00<00:00, 71.86it/s]\n",
      "/home/ealvarez/miniconda3/envs/gnn_unsupervised_3.10/lib/python3.10/site-packages/torch_geometric/transforms/random_link_split.py:220: UserWarning: There are not enough negative edges to satisfy the provided sampling ratio. The ratio will be adjusted to 0.00.\n",
      "  warnings.warn(\n"
     ]
    },
    {
     "name": "stdout",
     "output_type": "stream",
     "text": [
      "vgae-line none\n",
      "Node-embeddings\n",
      "Subgroups id:\t {'WT-YNB': ['1', '2'], 'S51A-YNB': ['1', '2'], 'WT-Tyr': ['1', '2'], 'S51A-Tyr': ['1', '2'], 'WT-total': ['1', '2'], 'WT-vac': ['1', '2'], 'avt1-total': ['1', '2'], 'avt1-vac': ['1', '2'], 'aa-standard': ['1', '2']}\n"
     ]
    },
    {
     "name": "stderr",
     "output_type": "stream",
     "text": [
      "Epoch: 50: 100%|██████████| 50/50 [00:00<00:00, 126.61it/s, Loss: 1.5592]\n",
      "/home/ealvarez/miniconda3/envs/gnn_unsupervised_3.10/lib/python3.10/site-packages/torch_geometric/transforms/random_link_split.py:220: UserWarning: There are not enough negative edges to satisfy the provided sampling ratio. The ratio will be adjusted to 0.00.\n",
      "  warnings.warn(\n",
      "Epoch: 50: 100%|██████████| 50/50 [00:00<00:00, 125.67it/s, Loss: 1.5558]\n",
      "/home/ealvarez/miniconda3/envs/gnn_unsupervised_3.10/lib/python3.10/site-packages/torch_geometric/transforms/random_link_split.py:220: UserWarning: There are not enough negative edges to satisfy the provided sampling ratio. The ratio will be adjusted to 0.00.\n",
      "  warnings.warn(\n",
      "Epoch: 23:  44%|████▍     | 22/50 [00:00<00:00, 123.93it/s, Loss: 1.4434]\n",
      "/home/ealvarez/miniconda3/envs/gnn_unsupervised_3.10/lib/python3.10/site-packages/torch_geometric/transforms/random_link_split.py:220: UserWarning: There are not enough negative edges to satisfy the provided sampling ratio. The ratio will be adjusted to 0.00.\n",
      "  warnings.warn(\n"
     ]
    },
    {
     "name": "stdout",
     "output_type": "stream",
     "text": [
      "Early stopping, epoch: 23\n"
     ]
    },
    {
     "name": "stderr",
     "output_type": "stream",
     "text": [
      "Epoch: 50:  98%|█████████▊| 49/50 [00:00<00:00, 124.63it/s, Loss: 1.4662]\n",
      "/home/ealvarez/miniconda3/envs/gnn_unsupervised_3.10/lib/python3.10/site-packages/torch_geometric/transforms/random_link_split.py:220: UserWarning: There are not enough negative edges to satisfy the provided sampling ratio. The ratio will be adjusted to 0.00.\n",
      "  warnings.warn(\n"
     ]
    },
    {
     "name": "stdout",
     "output_type": "stream",
     "text": [
      "Early stopping, epoch: 50\n"
     ]
    },
    {
     "name": "stderr",
     "output_type": "stream",
     "text": [
      "Epoch: 27:  52%|█████▏    | 26/50 [00:00<00:00, 122.10it/s, Loss: 1.4569]\n",
      "/home/ealvarez/miniconda3/envs/gnn_unsupervised_3.10/lib/python3.10/site-packages/torch_geometric/transforms/random_link_split.py:220: UserWarning: There are not enough negative edges to satisfy the provided sampling ratio. The ratio will be adjusted to 0.00.\n",
      "  warnings.warn(\n"
     ]
    },
    {
     "name": "stdout",
     "output_type": "stream",
     "text": [
      "Early stopping, epoch: 27\n"
     ]
    },
    {
     "name": "stderr",
     "output_type": "stream",
     "text": [
      "Epoch: 12:  22%|██▏       | 11/50 [00:00<00:00, 119.75it/s, Loss: 2.4951]\n",
      "/home/ealvarez/miniconda3/envs/gnn_unsupervised_3.10/lib/python3.10/site-packages/torch_geometric/transforms/random_link_split.py:220: UserWarning: There are not enough negative edges to satisfy the provided sampling ratio. The ratio will be adjusted to 0.00.\n",
      "  warnings.warn(\n"
     ]
    },
    {
     "name": "stdout",
     "output_type": "stream",
     "text": [
      "Early stopping, epoch: 12\n"
     ]
    },
    {
     "name": "stderr",
     "output_type": "stream",
     "text": [
      "Epoch: 18:  34%|███▍      | 17/50 [00:00<00:00, 124.42it/s, Loss: 1.5279]\n",
      "/home/ealvarez/miniconda3/envs/gnn_unsupervised_3.10/lib/python3.10/site-packages/torch_geometric/transforms/random_link_split.py:220: UserWarning: There are not enough negative edges to satisfy the provided sampling ratio. The ratio will be adjusted to 0.00.\n",
      "  warnings.warn(\n"
     ]
    },
    {
     "name": "stdout",
     "output_type": "stream",
     "text": [
      "Early stopping, epoch: 18\n"
     ]
    },
    {
     "name": "stderr",
     "output_type": "stream",
     "text": [
      "Epoch: 22:  42%|████▏     | 21/50 [00:00<00:00, 124.69it/s, Loss: 1.4680]\n",
      "/home/ealvarez/miniconda3/envs/gnn_unsupervised_3.10/lib/python3.10/site-packages/torch_geometric/transforms/random_link_split.py:220: UserWarning: There are not enough negative edges to satisfy the provided sampling ratio. The ratio will be adjusted to 0.00.\n",
      "  warnings.warn(\n"
     ]
    },
    {
     "name": "stdout",
     "output_type": "stream",
     "text": [
      "Early stopping, epoch: 22\n"
     ]
    },
    {
     "name": "stderr",
     "output_type": "stream",
     "text": [
      "Epoch: 7:  12%|█▏        | 6/50 [00:00<00:00, 113.94it/s, Loss: 2.9199]\n",
      "/home/ealvarez/miniconda3/envs/gnn_unsupervised_3.10/lib/python3.10/site-packages/torch_geometric/transforms/random_link_split.py:220: UserWarning: There are not enough negative edges to satisfy the provided sampling ratio. The ratio will be adjusted to 0.00.\n",
      "  warnings.warn(\n"
     ]
    },
    {
     "name": "stdout",
     "output_type": "stream",
     "text": [
      "Early stopping, epoch: 7\n"
     ]
    },
    {
     "name": "stderr",
     "output_type": "stream",
     "text": [
      "Epoch: 28:  54%|█████▍    | 27/50 [00:00<00:00, 128.33it/s, Loss: 1.5979]\n",
      "/home/ealvarez/miniconda3/envs/gnn_unsupervised_3.10/lib/python3.10/site-packages/torch_geometric/transforms/random_link_split.py:220: UserWarning: There are not enough negative edges to satisfy the provided sampling ratio. The ratio will be adjusted to 0.00.\n",
      "  warnings.warn(\n"
     ]
    },
    {
     "name": "stdout",
     "output_type": "stream",
     "text": [
      "Early stopping, epoch: 28\n"
     ]
    },
    {
     "name": "stderr",
     "output_type": "stream",
     "text": [
      "Epoch: 15:  28%|██▊       | 14/50 [00:00<00:00, 122.03it/s, Loss: 2.5032]\n",
      "/home/ealvarez/miniconda3/envs/gnn_unsupervised_3.10/lib/python3.10/site-packages/torch_geometric/transforms/random_link_split.py:220: UserWarning: There are not enough negative edges to satisfy the provided sampling ratio. The ratio will be adjusted to 0.00.\n",
      "  warnings.warn(\n"
     ]
    },
    {
     "name": "stdout",
     "output_type": "stream",
     "text": [
      "Early stopping, epoch: 15\n"
     ]
    },
    {
     "name": "stderr",
     "output_type": "stream",
     "text": [
      "Epoch: 36:  70%|███████   | 35/50 [00:00<00:00, 127.40it/s, Loss: 1.5067]\n",
      "/home/ealvarez/miniconda3/envs/gnn_unsupervised_3.10/lib/python3.10/site-packages/torch_geometric/transforms/random_link_split.py:220: UserWarning: There are not enough negative edges to satisfy the provided sampling ratio. The ratio will be adjusted to 0.00.\n",
      "  warnings.warn(\n"
     ]
    },
    {
     "name": "stdout",
     "output_type": "stream",
     "text": [
      "Early stopping, epoch: 36\n"
     ]
    },
    {
     "name": "stderr",
     "output_type": "stream",
     "text": [
      "Epoch: 10:  18%|█▊        | 9/50 [00:00<00:00, 119.78it/s, Loss: 1.5527]\n",
      "/home/ealvarez/miniconda3/envs/gnn_unsupervised_3.10/lib/python3.10/site-packages/torch_geometric/transforms/random_link_split.py:220: UserWarning: There are not enough negative edges to satisfy the provided sampling ratio. The ratio will be adjusted to 0.00.\n",
      "  warnings.warn(\n"
     ]
    },
    {
     "name": "stdout",
     "output_type": "stream",
     "text": [
      "Early stopping, epoch: 10\n"
     ]
    },
    {
     "name": "stderr",
     "output_type": "stream",
     "text": [
      "Epoch: 35:  68%|██████▊   | 34/50 [00:00<00:00, 128.37it/s, Loss: 1.5477]\n",
      "/home/ealvarez/miniconda3/envs/gnn_unsupervised_3.10/lib/python3.10/site-packages/torch_geometric/transforms/random_link_split.py:220: UserWarning: There are not enough negative edges to satisfy the provided sampling ratio. The ratio will be adjusted to 0.00.\n",
      "  warnings.warn(\n"
     ]
    },
    {
     "name": "stdout",
     "output_type": "stream",
     "text": [
      "Early stopping, epoch: 35\n"
     ]
    },
    {
     "name": "stderr",
     "output_type": "stream",
     "text": [
      "Epoch: 31:  60%|██████    | 30/50 [00:00<00:00, 124.94it/s, Loss: 1.5794]\n",
      "/home/ealvarez/miniconda3/envs/gnn_unsupervised_3.10/lib/python3.10/site-packages/torch_geometric/transforms/random_link_split.py:220: UserWarning: There are not enough negative edges to satisfy the provided sampling ratio. The ratio will be adjusted to 0.00.\n",
      "  warnings.warn(\n"
     ]
    },
    {
     "name": "stdout",
     "output_type": "stream",
     "text": [
      "Early stopping, epoch: 31\n"
     ]
    },
    {
     "name": "stderr",
     "output_type": "stream",
     "text": [
      "Epoch: 45:  88%|████████▊ | 44/50 [00:00<00:00, 124.90it/s, Loss: 1.4976]\n",
      "/home/ealvarez/miniconda3/envs/gnn_unsupervised_3.10/lib/python3.10/site-packages/torch_geometric/transforms/random_link_split.py:220: UserWarning: There are not enough negative edges to satisfy the provided sampling ratio. The ratio will be adjusted to 0.00.\n",
      "  warnings.warn(\n"
     ]
    },
    {
     "name": "stdout",
     "output_type": "stream",
     "text": [
      "Early stopping, epoch: 45\n"
     ]
    },
    {
     "name": "stderr",
     "output_type": "stream",
     "text": [
      "Epoch: 50: 100%|██████████| 50/50 [00:00<00:00, 129.51it/s, Loss: 1.8127]\n",
      "/home/ealvarez/miniconda3/envs/gnn_unsupervised_3.10/lib/python3.10/site-packages/torch_geometric/transforms/random_link_split.py:220: UserWarning: There are not enough negative edges to satisfy the provided sampling ratio. The ratio will be adjusted to 0.00.\n",
      "  warnings.warn(\n",
      "Epoch: 47:  92%|█████████▏| 46/50 [00:00<00:00, 128.15it/s, Loss: 1.7170]\n"
     ]
    },
    {
     "name": "stdout",
     "output_type": "stream",
     "text": [
      "Early stopping, epoch: 47\n",
      "Edge-embeddings\n"
     ]
    },
    {
     "name": "stderr",
     "output_type": "stream",
     "text": [
      "100%|██████████| 2/2 [00:00<00:00,  2.13it/s]\n",
      "100%|██████████| 2/2 [00:00<00:00,  2.03it/s]\n",
      "100%|██████████| 2/2 [00:00<00:00,  2.04it/s]\n",
      "100%|██████████| 2/2 [00:00<00:00,  2.02it/s]\n",
      "100%|██████████| 2/2 [00:01<00:00,  1.98it/s]\n",
      "100%|██████████| 2/2 [00:01<00:00,  2.00it/s]\n",
      "100%|██████████| 2/2 [00:00<00:00,  2.04it/s]\n",
      "100%|██████████| 2/2 [00:01<00:00,  2.00it/s]\n",
      "100%|██████████| 2/2 [00:00<00:00,  2.02it/s]\n",
      "100%|██████████| 9/9 [00:08<00:00,  1.01it/s]\n",
      "100%|██████████| 2/2 [00:00<00:00, 132.09it/s]\n",
      "100%|██████████| 2/2 [00:00<00:00, 230.01it/s]\n",
      "100%|██████████| 2/2 [00:00<00:00, 232.37it/s]\n",
      "100%|██████████| 2/2 [00:00<00:00, 230.93it/s]\n",
      "100%|██████████| 2/2 [00:00<00:00, 238.38it/s]\n",
      "100%|██████████| 2/2 [00:00<00:00, 238.96it/s]\n",
      "100%|██████████| 2/2 [00:00<00:00, 230.22it/s]\n",
      "100%|██████████| 2/2 [00:00<00:00, 237.13it/s]\n",
      "100%|██████████| 2/2 [00:00<00:00, 237.81it/s]\n",
      "100%|██████████| 9/9 [00:00<00:00, 92.67it/s]\n"
     ]
    },
    {
     "name": "stdout",
     "output_type": "stream",
     "text": [
      "Outlier detection\n"
     ]
    },
    {
     "name": "stderr",
     "output_type": "stream",
     "text": [
      "100%|██████████| 9/9 [00:00<00:00, 24.46it/s]\n",
      "100%|██████████| 9/9 [00:00<00:00, 273.41it/s]\n",
      "100%|██████████| 9/9 [00:00<00:00, 72.60it/s]\n"
     ]
    },
    {
     "name": "stdout",
     "output_type": "stream",
     "text": [
      "vgae-line str\n",
      "Node-embeddings\n",
      "Subgroups id:\t {'WT-YNB': ['str'], 'S51A-YNB': ['str'], 'WT-Tyr': ['str'], 'S51A-Tyr': ['str'], 'WT-total': ['str'], 'WT-vac': ['str'], 'avt1-total': ['str'], 'avt1-vac': ['str'], 'aa-standard': ['str']}\n"
     ]
    },
    {
     "name": "stderr",
     "output_type": "stream",
     "text": [
      "Epoch: 35:  68%|██████▊   | 34/50 [00:00<00:00, 98.47it/s, Loss: 1.6763] \n"
     ]
    },
    {
     "name": "stdout",
     "output_type": "stream",
     "text": [
      "Early stopping, epoch: 35\n"
     ]
    },
    {
     "name": "stderr",
     "output_type": "stream",
     "text": [
      "Epoch: 46:  90%|█████████ | 45/50 [00:00<00:00, 99.25it/s, Loss: 1.5815] \n"
     ]
    },
    {
     "name": "stdout",
     "output_type": "stream",
     "text": [
      "Early stopping, epoch: 46\n"
     ]
    },
    {
     "name": "stderr",
     "output_type": "stream",
     "text": [
      "Epoch: 26:  50%|█████     | 25/50 [00:00<00:00, 96.90it/s, Loss: 1.4302] \n"
     ]
    },
    {
     "name": "stdout",
     "output_type": "stream",
     "text": [
      "Early stopping, epoch: 26\n"
     ]
    },
    {
     "name": "stderr",
     "output_type": "stream",
     "text": [
      "Epoch: 49:  96%|█████████▌| 48/50 [00:00<00:00, 97.41it/s, Loss: 1.4528]\n"
     ]
    },
    {
     "name": "stdout",
     "output_type": "stream",
     "text": [
      "Early stopping, epoch: 49\n"
     ]
    },
    {
     "name": "stderr",
     "output_type": "stream",
     "text": [
      "Epoch: 42:  82%|████████▏ | 41/50 [00:00<00:00, 98.07it/s, Loss: 1.4214] \n"
     ]
    },
    {
     "name": "stdout",
     "output_type": "stream",
     "text": [
      "Early stopping, epoch: 42\n"
     ]
    },
    {
     "name": "stderr",
     "output_type": "stream",
     "text": [
      "Epoch: 35:  68%|██████▊   | 34/50 [00:00<00:00, 97.10it/s, Loss: 1.8021] \n"
     ]
    },
    {
     "name": "stdout",
     "output_type": "stream",
     "text": [
      "Early stopping, epoch: 35\n"
     ]
    },
    {
     "name": "stderr",
     "output_type": "stream",
     "text": [
      "Epoch: 29:  56%|█████▌    | 28/50 [00:00<00:00, 99.46it/s, Loss: 1.4903] \n"
     ]
    },
    {
     "name": "stdout",
     "output_type": "stream",
     "text": [
      "Early stopping, epoch: 29\n"
     ]
    },
    {
     "name": "stderr",
     "output_type": "stream",
     "text": [
      "Epoch: 36:  70%|███████   | 35/50 [00:00<00:00, 100.20it/s, Loss: 1.4357]\n"
     ]
    },
    {
     "name": "stdout",
     "output_type": "stream",
     "text": [
      "Early stopping, epoch: 36\n"
     ]
    },
    {
     "name": "stderr",
     "output_type": "stream",
     "text": [
      "Epoch: 39:  76%|███████▌  | 38/50 [00:00<00:00, 99.75it/s, Loss: 1.7263] \n"
     ]
    },
    {
     "name": "stdout",
     "output_type": "stream",
     "text": [
      "Early stopping, epoch: 39\n",
      "Edge-embeddings\n"
     ]
    },
    {
     "name": "stderr",
     "output_type": "stream",
     "text": [
      "100%|██████████| 1/1 [00:00<00:00,  1.92it/s]\n",
      "100%|██████████| 1/1 [00:00<00:00,  1.91it/s]\n",
      "100%|██████████| 1/1 [00:00<00:00,  1.92it/s]\n",
      "100%|██████████| 1/1 [00:00<00:00,  1.89it/s]\n",
      "100%|██████████| 1/1 [00:00<00:00,  1.90it/s]\n",
      "100%|██████████| 1/1 [00:00<00:00,  1.96it/s]\n",
      "100%|██████████| 1/1 [00:00<00:00,  1.89it/s]\n",
      "100%|██████████| 1/1 [00:00<00:00,  1.90it/s]\n",
      "100%|██████████| 1/1 [00:00<00:00,  1.91it/s]\n",
      "100%|██████████| 9/9 [00:04<00:00,  1.90it/s]\n",
      "100%|██████████| 1/1 [00:00<00:00, 79.44it/s]\n",
      "100%|██████████| 1/1 [00:00<00:00, 130.26it/s]\n",
      "100%|██████████| 1/1 [00:00<00:00, 150.88it/s]\n",
      "100%|██████████| 1/1 [00:00<00:00, 141.69it/s]\n",
      "100%|██████████| 1/1 [00:00<00:00, 143.32it/s]\n",
      "100%|██████████| 1/1 [00:00<00:00, 155.60it/s]\n",
      "100%|██████████| 1/1 [00:00<00:00, 142.44it/s]\n",
      "100%|██████████| 1/1 [00:00<00:00, 157.46it/s]\n",
      "100%|██████████| 1/1 [00:00<00:00, 158.88it/s]\n",
      "100%|██████████| 9/9 [00:00<00:00, 111.02it/s]\n"
     ]
    },
    {
     "name": "stdout",
     "output_type": "stream",
     "text": [
      "Outlier detection\n"
     ]
    },
    {
     "name": "stderr",
     "output_type": "stream",
     "text": [
      "100%|██████████| 9/9 [00:00<00:00, 23.75it/s]\n",
      "100%|██████████| 9/9 [00:00<00:00, 435.90it/s]\n",
      "100%|██████████| 9/9 [00:00<00:00, 204.16it/s]\n",
      "100%|██████████| 9/9 [00:00<00:00, 2373.24it/s]\n",
      "100%|██████████| 9/9 [00:00<00:00, 71.22it/s]\n"
     ]
    },
    {
     "name": "stdout",
     "output_type": "stream",
     "text": [
      "vgae-line dyn\n",
      "Node-embeddings\n",
      "Subgroups id:\t {'WT-YNB': ['dyn'], 'S51A-YNB': ['dyn'], 'WT-Tyr': ['dyn'], 'S51A-Tyr': ['dyn'], 'WT-total': ['dyn'], 'WT-vac': ['dyn'], 'avt1-total': ['dyn'], 'avt1-vac': ['dyn'], 'aa-standard': ['dyn']}\n"
     ]
    },
    {
     "name": "stderr",
     "output_type": "stream",
     "text": [
      "Epoch: 22:  42%|████▏     | 21/50 [00:00<00:00, 92.47it/s, Loss: 1.8749]\n"
     ]
    },
    {
     "name": "stdout",
     "output_type": "stream",
     "text": [
      "Early stopping, epoch: 22\n"
     ]
    },
    {
     "name": "stderr",
     "output_type": "stream",
     "text": [
      "Epoch: 24:  46%|████▌     | 23/50 [00:00<00:00, 95.33it/s, Loss: 1.8737]\n"
     ]
    },
    {
     "name": "stdout",
     "output_type": "stream",
     "text": [
      "Early stopping, epoch: 24\n"
     ]
    },
    {
     "name": "stderr",
     "output_type": "stream",
     "text": [
      "Epoch: 36:  70%|███████   | 35/50 [00:00<00:00, 98.14it/s, Loss: 1.4169] \n"
     ]
    },
    {
     "name": "stdout",
     "output_type": "stream",
     "text": [
      "Early stopping, epoch: 36\n"
     ]
    },
    {
     "name": "stderr",
     "output_type": "stream",
     "text": [
      "Epoch: 38:  74%|███████▍  | 37/50 [00:00<00:00, 98.09it/s, Loss: 1.4846] \n"
     ]
    },
    {
     "name": "stdout",
     "output_type": "stream",
     "text": [
      "Early stopping, epoch: 38\n"
     ]
    },
    {
     "name": "stderr",
     "output_type": "stream",
     "text": [
      "Epoch: 50: 100%|██████████| 50/50 [00:00<00:00, 101.91it/s, Loss: 1.4156]\n",
      "Epoch: 50: 100%|██████████| 50/50 [00:00<00:00, 99.29it/s, Loss: 1.5899]\n",
      "Epoch: 43:  84%|████████▍ | 42/50 [00:00<00:00, 97.43it/s, Loss: 1.4455]\n"
     ]
    },
    {
     "name": "stdout",
     "output_type": "stream",
     "text": [
      "Early stopping, epoch: 43\n"
     ]
    },
    {
     "name": "stderr",
     "output_type": "stream",
     "text": [
      "Epoch: 46:  90%|█████████ | 45/50 [00:00<00:00, 97.32it/s, Loss: 1.4218]\n"
     ]
    },
    {
     "name": "stdout",
     "output_type": "stream",
     "text": [
      "Early stopping, epoch: 46\n"
     ]
    },
    {
     "name": "stderr",
     "output_type": "stream",
     "text": [
      "Epoch: 50: 100%|██████████| 50/50 [00:00<00:00, 98.95it/s, Loss: 1.6603]\n"
     ]
    },
    {
     "name": "stdout",
     "output_type": "stream",
     "text": [
      "Edge-embeddings\n"
     ]
    },
    {
     "name": "stderr",
     "output_type": "stream",
     "text": [
      "100%|██████████| 1/1 [00:00<00:00,  1.86it/s]\n",
      "100%|██████████| 1/1 [00:00<00:00,  1.88it/s]\n",
      "100%|██████████| 1/1 [00:00<00:00,  1.93it/s]\n",
      "100%|██████████| 1/1 [00:00<00:00,  1.92it/s]\n",
      "100%|██████████| 1/1 [00:00<00:00,  1.89it/s]\n",
      "100%|██████████| 1/1 [00:00<00:00,  1.89it/s]\n",
      "100%|██████████| 1/1 [00:00<00:00,  1.95it/s]\n",
      "100%|██████████| 1/1 [00:00<00:00,  1.90it/s]\n",
      "100%|██████████| 1/1 [00:00<00:00,  1.95it/s]\n",
      "100%|██████████| 9/9 [00:04<00:00,  1.90it/s]\n",
      "100%|██████████| 1/1 [00:00<00:00, 85.77it/s]\n",
      "100%|██████████| 1/1 [00:00<00:00, 131.45it/s]\n",
      "100%|██████████| 1/1 [00:00<00:00, 174.27it/s]\n",
      "100%|██████████| 1/1 [00:00<00:00, 143.58it/s]\n",
      "100%|██████████| 1/1 [00:00<00:00, 159.03it/s]\n",
      "100%|██████████| 1/1 [00:00<00:00, 152.09it/s]\n",
      "100%|██████████| 1/1 [00:00<00:00, 155.02it/s]\n",
      "100%|██████████| 1/1 [00:00<00:00, 155.93it/s]\n",
      "100%|██████████| 1/1 [00:00<00:00, 163.40it/s]\n",
      "100%|██████████| 9/9 [00:00<00:00, 115.35it/s]\n"
     ]
    },
    {
     "name": "stdout",
     "output_type": "stream",
     "text": [
      "Outlier detection\n"
     ]
    },
    {
     "name": "stderr",
     "output_type": "stream",
     "text": [
      "100%|██████████| 9/9 [00:00<00:00, 23.88it/s]\n",
      "100%|██████████| 9/9 [00:00<00:00, 426.19it/s]\n",
      "100%|██████████| 9/9 [00:00<00:00, 199.52it/s]\n",
      "100%|██████████| 9/9 [00:00<00:00, 1734.30it/s]\n",
      "100%|██████████| 9/9 [00:00<00:00, 71.79it/s]\n",
      "/home/ealvarez/miniconda3/envs/gnn_unsupervised_3.10/lib/python3.10/site-packages/torch_geometric/transforms/random_link_split.py:220: UserWarning: There are not enough negative edges to satisfy the provided sampling ratio. The ratio will be adjusted to 0.00.\n",
      "  warnings.warn(\n"
     ]
    },
    {
     "name": "stdout",
     "output_type": "stream",
     "text": [
      "vgae-base none\n",
      "Node-embeddings\n",
      "Subgroups id:\t {'WT-YNB': ['1', '2'], 'S51A-YNB': ['1', '2'], 'WT-Tyr': ['1', '2'], 'S51A-Tyr': ['1', '2'], 'WT-total': ['1', '2'], 'WT-vac': ['1', '2'], 'avt1-total': ['1', '2'], 'avt1-vac': ['1', '2'], 'aa-standard': ['1', '2']}\n"
     ]
    },
    {
     "name": "stderr",
     "output_type": "stream",
     "text": [
      "Epoch: 13:  24%|██▍       | 12/50 [00:00<00:00, 98.20it/s, Loss: 1.6773] \n",
      "/home/ealvarez/miniconda3/envs/gnn_unsupervised_3.10/lib/python3.10/site-packages/torch_geometric/transforms/random_link_split.py:220: UserWarning: There are not enough negative edges to satisfy the provided sampling ratio. The ratio will be adjusted to 0.00.\n",
      "  warnings.warn(\n"
     ]
    },
    {
     "name": "stdout",
     "output_type": "stream",
     "text": [
      "Early stopping, epoch: 13\n"
     ]
    },
    {
     "name": "stderr",
     "output_type": "stream",
     "text": [
      "Epoch: 34:  66%|██████▌   | 33/50 [00:00<00:00, 110.45it/s, Loss: 1.5769]\n",
      "/home/ealvarez/miniconda3/envs/gnn_unsupervised_3.10/lib/python3.10/site-packages/torch_geometric/transforms/random_link_split.py:220: UserWarning: There are not enough negative edges to satisfy the provided sampling ratio. The ratio will be adjusted to 0.00.\n",
      "  warnings.warn(\n"
     ]
    },
    {
     "name": "stdout",
     "output_type": "stream",
     "text": [
      "Early stopping, epoch: 34\n"
     ]
    },
    {
     "name": "stderr",
     "output_type": "stream",
     "text": [
      "Epoch: 45:  88%|████████▊ | 44/50 [00:00<00:00, 111.18it/s, Loss: 1.4256]\n",
      "/home/ealvarez/miniconda3/envs/gnn_unsupervised_3.10/lib/python3.10/site-packages/torch_geometric/transforms/random_link_split.py:220: UserWarning: There are not enough negative edges to satisfy the provided sampling ratio. The ratio will be adjusted to 0.00.\n",
      "  warnings.warn(\n"
     ]
    },
    {
     "name": "stdout",
     "output_type": "stream",
     "text": [
      "Early stopping, epoch: 45\n"
     ]
    },
    {
     "name": "stderr",
     "output_type": "stream",
     "text": [
      "Epoch: 22:  42%|████▏     | 21/50 [00:00<00:00, 108.11it/s, Loss: 1.4877]\n",
      "/home/ealvarez/miniconda3/envs/gnn_unsupervised_3.10/lib/python3.10/site-packages/torch_geometric/transforms/random_link_split.py:220: UserWarning: There are not enough negative edges to satisfy the provided sampling ratio. The ratio will be adjusted to 0.00.\n",
      "  warnings.warn(\n"
     ]
    },
    {
     "name": "stdout",
     "output_type": "stream",
     "text": [
      "Early stopping, epoch: 22\n"
     ]
    },
    {
     "name": "stderr",
     "output_type": "stream",
     "text": [
      "Epoch: 10:  18%|█▊        | 9/50 [00:00<00:00, 102.29it/s, Loss: 1.9553]\n",
      "/home/ealvarez/miniconda3/envs/gnn_unsupervised_3.10/lib/python3.10/site-packages/torch_geometric/transforms/random_link_split.py:220: UserWarning: There are not enough negative edges to satisfy the provided sampling ratio. The ratio will be adjusted to 0.00.\n",
      "  warnings.warn(\n"
     ]
    },
    {
     "name": "stdout",
     "output_type": "stream",
     "text": [
      "Early stopping, epoch: 10\n"
     ]
    },
    {
     "name": "stderr",
     "output_type": "stream",
     "text": [
      "Epoch: 29:  56%|█████▌    | 28/50 [00:00<00:00, 106.68it/s, Loss: 1.5159]\n",
      "/home/ealvarez/miniconda3/envs/gnn_unsupervised_3.10/lib/python3.10/site-packages/torch_geometric/transforms/random_link_split.py:220: UserWarning: There are not enough negative edges to satisfy the provided sampling ratio. The ratio will be adjusted to 0.00.\n",
      "  warnings.warn(\n"
     ]
    },
    {
     "name": "stdout",
     "output_type": "stream",
     "text": [
      "Early stopping, epoch: 29\n"
     ]
    },
    {
     "name": "stderr",
     "output_type": "stream",
     "text": [
      "Epoch: 35:  68%|██████▊   | 34/50 [00:00<00:00, 108.86it/s, Loss: 1.4145]\n",
      "/home/ealvarez/miniconda3/envs/gnn_unsupervised_3.10/lib/python3.10/site-packages/torch_geometric/transforms/random_link_split.py:220: UserWarning: There are not enough negative edges to satisfy the provided sampling ratio. The ratio will be adjusted to 0.00.\n",
      "  warnings.warn(\n"
     ]
    },
    {
     "name": "stdout",
     "output_type": "stream",
     "text": [
      "Early stopping, epoch: 35\n"
     ]
    },
    {
     "name": "stderr",
     "output_type": "stream",
     "text": [
      "Epoch: 35:  68%|██████▊   | 34/50 [00:00<00:00, 108.07it/s, Loss: 1.4163]\n",
      "/home/ealvarez/miniconda3/envs/gnn_unsupervised_3.10/lib/python3.10/site-packages/torch_geometric/transforms/random_link_split.py:220: UserWarning: There are not enough negative edges to satisfy the provided sampling ratio. The ratio will be adjusted to 0.00.\n",
      "  warnings.warn(\n"
     ]
    },
    {
     "name": "stdout",
     "output_type": "stream",
     "text": [
      "Early stopping, epoch: 35\n"
     ]
    },
    {
     "name": "stderr",
     "output_type": "stream",
     "text": [
      "Epoch: 36:  70%|███████   | 35/50 [00:00<00:00, 108.86it/s, Loss: 1.4291]\n",
      "/home/ealvarez/miniconda3/envs/gnn_unsupervised_3.10/lib/python3.10/site-packages/torch_geometric/transforms/random_link_split.py:220: UserWarning: There are not enough negative edges to satisfy the provided sampling ratio. The ratio will be adjusted to 0.00.\n",
      "  warnings.warn(\n"
     ]
    },
    {
     "name": "stdout",
     "output_type": "stream",
     "text": [
      "Early stopping, epoch: 36\n"
     ]
    },
    {
     "name": "stderr",
     "output_type": "stream",
     "text": [
      "Epoch: 38:  74%|███████▍  | 37/50 [00:00<00:00, 111.60it/s, Loss: 1.4144]\n",
      "/home/ealvarez/miniconda3/envs/gnn_unsupervised_3.10/lib/python3.10/site-packages/torch_geometric/transforms/random_link_split.py:220: UserWarning: There are not enough negative edges to satisfy the provided sampling ratio. The ratio will be adjusted to 0.00.\n",
      "  warnings.warn(\n"
     ]
    },
    {
     "name": "stdout",
     "output_type": "stream",
     "text": [
      "Early stopping, epoch: 38\n"
     ]
    },
    {
     "name": "stderr",
     "output_type": "stream",
     "text": [
      "Epoch: 49:  96%|█████████▌| 48/50 [00:00<00:00, 112.82it/s, Loss: 1.4235]\n",
      "/home/ealvarez/miniconda3/envs/gnn_unsupervised_3.10/lib/python3.10/site-packages/torch_geometric/transforms/random_link_split.py:220: UserWarning: There are not enough negative edges to satisfy the provided sampling ratio. The ratio will be adjusted to 0.00.\n",
      "  warnings.warn(\n"
     ]
    },
    {
     "name": "stdout",
     "output_type": "stream",
     "text": [
      "Early stopping, epoch: 49\n"
     ]
    },
    {
     "name": "stderr",
     "output_type": "stream",
     "text": [
      "Epoch: 28:  54%|█████▍    | 27/50 [00:00<00:00, 112.17it/s, Loss: 1.5817]\n",
      "/home/ealvarez/miniconda3/envs/gnn_unsupervised_3.10/lib/python3.10/site-packages/torch_geometric/transforms/random_link_split.py:220: UserWarning: There are not enough negative edges to satisfy the provided sampling ratio. The ratio will be adjusted to 0.00.\n",
      "  warnings.warn(\n"
     ]
    },
    {
     "name": "stdout",
     "output_type": "stream",
     "text": [
      "Early stopping, epoch: 28\n"
     ]
    },
    {
     "name": "stderr",
     "output_type": "stream",
     "text": [
      "Epoch: 29:  56%|█████▌    | 28/50 [00:00<00:00, 112.90it/s, Loss: 1.7031]\n",
      "/home/ealvarez/miniconda3/envs/gnn_unsupervised_3.10/lib/python3.10/site-packages/torch_geometric/transforms/random_link_split.py:220: UserWarning: There are not enough negative edges to satisfy the provided sampling ratio. The ratio will be adjusted to 0.00.\n",
      "  warnings.warn(\n"
     ]
    },
    {
     "name": "stdout",
     "output_type": "stream",
     "text": [
      "Early stopping, epoch: 29\n"
     ]
    },
    {
     "name": "stderr",
     "output_type": "stream",
     "text": [
      "Epoch: 28:  54%|█████▍    | 27/50 [00:00<00:00, 110.06it/s, Loss: 1.4139]\n",
      "/home/ealvarez/miniconda3/envs/gnn_unsupervised_3.10/lib/python3.10/site-packages/torch_geometric/transforms/random_link_split.py:220: UserWarning: There are not enough negative edges to satisfy the provided sampling ratio. The ratio will be adjusted to 0.00.\n",
      "  warnings.warn(\n"
     ]
    },
    {
     "name": "stdout",
     "output_type": "stream",
     "text": [
      "Early stopping, epoch: 28\n"
     ]
    },
    {
     "name": "stderr",
     "output_type": "stream",
     "text": [
      "Epoch: 50: 100%|██████████| 50/50 [00:00<00:00, 113.40it/s, Loss: 1.4117]\n",
      "/home/ealvarez/miniconda3/envs/gnn_unsupervised_3.10/lib/python3.10/site-packages/torch_geometric/transforms/random_link_split.py:220: UserWarning: There are not enough negative edges to satisfy the provided sampling ratio. The ratio will be adjusted to 0.00.\n",
      "  warnings.warn(\n",
      "Epoch: 48:  94%|█████████▍| 47/50 [00:00<00:00, 110.13it/s, Loss: 1.5261]\n",
      "/home/ealvarez/miniconda3/envs/gnn_unsupervised_3.10/lib/python3.10/site-packages/torch_geometric/transforms/random_link_split.py:220: UserWarning: There are not enough negative edges to satisfy the provided sampling ratio. The ratio will be adjusted to 0.00.\n",
      "  warnings.warn(\n"
     ]
    },
    {
     "name": "stdout",
     "output_type": "stream",
     "text": [
      "Early stopping, epoch: 48\n"
     ]
    },
    {
     "name": "stderr",
     "output_type": "stream",
     "text": [
      "Epoch: 50: 100%|██████████| 50/50 [00:00<00:00, 111.05it/s, Loss: 1.4131]\n",
      "/home/ealvarez/miniconda3/envs/gnn_unsupervised_3.10/lib/python3.10/site-packages/torch_geometric/transforms/random_link_split.py:220: UserWarning: There are not enough negative edges to satisfy the provided sampling ratio. The ratio will be adjusted to 0.00.\n",
      "  warnings.warn(\n",
      "Epoch: 33:  64%|██████▍   | 32/50 [00:00<00:00, 108.72it/s, Loss: 1.4148]\n"
     ]
    },
    {
     "name": "stdout",
     "output_type": "stream",
     "text": [
      "Early stopping, epoch: 33\n",
      "Edge-embeddings\n"
     ]
    },
    {
     "name": "stderr",
     "output_type": "stream",
     "text": [
      "100%|██████████| 2/2 [00:01<00:00,  1.98it/s]\n",
      "100%|██████████| 2/2 [00:00<00:00,  2.00it/s]\n",
      "100%|██████████| 2/2 [00:01<00:00,  2.00it/s]\n",
      "100%|██████████| 2/2 [00:00<00:00,  2.00it/s]\n",
      "100%|██████████| 2/2 [00:01<00:00,  1.98it/s]\n",
      "100%|██████████| 2/2 [00:00<00:00,  2.05it/s]\n",
      "100%|██████████| 2/2 [00:00<00:00,  2.01it/s]\n",
      "100%|██████████| 2/2 [00:00<00:00,  2.01it/s]\n",
      "100%|██████████| 2/2 [00:01<00:00,  1.98it/s]\n",
      "100%|██████████| 9/9 [00:09<00:00,  1.00s/it]\n",
      "100%|██████████| 2/2 [00:00<00:00, 125.92it/s]\n",
      "100%|██████████| 2/2 [00:00<00:00, 222.66it/s]\n",
      "100%|██████████| 2/2 [00:00<00:00, 226.65it/s]\n",
      "100%|██████████| 2/2 [00:00<00:00, 220.58it/s]\n",
      "100%|██████████| 2/2 [00:00<00:00, 228.61it/s]\n",
      "100%|██████████| 2/2 [00:00<00:00, 233.19it/s]\n",
      "100%|██████████| 2/2 [00:00<00:00, 279.09it/s]\n",
      "100%|██████████| 2/2 [00:00<00:00, 280.18it/s]\n",
      "100%|██████████| 2/2 [00:00<00:00, 219.95it/s]\n",
      "100%|██████████| 9/9 [00:00<00:00, 81.73it/s]\n"
     ]
    },
    {
     "name": "stdout",
     "output_type": "stream",
     "text": [
      "Outlier detection\n"
     ]
    },
    {
     "name": "stderr",
     "output_type": "stream",
     "text": [
      "100%|██████████| 9/9 [00:00<00:00, 25.41it/s]\n",
      "100%|██████████| 9/9 [00:00<00:00, 259.95it/s]\n",
      "100%|██████████| 9/9 [00:00<00:00, 71.82it/s]\n"
     ]
    },
    {
     "name": "stdout",
     "output_type": "stream",
     "text": [
      "vgae-base str\n",
      "Node-embeddings\n",
      "Subgroups id:\t {'WT-YNB': ['str'], 'S51A-YNB': ['str'], 'WT-Tyr': ['str'], 'S51A-Tyr': ['str'], 'WT-total': ['str'], 'WT-vac': ['str'], 'avt1-total': ['str'], 'avt1-vac': ['str'], 'aa-standard': ['str']}\n"
     ]
    },
    {
     "name": "stderr",
     "output_type": "stream",
     "text": [
      "Epoch: 50: 100%|██████████| 50/50 [00:00<00:00, 94.37it/s, Loss: 1.4160]\n",
      "Epoch: 20:  38%|███▊      | 19/50 [00:00<00:00, 90.95it/s, Loss: 1.6668]\n"
     ]
    },
    {
     "name": "stdout",
     "output_type": "stream",
     "text": [
      "Early stopping, epoch: 20\n"
     ]
    },
    {
     "name": "stderr",
     "output_type": "stream",
     "text": [
      "Epoch: 50: 100%|██████████| 50/50 [00:00<00:00, 94.79it/s, Loss: 1.4103]\n",
      "Epoch: 36:  70%|███████   | 35/50 [00:00<00:00, 87.65it/s, Loss: 1.4326]\n"
     ]
    },
    {
     "name": "stdout",
     "output_type": "stream",
     "text": [
      "Early stopping, epoch: 36\n"
     ]
    },
    {
     "name": "stderr",
     "output_type": "stream",
     "text": [
      "Epoch: 50: 100%|██████████| 50/50 [00:00<00:00, 93.69it/s, Loss: 1.4527]\n",
      "Epoch: 27:  52%|█████▏    | 26/50 [00:00<00:00, 88.34it/s, Loss: 1.5343]\n"
     ]
    },
    {
     "name": "stdout",
     "output_type": "stream",
     "text": [
      "Early stopping, epoch: 27\n"
     ]
    },
    {
     "name": "stderr",
     "output_type": "stream",
     "text": [
      "Epoch: 29:  56%|█████▌    | 28/50 [00:00<00:00, 89.82it/s, Loss: 1.4050]\n"
     ]
    },
    {
     "name": "stdout",
     "output_type": "stream",
     "text": [
      "Early stopping, epoch: 29\n"
     ]
    },
    {
     "name": "stderr",
     "output_type": "stream",
     "text": [
      "Epoch: 42:  82%|████████▏ | 41/50 [00:00<00:00, 90.73it/s, Loss: 1.4015]\n"
     ]
    },
    {
     "name": "stdout",
     "output_type": "stream",
     "text": [
      "Early stopping, epoch: 42\n"
     ]
    },
    {
     "name": "stderr",
     "output_type": "stream",
     "text": [
      "Epoch: 50: 100%|██████████| 50/50 [00:00<00:00, 92.66it/s, Loss: 1.4101]\n"
     ]
    },
    {
     "name": "stdout",
     "output_type": "stream",
     "text": [
      "Edge-embeddings\n"
     ]
    },
    {
     "name": "stderr",
     "output_type": "stream",
     "text": [
      "100%|██████████| 1/1 [00:00<00:00,  1.93it/s]\n",
      "100%|██████████| 1/1 [00:00<00:00,  1.88it/s]\n",
      "100%|██████████| 1/1 [00:00<00:00,  1.89it/s]\n",
      "100%|██████████| 1/1 [00:00<00:00,  1.91it/s]\n",
      "100%|██████████| 1/1 [00:00<00:00,  1.90it/s]\n",
      "100%|██████████| 1/1 [00:00<00:00,  1.81it/s]\n",
      "100%|██████████| 1/1 [00:00<00:00,  1.93it/s]\n",
      "100%|██████████| 1/1 [00:00<00:00,  1.90it/s]\n",
      "100%|██████████| 1/1 [00:00<00:00,  1.89it/s]\n",
      "100%|██████████| 9/9 [00:04<00:00,  1.88it/s]\n",
      "100%|██████████| 1/1 [00:00<00:00, 73.04it/s]\n",
      "100%|██████████| 1/1 [00:00<00:00, 127.84it/s]\n",
      "100%|██████████| 1/1 [00:00<00:00, 140.71it/s]\n",
      "100%|██████████| 1/1 [00:00<00:00, 144.55it/s]\n",
      "100%|██████████| 1/1 [00:00<00:00, 135.73it/s]\n",
      "100%|██████████| 1/1 [00:00<00:00, 148.10it/s]\n",
      "100%|██████████| 1/1 [00:00<00:00, 152.59it/s]\n",
      "100%|██████████| 1/1 [00:00<00:00, 128.87it/s]\n",
      "100%|██████████| 1/1 [00:00<00:00, 145.01it/s]\n",
      "100%|██████████| 9/9 [00:00<00:00, 92.50it/s]\n"
     ]
    },
    {
     "name": "stdout",
     "output_type": "stream",
     "text": [
      "Outlier detection\n"
     ]
    },
    {
     "name": "stderr",
     "output_type": "stream",
     "text": [
      "100%|██████████| 9/9 [00:00<00:00, 24.12it/s]\n",
      "100%|██████████| 9/9 [00:00<00:00, 427.99it/s]\n",
      "100%|██████████| 9/9 [00:00<00:00, 200.92it/s]\n",
      "100%|██████████| 9/9 [00:00<00:00, 2222.74it/s]\n",
      "100%|██████████| 9/9 [00:00<00:00, 71.44it/s]\n"
     ]
    },
    {
     "name": "stdout",
     "output_type": "stream",
     "text": [
      "vgae-base dyn\n",
      "Node-embeddings\n",
      "Subgroups id:\t {'WT-YNB': ['dyn'], 'S51A-YNB': ['dyn'], 'WT-Tyr': ['dyn'], 'S51A-Tyr': ['dyn'], 'WT-total': ['dyn'], 'WT-vac': ['dyn'], 'avt1-total': ['dyn'], 'avt1-vac': ['dyn'], 'aa-standard': ['dyn']}\n"
     ]
    },
    {
     "name": "stderr",
     "output_type": "stream",
     "text": [
      "Epoch: 39:  76%|███████▌  | 38/50 [00:00<00:00, 85.96it/s, Loss: 1.4527]\n"
     ]
    },
    {
     "name": "stdout",
     "output_type": "stream",
     "text": [
      "Early stopping, epoch: 39\n"
     ]
    },
    {
     "name": "stderr",
     "output_type": "stream",
     "text": [
      "Epoch: 34:  66%|██████▌   | 33/50 [00:00<00:00, 87.94it/s, Loss: 1.5733]\n"
     ]
    },
    {
     "name": "stdout",
     "output_type": "stream",
     "text": [
      "Early stopping, epoch: 34\n"
     ]
    },
    {
     "name": "stderr",
     "output_type": "stream",
     "text": [
      "Epoch: 46:  90%|█████████ | 45/50 [00:00<00:00, 87.95it/s, Loss: 1.4241]\n"
     ]
    },
    {
     "name": "stdout",
     "output_type": "stream",
     "text": [
      "Early stopping, epoch: 46\n"
     ]
    },
    {
     "name": "stderr",
     "output_type": "stream",
     "text": [
      "Epoch: 43:  84%|████████▍ | 42/50 [00:00<00:00, 87.28it/s, Loss: 1.4175]\n"
     ]
    },
    {
     "name": "stdout",
     "output_type": "stream",
     "text": [
      "Early stopping, epoch: 43\n"
     ]
    },
    {
     "name": "stderr",
     "output_type": "stream",
     "text": [
      "Epoch: 36:  70%|███████   | 35/50 [00:00<00:00, 87.92it/s, Loss: 1.5371]\n"
     ]
    },
    {
     "name": "stdout",
     "output_type": "stream",
     "text": [
      "Early stopping, epoch: 36\n"
     ]
    },
    {
     "name": "stderr",
     "output_type": "stream",
     "text": [
      "Epoch: 50: 100%|██████████| 50/50 [00:00<00:00, 91.66it/s, Loss: 1.4377]\n",
      "Epoch: 40:  78%|███████▊  | 39/50 [00:00<00:00, 90.04it/s, Loss: 1.4032]\n"
     ]
    },
    {
     "name": "stdout",
     "output_type": "stream",
     "text": [
      "Early stopping, epoch: 40\n"
     ]
    },
    {
     "name": "stderr",
     "output_type": "stream",
     "text": [
      "Epoch: 30:  58%|█████▊    | 29/50 [00:00<00:00, 89.53it/s, Loss: 1.4065]\n"
     ]
    },
    {
     "name": "stdout",
     "output_type": "stream",
     "text": [
      "Early stopping, epoch: 30\n"
     ]
    },
    {
     "name": "stderr",
     "output_type": "stream",
     "text": [
      "Epoch: 50: 100%|██████████| 50/50 [00:00<00:00, 94.05it/s, Loss: 1.4163]\n"
     ]
    },
    {
     "name": "stdout",
     "output_type": "stream",
     "text": [
      "Edge-embeddings\n"
     ]
    },
    {
     "name": "stderr",
     "output_type": "stream",
     "text": [
      "100%|██████████| 1/1 [00:00<00:00,  1.80it/s]\n",
      "100%|██████████| 1/1 [00:00<00:00,  1.83it/s]\n",
      "100%|██████████| 1/1 [00:00<00:00,  1.90it/s]\n",
      "100%|██████████| 1/1 [00:00<00:00,  1.95it/s]\n",
      "100%|██████████| 1/1 [00:00<00:00,  1.89it/s]\n",
      "100%|██████████| 1/1 [00:00<00:00,  1.95it/s]\n",
      "100%|██████████| 1/1 [00:00<00:00,  1.87it/s]\n",
      "100%|██████████| 1/1 [00:00<00:00,  1.85it/s]\n",
      "100%|██████████| 1/1 [00:00<00:00,  1.96it/s]\n",
      "100%|██████████| 9/9 [00:04<00:00,  1.88it/s]\n",
      "100%|██████████| 1/1 [00:00<00:00, 76.45it/s]\n",
      "100%|██████████| 1/1 [00:00<00:00, 143.01it/s]\n",
      "100%|██████████| 1/1 [00:00<00:00, 157.90it/s]\n",
      "100%|██████████| 1/1 [00:00<00:00, 133.41it/s]\n",
      "100%|██████████| 1/1 [00:00<00:00, 158.68it/s]\n",
      "100%|██████████| 1/1 [00:00<00:00, 158.02it/s]\n",
      "100%|██████████| 1/1 [00:00<00:00, 160.77it/s]\n",
      "100%|██████████| 1/1 [00:00<00:00, 136.11it/s]\n",
      "100%|██████████| 1/1 [00:00<00:00, 156.80it/s]\n",
      "100%|██████████| 9/9 [00:00<00:00, 112.48it/s]\n"
     ]
    },
    {
     "name": "stdout",
     "output_type": "stream",
     "text": [
      "Outlier detection\n"
     ]
    },
    {
     "name": "stderr",
     "output_type": "stream",
     "text": [
      "100%|██████████| 9/9 [00:00<00:00, 24.14it/s]\n",
      "100%|██████████| 9/9 [00:00<00:00, 419.15it/s]\n",
      "100%|██████████| 9/9 [00:00<00:00, 198.25it/s]\n",
      "100%|██████████| 9/9 [00:00<00:00, 1652.96it/s]\n",
      "100%|██████████| 9/9 [00:00<00:00, 72.35it/s]\n"
     ]
    }
   ],
   "source": [
    "# read raw data\n",
    "df_join_raw = pd.read_csv(\"input/{}_raw.csv\".format(exp), index_col=0)\n",
    "df_join_raw = df_join_raw.iloc[:, 2:]\n",
    "df_join_raw\n",
    "\n",
    "# log10\n",
    "df_join_raw_log = log10_global(df_join_raw)\n",
    "df_join_raw_log.head()\n",
    "\n",
    "epochs = 50 # change\n",
    "cuda = 0    # change\n",
    "device = torch.device('cuda:{}'.format(cuda) if torch.cuda.is_available() else 'cpu')\n",
    "print(device)\n",
    "\n",
    "runtimes = []\n",
    "\n",
    "# node-embeddings + edge-embeddings\n",
    "for method in methods: # change\n",
    "    for data_variation in data_variations: # change\n",
    "        print(method, data_variation)\n",
    "        time_node_embedding = 0\n",
    "        time_edge_embedding = 0\n",
    "        for iteration in range(1, iterations + 1):\n",
    "            # ---\n",
    "            # Node embeddings\n",
    "            # ---\n",
    "            print(\"Node-embeddings\")\n",
    "            start = time.time()\n",
    "            subgroups_id = subgroups_id_.copy()\n",
    "            \n",
    "            torch.manual_seed(seeds[iteration])\n",
    "            np.random.seed(seeds[iteration])\n",
    "            \n",
    "            if data_variation != \"none\":\n",
    "                for group in groups_id:\n",
    "                    subgroups_id[group] = [data_variation]\n",
    "            print(\"Subgroups id:\\t\", subgroups_id)\n",
    "            \n",
    "            for group in groups_id:\n",
    "                for subgroup in subgroups_id[group]:\n",
    "                    nodes_data = pd.read_csv(\"output/{}/preprocessing/graphs_data/nodes_data_{}_{}.csv\".format(exp, group, subgroup)).iloc[:, 2:]\n",
    "                    edges_data = pd.read_csv(\"output/{}/preprocessing/graphs_data/edges_data_{}_{}.csv\".format(exp, group, subgroup))\n",
    "\n",
    "                    if method == \"dgi\":\n",
    "                        data = CustomDatasetDGI(\"g_{}_{}\".format(group, subgroup), nodes_data, edges_data)\n",
    "                        graph = data[0]\n",
    "                        \n",
    "                        args_ = args_dgi(dimension)\n",
    "                        train_dgi(exp, graph, args_, method, group, subgroup, iteration)\n",
    "                    \n",
    "                    elif method == \"dgi-tran\":\n",
    "                        transform = T.Compose([\n",
    "                            T.NormalizeFeatures(),\n",
    "                            T.ToDevice(device),\n",
    "                            # T.RandomLinkSplit(num_val=0.05, num_test=0.1, is_undirected=True, split_labels=True, add_negative_train_samples=False),\n",
    "                        ])\n",
    "                        name = \"{}_{}_{}_{}_{}\".format(exp, method, group, subgroup, iteration)\n",
    "                        dataset = CustomDataset(nodes_data, edges_data, transform=transform)\n",
    "                        model = DGI_Transductive(dataset, dimension, device, name)\n",
    "                        model.fit(epochs=epochs)\n",
    "                        model.save_node_embeddings(\"output/{}/node_embeddings/node-embeddings_{}_{}_{}_{}.csv\".format(exp, method, group, subgroup, iteration))\n",
    "                    \n",
    "                    elif method == \"dgi-indu\":\n",
    "                        dataset = CustomDataset(nodes_data, edges_data, transform=None)\n",
    "                        model = DGI_Inductive(dataset, dimension, device)\n",
    "                        model.fit(epochs=epochs)\n",
    "                        model.save_node_embeddings(\"output/{}/node_embeddings/node-embeddings_{}_{}_{}_{}.csv\".format(exp, method, group, subgroup, iteration))\n",
    "                        \n",
    "                    elif method == \"vgae\":\n",
    "                        data = CustomDatasetVGAE(\"g_{}_{}\".format(group, subgroup), nodes_data, edges_data)\n",
    "                        graph = data[0]\n",
    "\n",
    "                        # train\n",
    "                        args_ = args_vgae(dimension)\n",
    "                        train_vgae(exp, graph, args_, method, group, subgroup, iteration)\n",
    "                        \n",
    "                    elif method == \"vgae-base\":\n",
    "                        transform = T.Compose([\n",
    "                            T.NormalizeFeatures(),\n",
    "                            T.ToDevice(device),\n",
    "                            T.RandomLinkSplit(num_val=0.05, num_test=0.1, is_undirected=True, split_labels=True, add_negative_train_samples=False),\n",
    "                        ])\n",
    "                        name = \"{}_{}_{}_{}_{}\".format(exp, method, group, subgroup, iteration)\n",
    "                        dataset = CustomDataset(nodes_data, edges_data, transform=transform)\n",
    "                        model = VGAE_Base(dataset, dimension, device, name)\n",
    "                        model.fit(epochs=epochs)\n",
    "                        model.save_node_embeddings(\"output/{}/node_embeddings/node-embeddings_{}_{}_{}_{}.csv\".format(exp, method, group, subgroup, iteration))\n",
    "\n",
    "                    elif method == \"vgae-line\":\n",
    "                        transform = T.Compose([\n",
    "                            T.NormalizeFeatures(),\n",
    "                            T.ToDevice(device),\n",
    "                            T.RandomLinkSplit(num_val=0.05, num_test=0.1, is_undirected=True, split_labels=True, add_negative_train_samples=False),\n",
    "                        ])\n",
    "                        name = \"{}_{}_{}_{}_{}\".format(exp, method, group, subgroup, iteration)\n",
    "                        dataset = CustomDataset(nodes_data, edges_data, transform=transform)\n",
    "                        model = VGAE_Linear(dataset, dimension, device, name)\n",
    "                        model.fit(epochs=epochs)\n",
    "                        model.save_node_embeddings(\"output/{}/node_embeddings/node-embeddings_{}_{}_{}_{}.csv\".format(exp, method, group, subgroup, iteration))\n",
    "                    \n",
    "                    elif method == \"argva-base\":\n",
    "                        transform = T.Compose([\n",
    "                            T.NormalizeFeatures(),\n",
    "                            T.ToDevice(device),\n",
    "                            T.RandomLinkSplit(num_val=0.05, num_test=0.1, is_undirected=True,\n",
    "                                            split_labels=True, add_negative_train_samples=False),\n",
    "                        ])\n",
    "                        name = \"{}_{}_{}_{}_{}\".format(exp, method, group, subgroup, iteration)\n",
    "                        dataset = CustomDataset(nodes_data, edges_data, transform=transform)\n",
    "                        model = ARGVA_Base(dataset, dimension, device, name)\n",
    "                        model.fit(epochs=epochs)\n",
    "                        model.save_node_embeddings(\"output/{}/node_embeddings/node-embeddings_{}_{}_{}_{}.csv\".format(exp, method, group, subgroup, iteration))\n",
    "\n",
    "                    elif method == \"deep-walk\":\n",
    "                        p = 1.0\n",
    "                        q = 1.0\n",
    "                        transform = T.Compose([\n",
    "                            T.ToDevice(device)\n",
    "                        ])\n",
    "                        dataset = CustomDataset(nodes_data, edges_data, transform=transform)                            \n",
    "                        model = Node2VecBase(p, q, dataset, dimension, device)\n",
    "                        model.fit(epochs=epochs)\n",
    "                        model.save_node_embeddings(\"output/{}/node_embeddings/node-embeddings_{}_{}_{}_{}.csv\".format(exp, method, group, subgroup, iteration))\n",
    "\n",
    "                    elif method == \"node2vec15\":\n",
    "                        p = 1.0\n",
    "                        q = 0.5\n",
    "                        transform = T.Compose([\n",
    "                            T.ToDevice(device)\n",
    "                        ])\n",
    "                        dataset = CustomDataset(nodes_data, edges_data, transform=transform)                            \n",
    "                        model = Node2VecBase(p, q, dataset, dimension, device)\n",
    "                        model.fit(epochs=epochs)\n",
    "                        model.save_node_embeddings(\"output/{}/node_embeddings/node-embeddings_{}_{}_{}_{}.csv\".format(exp, method, group, subgroup, iteration))\n",
    "\n",
    "                    elif method == \"node2vec12\":\n",
    "                        p = 1.0\n",
    "                        q = 2.0\n",
    "                        transform = T.Compose([\n",
    "                            T.ToDevice(device)\n",
    "                        ])\n",
    "                        dataset = CustomDataset(nodes_data, edges_data, transform=transform)                            \n",
    "                        model = Node2VecBase(p, q, dataset, dimension, device)\n",
    "                        model.fit(epochs=epochs)\n",
    "                        model.save_node_embeddings(\"output/{}/node_embeddings/node-embeddings_{}_{}_{}_{}.csv\".format(exp, method, group, subgroup, iteration))\n",
    "            \n",
    "            end = time.time()\n",
    "            elapsed = end - start\n",
    "            time_node_embedding += elapsed\n",
    "            \n",
    "            torch.cuda.empty_cache()\n",
    "    \n",
    "            # ---\n",
    "            # Edge embeddings\n",
    "            # ---\n",
    "            print(\"Edge-embeddings\")\n",
    "            start = time.time()\n",
    "            subgroups_id = subgroups_id_.copy()\n",
    "            \n",
    "            if data_variation != \"none\":\n",
    "                subgroups_id_op = {}\n",
    "                for group in groups_id:\n",
    "                    subgroups_id_op[group] = [data_variation]\n",
    "            else:\n",
    "                subgroups_id_op = subgroups_id\n",
    "            # print(\"Subgroups id op:\", subgroups_id_op)\n",
    "            \n",
    "            edge_embeddings_global(exp, method, groups_id, subgroups_id_op, iteration)\n",
    "            \n",
    "            dict_df_edge_embeddings_concat = {}\n",
    "            for group in tqdm(groups_id):\n",
    "                df_edge_embeddings_concat = pd.DataFrame()\n",
    "                k = 0\n",
    "                for subgroup in tqdm(subgroups_id_op[group]):\n",
    "                    df_edge_embeddings = pd.read_csv(\"output/{}/edge_embeddings/edge-embeddings_{}_{}_{}_{}.csv\".format(exp, method, group, subgroup, iteration))\n",
    "                    df_edge_embeddings[\"subgroup\"] = [k] * len(df_edge_embeddings)\n",
    "                    df_edge_embeddings_concat = pd.concat([df_edge_embeddings_concat, df_edge_embeddings])\n",
    "                    k += 1\n",
    "                \n",
    "                # df_edge_embeddings_concat.to_csv(\"output/{}/edge_embeddings/edge-embeddings_concat_{}_{}_{}_{}.csv\".format(exp, method, group, data_variation, iteration), index=False)\n",
    "                dict_df_edge_embeddings_concat[group] = df_edge_embeddings_concat\n",
    "                    \n",
    "            # ---\n",
    "            # Outlier detection (ECOD)\n",
    "            # ---\n",
    "            print(\"Outlier detection\")\n",
    "            # dict_df_edge_embeddings_concat_outlier = {}\n",
    "            dict_df_edge_embeddings_concat_filter = {}\n",
    "\n",
    "            for group in tqdm(groups_id):\n",
    "                # df_edge_embeddings_concat = pd.read_csv(\"output/{}/edge_embeddings/edge-embeddings_concat_{}_{}_{}_{}.csv\".format(exp, method, group, data_variation, iteration))\n",
    "                df_edge_embeddings_concat = dict_df_edge_embeddings_concat[group]\n",
    "                \n",
    "                X_train = df_edge_embeddings_concat.iloc[:, 2:-1]\n",
    "\n",
    "                clf = ECOD(contamination=0.05, n_jobs=1)\n",
    "                clf.fit(X_train)\n",
    "\n",
    "                X_train[\"labels\"] = clf.labels_ # binary labels (0: inliers, 1: outliers)\n",
    "\n",
    "                df_edge_embeddings_concat_filter = df_edge_embeddings_concat.copy()\n",
    "                df_edge_embeddings_concat_filter[\"labels\"] = clf.labels_\n",
    "\n",
    "                # save\n",
    "                df_edge_embeddings_concat_filter.to_csv(\"output/{}/edge_embeddings/edge-embeddings_concat_outlier_{}_{}_{}_{}.csv\".format(exp, method, group, data_variation, iteration), index=False)\n",
    "                \n",
    "                df_edge_embeddings_concat_filter = df_edge_embeddings_concat_filter[df_edge_embeddings_concat_filter[\"labels\"] == 0].copy()\n",
    "                df_edge_embeddings_concat_filter = df_edge_embeddings_concat_filter.iloc[:, :-1]\n",
    "\n",
    "                # dict_df_edge_embeddings_concat_outlier[group] = X_train\n",
    "                dict_df_edge_embeddings_concat_filter[group] = df_edge_embeddings_concat_filter\n",
    "                \n",
    "            # mapping idx with id\n",
    "            for group in tqdm(groups_id):\n",
    "                df_aux = pd.DataFrame(())\n",
    "                k = 0\n",
    "                for subgroup in subgroups_id_op[group]:\n",
    "                    df_nodes = pd.read_csv(\"output/{}/preprocessing/graphs_data/nodes_data_{}_{}.csv\".format(exp, group, subgroup))\n",
    "                    dict_id = dict(zip(df_nodes[\"idx\"], df_nodes[\"id\"]))\n",
    "\n",
    "                    # mapping\n",
    "                    df_edge_embeddings_concat_filter = dict_df_edge_embeddings_concat_filter[group]\n",
    "                    df_edge_embeddings_concat_filter_aux = df_edge_embeddings_concat_filter[df_edge_embeddings_concat_filter[\"subgroup\"] == k].copy()\n",
    "                    \n",
    "                    # print(df_edge_embeddings_concat_filter)\n",
    "                    df_edge_embeddings_concat_filter_aux[\"source\"] = df_edge_embeddings_concat_filter_aux[\"source\"].map(dict_id)\n",
    "                    df_edge_embeddings_concat_filter_aux[\"target\"] = df_edge_embeddings_concat_filter_aux[\"target\"].map(dict_id)\n",
    "                    df_aux = pd.concat([df_aux, df_edge_embeddings_concat_filter_aux])\n",
    "                    k += 1\n",
    "                dict_df_edge_embeddings_concat_filter[group] = df_aux\n",
    "                \n",
    "            # format id\n",
    "            if data_variation != \"none\":\n",
    "                for group in tqdm(groups_id):\n",
    "                    # format\n",
    "                    df_edge_embeddings_concat_filter = dict_df_edge_embeddings_concat_filter[group]\n",
    "                    df_edge_embeddings_concat_filter[\"source\"] = df_edge_embeddings_concat_filter[\"source\"].map(lambda x: int(x[1:]))\n",
    "                    df_edge_embeddings_concat_filter[\"target\"] = df_edge_embeddings_concat_filter[\"target\"].map(lambda x: int(x[1:]))\n",
    "                        \n",
    "            # filter by different edges\n",
    "            if data_variation != \"none\":\n",
    "                for group in tqdm(groups_id):\n",
    "                    df_edge_embeddings_concat_filter = dict_df_edge_embeddings_concat_filter[group]\n",
    "                    df_edge_embeddings_concat_filter = df_edge_embeddings_concat_filter[df_edge_embeddings_concat_filter[\"source\"] != df_edge_embeddings_concat_filter[\"target\"]].copy()\n",
    "                    dict_df_edge_embeddings_concat_filter[group] = df_edge_embeddings_concat_filter\n",
    "                    \n",
    "            # count edges and filter by count\n",
    "            dict_df_edges_filter = {}\n",
    "            for group in tqdm(groups_id):\n",
    "                # read\n",
    "                df_edge_embeddings_concat_filter = dict_df_edge_embeddings_concat_filter[group]\n",
    "                \n",
    "                # sort edges\n",
    "                sort_df_edges(df_edge_embeddings_concat_filter)\n",
    "\n",
    "                df_edge_embeddings_concat_filter = df_edge_embeddings_concat_filter[[\"source\", \"target\"]].value_counts().to_frame()\n",
    "                df_edge_embeddings_concat_filter.reset_index(inplace=True)\n",
    "                df_edge_embeddings_concat_filter.columns = [\"source\", \"target\", \"count\"]\n",
    "                \n",
    "                # filter\n",
    "                df_edge_embeddings_concat_filter = df_edge_embeddings_concat_filter[df_edge_embeddings_concat_filter[\"count\"] == len(subgroups_id[group])]\n",
    "                df_edge_embeddings_concat_filter = df_edge_embeddings_concat_filter.iloc[:, [0, 1]]\n",
    "                dict_df_edges_filter[group] = df_edge_embeddings_concat_filter\n",
    "                \n",
    "                df_edge_embeddings_concat_filter.sort_values([\"source\", \"target\"], ascending=True, inplace=True)\n",
    "                df_edge_embeddings_concat_filter.to_csv(\"output/{}/common_edges/common_edges_{}_{}_{}_{}.csv\".format(exp, method, group, data_variation, iteration), index=False)\n",
    "            \n",
    "            end = time.time()\n",
    "            elapsed = end - start\n",
    "            time_edge_embedding += elapsed\n",
    "        \n",
    "        runtimes.append([method, data_variation, time_node_embedding / iterations, time_edge_embedding / iterations])\n",
    "\n",
    "# save runtimes\n",
    "df_runtimes = pd.DataFrame(runtimes, columns=[\"Method\", \"Data variation\", \"Runtime node embedding\", \"Runtime edge embedding\"])\n",
    "df_runtimes.to_csv(\"output/{}/common_edges/runtimes.csv\".format(exp), index=False)"
   ]
  },
  {
   "cell_type": "code",
   "execution_count": 15,
   "metadata": {},
   "outputs": [],
   "source": [
    "# import IPython\n",
    "# IPython.Application.instance().kernel.do_shutdown(True)"
   ]
  },
  {
   "cell_type": "code",
   "execution_count": 16,
   "metadata": {},
   "outputs": [],
   "source": [
    "# torch.cuda.empty_cache()"
   ]
  },
  {
   "cell_type": "code",
   "execution_count": 17,
   "metadata": {},
   "outputs": [],
   "source": [
    "# del dataset # data, model, optimizer"
   ]
  },
  {
   "cell_type": "code",
   "execution_count": 18,
   "metadata": {},
   "outputs": [
    {
     "name": "stdout",
     "output_type": "stream",
     "text": [
      "Union\n",
      "Checking dataset\n",
      "Count infinite:\t 0\n",
      "Count nan:\t 0\n",
      "Count negative:\t 0\n",
      "Count zero:\t 0\n",
      "Count positive:\t 440\n",
      "Checking dataset\n",
      "Count infinite:\t 0\n",
      "Count nan:\t 0\n",
      "Count negative:\t 6402\n",
      "Count zero:\t 0\n",
      "Count positive:\t 5698\n",
      "dgi-tran WT-YNB none\n",
      "Union\n",
      "Checking dataset\n",
      "Count infinite:\t 0\n",
      "Count nan:\t 0\n",
      "Count negative:\t 0\n",
      "Count zero:\t 0\n",
      "Count positive:\t 436\n",
      "Checking dataset\n",
      "Count infinite:\t 0\n",
      "Count nan:\t 0\n",
      "Count negative:\t 6266\n",
      "Count zero:\t 0\n",
      "Count positive:\t 5615\n",
      "dgi-tran WT-YNB str\n",
      "Union\n",
      "Checking dataset\n",
      "Count infinite:\t 0\n",
      "Count nan:\t 0\n",
      "Count negative:\t 0\n",
      "Count zero:\t 0\n",
      "Count positive:\t 440\n",
      "Checking dataset\n",
      "Count infinite:\t 0\n",
      "Count nan:\t 0\n",
      "Count negative:\t 6402\n",
      "Count zero:\t 0\n",
      "Count positive:\t 5698\n"
     ]
    },
    {
     "name": "stdout",
     "output_type": "stream",
     "text": [
      "dgi-tran WT-YNB dyn\n",
      "Union\n",
      "Checking dataset\n",
      "Count infinite:\t 0\n",
      "Count nan:\t 0\n",
      "Count negative:\t 0\n",
      "Count zero:\t 0\n",
      "Count positive:\t 436\n",
      "Checking dataset\n",
      "Count infinite:\t 0\n",
      "Count nan:\t 0\n",
      "Count negative:\t 5976\n",
      "Count zero:\t 0\n",
      "Count positive:\t 5905\n",
      "dgi-tran S51A-YNB none\n",
      "Union\n",
      "Checking dataset\n",
      "Count infinite:\t 0\n",
      "Count nan:\t 0\n",
      "Count negative:\t 0\n",
      "Count zero:\t 0\n",
      "Count positive:\t 432\n",
      "Checking dataset\n",
      "Count infinite:\t 0\n",
      "Count nan:\t 0\n",
      "Count negative:\t 5878\n",
      "Count zero:\t 0\n",
      "Count positive:\t 5786\n",
      "dgi-tran S51A-YNB str\n",
      "Union\n",
      "Checking dataset\n",
      "Count infinite:\t 0\n",
      "Count nan:\t 0\n",
      "Count negative:\t 0\n",
      "Count zero:\t 0\n",
      "Count positive:\t 436\n",
      "Checking dataset\n",
      "Count infinite:\t 0\n",
      "Count nan:\t 0\n",
      "Count negative:\t 5976\n",
      "Count zero:\t 0\n",
      "Count positive:\t 5905\n",
      "dgi-tran S51A-YNB dyn\n",
      "Union\n",
      "Checking dataset\n",
      "Count infinite:\t 0\n",
      "Count nan:\t 0\n",
      "Count negative:\t 0\n",
      "Count zero:\t 0\n",
      "Count positive:\t 436\n",
      "Checking dataset\n",
      "Count infinite:\t 0\n",
      "Count nan:\t 0\n",
      "Count negative:\t 6092\n",
      "Count zero:\t 0\n",
      "Count positive:\t 5789\n",
      "dgi-tran WT-Tyr none\n",
      "Union\n",
      "Checking dataset\n",
      "Count infinite:\t 0\n",
      "Count nan:\t 0\n",
      "Count negative:\t 0\n",
      "Count zero:\t 0\n",
      "Count positive:\t 432\n",
      "Checking dataset\n",
      "Count infinite:\t 0\n",
      "Count nan:\t 0\n",
      "Count negative:\t 5972\n",
      "Count zero:\t 0\n",
      "Count positive:\t 5692\n",
      "dgi-tran WT-Tyr str\n",
      "Union\n",
      "Checking dataset\n",
      "Count infinite:\t 0\n",
      "Count nan:\t 0\n",
      "Count negative:\t 0\n",
      "Count zero:\t 0\n",
      "Count positive:\t 436\n",
      "Checking dataset\n",
      "Count infinite:\t 0\n",
      "Count nan:\t 0\n",
      "Count negative:\t 6092\n",
      "Count zero:\t 0\n",
      "Count positive:\t 5789\n",
      "dgi-tran WT-Tyr dyn\n",
      "Union\n",
      "Checking dataset\n",
      "Count infinite:\t 0\n",
      "Count nan:\t 0\n",
      "Count negative:\t 0\n",
      "Count zero:\t 0\n",
      "Count positive:\t 444\n",
      "Checking dataset\n",
      "Count infinite:\t 0\n",
      "Count nan:\t 0\n",
      "Count negative:\t 7264\n",
      "Count zero:\t 0\n",
      "Count positive:\t 5057\n",
      "dgi-tran S51A-Tyr none\n",
      "Union\n",
      "Checking dataset\n",
      "Count infinite:\t 0\n",
      "Count nan:\t 0\n",
      "Count negative:\t 0\n",
      "Count zero:\t 0\n",
      "Count positive:\t 440\n",
      "Checking dataset\n",
      "Count infinite:\t 0\n",
      "Count nan:\t 0\n",
      "Count negative:\t 7098\n",
      "Count zero:\t 0\n",
      "Count positive:\t 5002\n",
      "dgi-tran S51A-Tyr str\n",
      "Union\n",
      "Checking dataset\n",
      "Count infinite:\t 0\n",
      "Count nan:\t 0\n",
      "Count negative:\t 0\n",
      "Count zero:\t 0\n",
      "Count positive:\t 444\n",
      "Checking dataset\n",
      "Count infinite:\t 0\n",
      "Count nan:\t 0\n",
      "Count negative:\t 7264\n",
      "Count zero:\t 0\n",
      "Count positive:\t 5057\n",
      "dgi-tran S51A-Tyr dyn\n",
      "Union\n",
      "Checking dataset\n",
      "Count infinite:\t 0\n",
      "Count nan:\t 0\n",
      "Count negative:\t 0\n",
      "Count zero:\t 0\n",
      "Count positive:\t 436\n",
      "Checking dataset\n",
      "Count infinite:\t 0\n",
      "Count nan:\t 0\n",
      "Count negative:\t 6180\n",
      "Count zero:\t 0\n",
      "Count positive:\t 5701\n",
      "dgi-tran WT-total none\n",
      "Union\n",
      "Checking dataset\n",
      "Count infinite:\t 0\n",
      "Count nan:\t 0\n",
      "Count negative:\t 0\n",
      "Count zero:\t 0\n",
      "Count positive:\t 432\n",
      "Checking dataset\n",
      "Count infinite:\t 0\n",
      "Count nan:\t 0\n",
      "Count negative:\t 6076\n",
      "Count zero:\t 0\n",
      "Count positive:\t 5588\n",
      "dgi-tran WT-total str\n",
      "Union\n",
      "Checking dataset\n",
      "Count infinite:\t 0\n",
      "Count nan:\t 0\n",
      "Count negative:\t 0\n",
      "Count zero:\t 0\n",
      "Count positive:\t 436\n",
      "Checking dataset\n",
      "Count infinite:\t 0\n",
      "Count nan:\t 0\n",
      "Count negative:\t 6180\n",
      "Count zero:\t 0\n",
      "Count positive:\t 5701\n",
      "dgi-tran WT-total dyn\n",
      "Union\n",
      "Checking dataset\n",
      "Count infinite:\t 0\n",
      "Count nan:\t 0\n",
      "Count negative:\t 0\n",
      "Count zero:\t 0\n",
      "Count positive:\t 444\n",
      "Checking dataset\n",
      "Count infinite:\t 0\n",
      "Count nan:\t 0\n",
      "Count negative:\t 6426\n",
      "Count zero:\t 0\n",
      "Count positive:\t 5895\n",
      "dgi-tran WT-vac none\n",
      "Union\n",
      "Checking dataset\n",
      "Count infinite:\t 0\n",
      "Count nan:\t 0\n",
      "Count negative:\t 0\n",
      "Count zero:\t 0\n",
      "Count positive:\t 440\n",
      "Checking dataset\n",
      "Count infinite:\t 0\n",
      "Count nan:\t 0\n",
      "Count negative:\t 6346\n",
      "Count zero:\t 0\n",
      "Count positive:\t 5754\n",
      "dgi-tran WT-vac str\n",
      "Union\n",
      "Checking dataset\n",
      "Count infinite:\t 0\n",
      "Count nan:\t 0\n",
      "Count negative:\t 0\n",
      "Count zero:\t 0\n",
      "Count positive:\t 444\n",
      "Checking dataset\n",
      "Count infinite:\t 0\n",
      "Count nan:\t 0\n",
      "Count negative:\t 6426\n",
      "Count zero:\t 0\n",
      "Count positive:\t 5895\n",
      "dgi-tran WT-vac dyn\n",
      "Union\n",
      "Checking dataset\n",
      "Count infinite:\t 0\n",
      "Count nan:\t 0\n",
      "Count negative:\t 0\n",
      "Count zero:\t 0\n",
      "Count positive:\t 436\n",
      "Checking dataset\n",
      "Count infinite:\t 0\n",
      "Count nan:\t 0\n",
      "Count negative:\t 6622\n",
      "Count zero:\t 0\n",
      "Count positive:\t 5259\n",
      "dgi-tran avt1-total none\n",
      "Union\n",
      "Checking dataset\n",
      "Count infinite:\t 0\n",
      "Count nan:\t 0\n",
      "Count negative:\t 0\n",
      "Count zero:\t 0\n",
      "Count positive:\t 432\n",
      "Checking dataset\n",
      "Count infinite:\t 0\n",
      "Count nan:\t 0\n",
      "Count negative:\t 6498\n",
      "Count zero:\t 0\n",
      "Count positive:\t 5166\n",
      "dgi-tran avt1-total str\n",
      "Union\n",
      "Checking dataset\n",
      "Count infinite:\t 0\n",
      "Count nan:\t 0\n",
      "Count negative:\t 0\n",
      "Count zero:\t 0\n",
      "Count positive:\t 436\n",
      "Checking dataset\n",
      "Count infinite:\t 0\n",
      "Count nan:\t 0\n",
      "Count negative:\t 6622\n",
      "Count zero:\t 0\n",
      "Count positive:\t 5259\n",
      "dgi-tran avt1-total dyn\n",
      "Union\n",
      "Checking dataset\n",
      "Count infinite:\t 0\n",
      "Count nan:\t 0\n",
      "Count negative:\t 0\n",
      "Count zero:\t 0\n",
      "Count positive:\t 444\n",
      "Checking dataset\n",
      "Count infinite:\t 0\n",
      "Count nan:\t 0\n",
      "Count negative:\t 6874\n",
      "Count zero:\t 0\n",
      "Count positive:\t 5447\n",
      "dgi-tran avt1-vac none\n",
      "Union\n",
      "Checking dataset\n",
      "Count infinite:\t 0\n",
      "Count nan:\t 0\n",
      "Count negative:\t 0\n",
      "Count zero:\t 0\n",
      "Count positive:\t 440\n",
      "Checking dataset\n",
      "Count infinite:\t 0\n",
      "Count nan:\t 0\n",
      "Count negative:\t 6786\n",
      "Count zero:\t 0\n",
      "Count positive:\t 5314\n",
      "dgi-tran avt1-vac str\n",
      "Union\n",
      "Checking dataset\n",
      "Count infinite:\t 0\n",
      "Count nan:\t 0\n",
      "Count negative:\t 0\n",
      "Count zero:\t 0\n",
      "Count positive:\t 444\n",
      "Checking dataset\n",
      "Count infinite:\t 0\n",
      "Count nan:\t 0\n",
      "Count negative:\t 6874\n",
      "Count zero:\t 0\n",
      "Count positive:\t 5447\n",
      "dgi-tran avt1-vac dyn\n",
      "Union\n",
      "Checking dataset\n",
      "Count infinite:\t 0\n",
      "Count nan:\t 0\n",
      "Count negative:\t 0\n",
      "Count zero:\t 0\n",
      "Count positive:\t 444\n",
      "Checking dataset\n",
      "Count infinite:\t 0\n",
      "Count nan:\t 0\n",
      "Count negative:\t 6180\n",
      "Count zero:\t 0\n",
      "Count positive:\t 6141\n",
      "dgi-tran aa-standard none\n",
      "Union\n",
      "Checking dataset\n",
      "Count infinite:\t 0\n",
      "Count nan:\t 0\n",
      "Count negative:\t 0\n",
      "Count zero:\t 0\n",
      "Count positive:\t 440\n",
      "Checking dataset\n",
      "Count infinite:\t 0\n",
      "Count nan:\t 0\n",
      "Count negative:\t 6070\n",
      "Count zero:\t 0\n",
      "Count positive:\t 6030\n",
      "dgi-tran aa-standard str\n",
      "Union\n",
      "Checking dataset\n",
      "Count infinite:\t 0\n",
      "Count nan:\t 0\n",
      "Count negative:\t 0\n",
      "Count zero:\t 0\n",
      "Count positive:\t 440\n",
      "Checking dataset\n",
      "Count infinite:\t 0\n",
      "Count nan:\t 0\n",
      "Count negative:\t 6064\n",
      "Count zero:\t 0\n",
      "Count positive:\t 6036\n",
      "dgi-tran aa-standard dyn\n",
      "Union\n",
      "Checking dataset\n",
      "Count infinite:\t 0\n",
      "Count nan:\t 0\n",
      "Count negative:\t 0\n",
      "Count zero:\t 0\n",
      "Count positive:\t 440\n",
      "Checking dataset\n",
      "Count infinite:\t 0\n",
      "Count nan:\t 0\n",
      "Count negative:\t 6402\n",
      "Count zero:\t 0\n",
      "Count positive:\t 5698\n",
      "argva-base WT-YNB none\n",
      "Union\n",
      "Checking dataset\n",
      "Count infinite:\t 0\n",
      "Count nan:\t 0\n",
      "Count negative:\t 0\n",
      "Count zero:\t 0\n",
      "Count positive:\t 440\n",
      "Checking dataset\n",
      "Count infinite:\t 0\n",
      "Count nan:\t 0\n",
      "Count negative:\t 6402\n",
      "Count zero:\t 0\n",
      "Count positive:\t 5698\n",
      "argva-base WT-YNB str\n",
      "Union\n",
      "Checking dataset\n",
      "Count infinite:\t 0\n",
      "Count nan:\t 0\n",
      "Count negative:\t 0\n",
      "Count zero:\t 0\n",
      "Count positive:\t 440\n",
      "Checking dataset\n",
      "Count infinite:\t 0\n",
      "Count nan:\t 0\n",
      "Count negative:\t 6402\n",
      "Count zero:\t 0\n",
      "Count positive:\t 5698\n",
      "argva-base WT-YNB dyn\n",
      "Union\n",
      "Checking dataset\n",
      "Count infinite:\t 0\n",
      "Count nan:\t 0\n",
      "Count negative:\t 0\n",
      "Count zero:\t 0\n",
      "Count positive:\t 436\n",
      "Checking dataset\n",
      "Count infinite:\t 0\n",
      "Count nan:\t 0\n",
      "Count negative:\t 5976\n",
      "Count zero:\t 0\n",
      "Count positive:\t 5905\n",
      "argva-base S51A-YNB none\n",
      "Union\n",
      "Checking dataset\n",
      "Count infinite:\t 0\n",
      "Count nan:\t 0\n",
      "Count negative:\t 0\n",
      "Count zero:\t 0\n",
      "Count positive:\t 436\n",
      "Checking dataset\n",
      "Count infinite:\t 0\n",
      "Count nan:\t 0\n",
      "Count negative:\t 5976\n",
      "Count zero:\t 0\n",
      "Count positive:\t 5905\n",
      "argva-base S51A-YNB str\n",
      "Union\n",
      "Checking dataset\n",
      "Count infinite:\t 0\n",
      "Count nan:\t 0\n",
      "Count negative:\t 0\n",
      "Count zero:\t 0\n",
      "Count positive:\t 436\n",
      "Checking dataset\n",
      "Count infinite:\t 0\n",
      "Count nan:\t 0\n",
      "Count negative:\t 5976\n",
      "Count zero:\t 0\n",
      "Count positive:\t 5905\n",
      "argva-base S51A-YNB dyn\n",
      "Union\n",
      "Checking dataset\n",
      "Count infinite:\t 0\n",
      "Count nan:\t 0\n",
      "Count negative:\t 0\n",
      "Count zero:\t 0\n",
      "Count positive:\t 436\n",
      "Checking dataset\n",
      "Count infinite:\t 0\n",
      "Count nan:\t 0\n",
      "Count negative:\t 6092\n",
      "Count zero:\t 0\n",
      "Count positive:\t 5789\n",
      "argva-base WT-Tyr none\n",
      "Union\n",
      "Checking dataset\n",
      "Count infinite:\t 0\n",
      "Count nan:\t 0\n",
      "Count negative:\t 0\n",
      "Count zero:\t 0\n",
      "Count positive:\t 436\n",
      "Checking dataset\n",
      "Count infinite:\t 0\n",
      "Count nan:\t 0\n",
      "Count negative:\t 6092\n",
      "Count zero:\t 0\n",
      "Count positive:\t 5789\n",
      "argva-base WT-Tyr str\n",
      "Union\n",
      "Checking dataset\n",
      "Count infinite:\t 0\n",
      "Count nan:\t 0\n",
      "Count negative:\t 0\n",
      "Count zero:\t 0\n",
      "Count positive:\t 436\n",
      "Checking dataset\n",
      "Count infinite:\t 0\n",
      "Count nan:\t 0\n",
      "Count negative:\t 6092\n",
      "Count zero:\t 0\n",
      "Count positive:\t 5789\n",
      "argva-base WT-Tyr dyn\n",
      "Union\n",
      "Checking dataset\n",
      "Count infinite:\t 0\n",
      "Count nan:\t 0\n",
      "Count negative:\t 0\n",
      "Count zero:\t 0\n",
      "Count positive:\t 444\n",
      "Checking dataset\n",
      "Count infinite:\t 0\n",
      "Count nan:\t 0\n",
      "Count negative:\t 7264\n",
      "Count zero:\t 0\n",
      "Count positive:\t 5057\n",
      "argva-base S51A-Tyr none\n",
      "Union\n",
      "Checking dataset\n",
      "Count infinite:\t 0\n",
      "Count nan:\t 0\n",
      "Count negative:\t 0\n",
      "Count zero:\t 0\n",
      "Count positive:\t 444\n",
      "Checking dataset\n",
      "Count infinite:\t 0\n",
      "Count nan:\t 0\n",
      "Count negative:\t 7264\n",
      "Count zero:\t 0\n",
      "Count positive:\t 5057\n",
      "argva-base S51A-Tyr str\n",
      "Union\n",
      "Checking dataset\n",
      "Count infinite:\t 0\n",
      "Count nan:\t 0\n",
      "Count negative:\t 0\n",
      "Count zero:\t 0\n",
      "Count positive:\t 444\n",
      "Checking dataset\n",
      "Count infinite:\t 0\n",
      "Count nan:\t 0\n",
      "Count negative:\t 7264\n",
      "Count zero:\t 0\n",
      "Count positive:\t 5057\n",
      "argva-base S51A-Tyr dyn\n",
      "Union\n",
      "Checking dataset\n",
      "Count infinite:\t 0\n",
      "Count nan:\t 0\n",
      "Count negative:\t 0\n",
      "Count zero:\t 0\n",
      "Count positive:\t 436\n",
      "Checking dataset\n",
      "Count infinite:\t 0\n",
      "Count nan:\t 0\n",
      "Count negative:\t 6180\n",
      "Count zero:\t 0\n",
      "Count positive:\t 5701\n",
      "argva-base WT-total none\n",
      "Union\n",
      "Checking dataset\n",
      "Count infinite:\t 0\n",
      "Count nan:\t 0\n",
      "Count negative:\t 0\n",
      "Count zero:\t 0\n",
      "Count positive:\t 436\n",
      "Checking dataset\n",
      "Count infinite:\t 0\n",
      "Count nan:\t 0\n",
      "Count negative:\t 6180\n",
      "Count zero:\t 0\n",
      "Count positive:\t 5701\n",
      "argva-base WT-total str\n",
      "Union\n",
      "Checking dataset\n",
      "Count infinite:\t 0\n",
      "Count nan:\t 0\n",
      "Count negative:\t 0\n",
      "Count zero:\t 0\n",
      "Count positive:\t 436\n",
      "Checking dataset\n",
      "Count infinite:\t 0\n",
      "Count nan:\t 0\n",
      "Count negative:\t 6180\n",
      "Count zero:\t 0\n",
      "Count positive:\t 5701\n",
      "argva-base WT-total dyn\n",
      "Union\n",
      "Checking dataset\n",
      "Count infinite:\t 0\n",
      "Count nan:\t 0\n",
      "Count negative:\t 0\n",
      "Count zero:\t 0\n",
      "Count positive:\t 444\n",
      "Checking dataset\n",
      "Count infinite:\t 0\n",
      "Count nan:\t 0\n",
      "Count negative:\t 6426\n",
      "Count zero:\t 0\n",
      "Count positive:\t 5895\n",
      "argva-base WT-vac none\n",
      "Union\n",
      "Checking dataset\n",
      "Count infinite:\t 0\n",
      "Count nan:\t 0\n",
      "Count negative:\t 0\n",
      "Count zero:\t 0\n",
      "Count positive:\t 444\n",
      "Checking dataset\n",
      "Count infinite:\t 0\n",
      "Count nan:\t 0\n",
      "Count negative:\t 6426\n",
      "Count zero:\t 0\n",
      "Count positive:\t 5895\n",
      "argva-base WT-vac str\n",
      "Union\n",
      "Checking dataset\n",
      "Count infinite:\t 0\n",
      "Count nan:\t 0\n",
      "Count negative:\t 0\n",
      "Count zero:\t 0\n",
      "Count positive:\t 444\n",
      "Checking dataset\n",
      "Count infinite:\t 0\n",
      "Count nan:\t 0\n",
      "Count negative:\t 6426\n",
      "Count zero:\t 0\n",
      "Count positive:\t 5895\n",
      "argva-base WT-vac dyn\n",
      "Union\n",
      "Checking dataset\n",
      "Count infinite:\t 0\n",
      "Count nan:\t 0\n",
      "Count negative:\t 0\n",
      "Count zero:\t 0\n",
      "Count positive:\t 436\n",
      "Checking dataset\n",
      "Count infinite:\t 0\n",
      "Count nan:\t 0\n",
      "Count negative:\t 6622\n",
      "Count zero:\t 0\n",
      "Count positive:\t 5259\n",
      "argva-base avt1-total none\n",
      "Union\n",
      "Checking dataset\n",
      "Count infinite:\t 0\n",
      "Count nan:\t 0\n",
      "Count negative:\t 0\n",
      "Count zero:\t 0\n",
      "Count positive:\t 436\n",
      "Checking dataset\n",
      "Count infinite:\t 0\n",
      "Count nan:\t 0\n",
      "Count negative:\t 6622\n",
      "Count zero:\t 0\n",
      "Count positive:\t 5259\n",
      "argva-base avt1-total str\n",
      "Union\n",
      "Checking dataset\n",
      "Count infinite:\t 0\n",
      "Count nan:\t 0\n",
      "Count negative:\t 0\n",
      "Count zero:\t 0\n",
      "Count positive:\t 436\n",
      "Checking dataset\n",
      "Count infinite:\t 0\n",
      "Count nan:\t 0\n",
      "Count negative:\t 6622\n",
      "Count zero:\t 0\n",
      "Count positive:\t 5259\n",
      "argva-base avt1-total dyn\n",
      "Union\n",
      "Checking dataset\n",
      "Count infinite:\t 0\n",
      "Count nan:\t 0\n",
      "Count negative:\t 0\n",
      "Count zero:\t 0\n",
      "Count positive:\t 444\n",
      "Checking dataset\n",
      "Count infinite:\t 0\n",
      "Count nan:\t 0\n",
      "Count negative:\t 6874\n",
      "Count zero:\t 0\n",
      "Count positive:\t 5447\n",
      "argva-base avt1-vac none\n",
      "Union\n",
      "Checking dataset\n",
      "Count infinite:\t 0\n",
      "Count nan:\t 0\n",
      "Count negative:\t 0\n",
      "Count zero:\t 0\n",
      "Count positive:\t 444\n",
      "Checking dataset\n",
      "Count infinite:\t 0\n",
      "Count nan:\t 0\n",
      "Count negative:\t 6874\n",
      "Count zero:\t 0\n",
      "Count positive:\t 5447\n",
      "argva-base avt1-vac str\n",
      "Union\n",
      "Checking dataset\n",
      "Count infinite:\t 0\n",
      "Count nan:\t 0\n",
      "Count negative:\t 0\n",
      "Count zero:\t 0\n",
      "Count positive:\t 444\n",
      "Checking dataset\n",
      "Count infinite:\t 0\n",
      "Count nan:\t 0\n",
      "Count negative:\t 6874\n",
      "Count zero:\t 0\n",
      "Count positive:\t 5447\n",
      "argva-base avt1-vac dyn\n",
      "Union\n",
      "Checking dataset\n",
      "Count infinite:\t 0\n",
      "Count nan:\t 0\n",
      "Count negative:\t 0\n",
      "Count zero:\t 0\n",
      "Count positive:\t 444\n",
      "Checking dataset\n",
      "Count infinite:\t 0\n",
      "Count nan:\t 0\n",
      "Count negative:\t 6180\n",
      "Count zero:\t 0\n",
      "Count positive:\t 6141\n",
      "argva-base aa-standard none\n",
      "Union\n",
      "Checking dataset\n",
      "Count infinite:\t 0\n",
      "Count nan:\t 0\n",
      "Count negative:\t 0\n",
      "Count zero:\t 0\n",
      "Count positive:\t 444\n",
      "Checking dataset\n",
      "Count infinite:\t 0\n",
      "Count nan:\t 0\n",
      "Count negative:\t 6180\n",
      "Count zero:\t 0\n",
      "Count positive:\t 6141\n",
      "argva-base aa-standard str\n",
      "Union\n",
      "Checking dataset\n",
      "Count infinite:\t 0\n",
      "Count nan:\t 0\n",
      "Count negative:\t 0\n",
      "Count zero:\t 0\n",
      "Count positive:\t 444\n",
      "Checking dataset\n",
      "Count infinite:\t 0\n",
      "Count nan:\t 0\n",
      "Count negative:\t 6180\n",
      "Count zero:\t 0\n",
      "Count positive:\t 6141\n",
      "argva-base aa-standard dyn\n",
      "Union\n",
      "Checking dataset\n",
      "Count infinite:\t 0\n",
      "Count nan:\t 0\n",
      "Count negative:\t 0\n",
      "Count zero:\t 0\n",
      "Count positive:\t 440\n",
      "Checking dataset\n",
      "Count infinite:\t 0\n",
      "Count nan:\t 0\n",
      "Count negative:\t 6402\n",
      "Count zero:\t 0\n",
      "Count positive:\t 5698\n",
      "vgae-line WT-YNB none\n",
      "Union\n",
      "Checking dataset\n",
      "Count infinite:\t 0\n",
      "Count nan:\t 0\n",
      "Count negative:\t 0\n",
      "Count zero:\t 0\n",
      "Count positive:\t 440\n",
      "Checking dataset\n",
      "Count infinite:\t 0\n",
      "Count nan:\t 0\n",
      "Count negative:\t 6402\n",
      "Count zero:\t 0\n",
      "Count positive:\t 5698\n",
      "vgae-line WT-YNB str\n",
      "Union\n",
      "Checking dataset\n",
      "Count infinite:\t 0\n",
      "Count nan:\t 0\n",
      "Count negative:\t 0\n",
      "Count zero:\t 0\n",
      "Count positive:\t 440\n",
      "Checking dataset\n",
      "Count infinite:\t 0\n",
      "Count nan:\t 0\n",
      "Count negative:\t 6402\n",
      "Count zero:\t 0\n",
      "Count positive:\t 5698\n",
      "vgae-line WT-YNB dyn\n",
      "Union\n",
      "Checking dataset\n",
      "Count infinite:\t 0\n",
      "Count nan:\t 0\n",
      "Count negative:\t 0\n",
      "Count zero:\t 0\n",
      "Count positive:\t 436\n",
      "Checking dataset\n",
      "Count infinite:\t 0\n",
      "Count nan:\t 0\n",
      "Count negative:\t 5976\n",
      "Count zero:\t 0\n",
      "Count positive:\t 5905\n",
      "vgae-line S51A-YNB none\n",
      "Union\n",
      "Checking dataset\n",
      "Count infinite:\t 0\n",
      "Count nan:\t 0\n",
      "Count negative:\t 0\n",
      "Count zero:\t 0\n",
      "Count positive:\t 436\n",
      "Checking dataset\n",
      "Count infinite:\t 0\n",
      "Count nan:\t 0\n",
      "Count negative:\t 5976\n",
      "Count zero:\t 0\n",
      "Count positive:\t 5905\n",
      "vgae-line S51A-YNB str\n",
      "Union\n",
      "Checking dataset\n",
      "Count infinite:\t 0\n",
      "Count nan:\t 0\n",
      "Count negative:\t 0\n",
      "Count zero:\t 0\n",
      "Count positive:\t 436\n",
      "Checking dataset\n",
      "Count infinite:\t 0\n",
      "Count nan:\t 0\n",
      "Count negative:\t 5976\n",
      "Count zero:\t 0\n",
      "Count positive:\t 5905\n",
      "vgae-line S51A-YNB dyn\n",
      "Union\n",
      "Checking dataset\n",
      "Count infinite:\t 0\n",
      "Count nan:\t 0\n",
      "Count negative:\t 0\n",
      "Count zero:\t 0\n",
      "Count positive:\t 436\n",
      "Checking dataset\n",
      "Count infinite:\t 0\n",
      "Count nan:\t 0\n",
      "Count negative:\t 6092\n",
      "Count zero:\t 0\n",
      "Count positive:\t 5789\n",
      "vgae-line WT-Tyr none\n",
      "Union\n",
      "Checking dataset\n",
      "Count infinite:\t 0\n",
      "Count nan:\t 0\n",
      "Count negative:\t 0\n",
      "Count zero:\t 0\n",
      "Count positive:\t 436\n",
      "Checking dataset\n",
      "Count infinite:\t 0\n",
      "Count nan:\t 0\n",
      "Count negative:\t 6092\n",
      "Count zero:\t 0\n",
      "Count positive:\t 5789\n",
      "vgae-line WT-Tyr str\n",
      "Union\n",
      "Checking dataset\n",
      "Count infinite:\t 0\n",
      "Count nan:\t 0\n",
      "Count negative:\t 0\n",
      "Count zero:\t 0\n",
      "Count positive:\t 436\n",
      "Checking dataset\n",
      "Count infinite:\t 0\n",
      "Count nan:\t 0\n",
      "Count negative:\t 6092\n",
      "Count zero:\t 0\n",
      "Count positive:\t 5789\n",
      "vgae-line WT-Tyr dyn\n",
      "Union\n",
      "Checking dataset\n",
      "Count infinite:\t 0\n",
      "Count nan:\t 0\n",
      "Count negative:\t 0\n",
      "Count zero:\t 0\n",
      "Count positive:\t 444\n",
      "Checking dataset\n",
      "Count infinite:\t 0\n",
      "Count nan:\t 0\n",
      "Count negative:\t 7264\n",
      "Count zero:\t 0\n",
      "Count positive:\t 5057\n",
      "vgae-line S51A-Tyr none\n",
      "Union\n",
      "Checking dataset\n",
      "Count infinite:\t 0\n",
      "Count nan:\t 0\n",
      "Count negative:\t 0\n",
      "Count zero:\t 0\n",
      "Count positive:\t 444\n",
      "Checking dataset\n",
      "Count infinite:\t 0\n",
      "Count nan:\t 0\n",
      "Count negative:\t 7264\n",
      "Count zero:\t 0\n",
      "Count positive:\t 5057\n",
      "vgae-line S51A-Tyr str\n",
      "Union\n",
      "Checking dataset\n",
      "Count infinite:\t 0\n",
      "Count nan:\t 0\n",
      "Count negative:\t 0\n",
      "Count zero:\t 0\n",
      "Count positive:\t 444\n",
      "Checking dataset\n",
      "Count infinite:\t 0\n",
      "Count nan:\t 0\n",
      "Count negative:\t 7264\n",
      "Count zero:\t 0\n",
      "Count positive:\t 5057\n",
      "vgae-line S51A-Tyr dyn\n",
      "Union\n",
      "Checking dataset\n",
      "Count infinite:\t 0\n",
      "Count nan:\t 0\n",
      "Count negative:\t 0\n",
      "Count zero:\t 0\n",
      "Count positive:\t 436\n",
      "Checking dataset\n",
      "Count infinite:\t 0\n",
      "Count nan:\t 0\n",
      "Count negative:\t 6180\n",
      "Count zero:\t 0\n",
      "Count positive:\t 5701\n",
      "vgae-line WT-total none\n",
      "Union\n",
      "Checking dataset\n",
      "Count infinite:\t 0\n",
      "Count nan:\t 0\n",
      "Count negative:\t 0\n",
      "Count zero:\t 0\n",
      "Count positive:\t 436\n",
      "Checking dataset\n",
      "Count infinite:\t 0\n",
      "Count nan:\t 0\n",
      "Count negative:\t 6180\n",
      "Count zero:\t 0\n",
      "Count positive:\t 5701\n",
      "vgae-line WT-total str\n",
      "Union\n",
      "Checking dataset\n",
      "Count infinite:\t 0\n",
      "Count nan:\t 0\n",
      "Count negative:\t 0\n",
      "Count zero:\t 0\n",
      "Count positive:\t 436\n",
      "Checking dataset\n",
      "Count infinite:\t 0\n",
      "Count nan:\t 0\n",
      "Count negative:\t 6180\n",
      "Count zero:\t 0\n",
      "Count positive:\t 5701\n",
      "vgae-line WT-total dyn\n",
      "Union\n",
      "Checking dataset\n",
      "Count infinite:\t 0\n",
      "Count nan:\t 0\n",
      "Count negative:\t 0\n",
      "Count zero:\t 0\n",
      "Count positive:\t 444\n",
      "Checking dataset\n",
      "Count infinite:\t 0\n",
      "Count nan:\t 0\n",
      "Count negative:\t 6426\n",
      "Count zero:\t 0\n",
      "Count positive:\t 5895\n",
      "vgae-line WT-vac none\n",
      "Union\n",
      "Checking dataset\n",
      "Count infinite:\t 0\n",
      "Count nan:\t 0\n",
      "Count negative:\t 0\n",
      "Count zero:\t 0\n",
      "Count positive:\t 444\n",
      "Checking dataset\n",
      "Count infinite:\t 0\n",
      "Count nan:\t 0\n",
      "Count negative:\t 6426\n",
      "Count zero:\t 0\n",
      "Count positive:\t 5895\n",
      "vgae-line WT-vac str\n",
      "Union\n",
      "Checking dataset\n",
      "Count infinite:\t 0\n",
      "Count nan:\t 0\n",
      "Count negative:\t 0\n",
      "Count zero:\t 0\n",
      "Count positive:\t 444\n",
      "Checking dataset\n",
      "Count infinite:\t 0\n",
      "Count nan:\t 0\n",
      "Count negative:\t 6426\n",
      "Count zero:\t 0\n",
      "Count positive:\t 5895\n",
      "vgae-line WT-vac dyn\n",
      "Union\n",
      "Checking dataset\n",
      "Count infinite:\t 0\n",
      "Count nan:\t 0\n",
      "Count negative:\t 0\n",
      "Count zero:\t 0\n",
      "Count positive:\t 436\n",
      "Checking dataset\n",
      "Count infinite:\t 0\n",
      "Count nan:\t 0\n",
      "Count negative:\t 6622\n",
      "Count zero:\t 0\n",
      "Count positive:\t 5259\n",
      "vgae-line avt1-total none\n",
      "Union\n",
      "Checking dataset\n",
      "Count infinite:\t 0\n",
      "Count nan:\t 0\n",
      "Count negative:\t 0\n",
      "Count zero:\t 0\n",
      "Count positive:\t 436\n",
      "Checking dataset\n",
      "Count infinite:\t 0\n",
      "Count nan:\t 0\n",
      "Count negative:\t 6622\n",
      "Count zero:\t 0\n",
      "Count positive:\t 5259\n",
      "vgae-line avt1-total str\n",
      "Union\n",
      "Checking dataset\n",
      "Count infinite:\t 0\n",
      "Count nan:\t 0\n",
      "Count negative:\t 0\n",
      "Count zero:\t 0\n",
      "Count positive:\t 436\n",
      "Checking dataset\n",
      "Count infinite:\t 0\n",
      "Count nan:\t 0\n",
      "Count negative:\t 6622\n",
      "Count zero:\t 0\n",
      "Count positive:\t 5259\n",
      "vgae-line avt1-total dyn\n",
      "Union\n",
      "Checking dataset\n",
      "Count infinite:\t 0\n",
      "Count nan:\t 0\n",
      "Count negative:\t 0\n",
      "Count zero:\t 0\n",
      "Count positive:\t 444\n",
      "Checking dataset\n",
      "Count infinite:\t 0\n",
      "Count nan:\t 0\n",
      "Count negative:\t 6874\n",
      "Count zero:\t 0\n",
      "Count positive:\t 5447\n",
      "vgae-line avt1-vac none\n",
      "Union\n",
      "Checking dataset\n",
      "Count infinite:\t 0\n",
      "Count nan:\t 0\n",
      "Count negative:\t 0\n",
      "Count zero:\t 0\n",
      "Count positive:\t 444\n",
      "Checking dataset\n",
      "Count infinite:\t 0\n",
      "Count nan:\t 0\n",
      "Count negative:\t 6874\n",
      "Count zero:\t 0\n",
      "Count positive:\t 5447\n",
      "vgae-line avt1-vac str\n",
      "Union\n",
      "Checking dataset\n",
      "Count infinite:\t 0\n",
      "Count nan:\t 0\n",
      "Count negative:\t 0\n",
      "Count zero:\t 0\n",
      "Count positive:\t 444\n",
      "Checking dataset\n",
      "Count infinite:\t 0\n",
      "Count nan:\t 0\n",
      "Count negative:\t 6874\n",
      "Count zero:\t 0\n",
      "Count positive:\t 5447\n",
      "vgae-line avt1-vac dyn\n",
      "Union\n",
      "Checking dataset\n",
      "Count infinite:\t 0\n",
      "Count nan:\t 0\n",
      "Count negative:\t 0\n",
      "Count zero:\t 0\n",
      "Count positive:\t 444\n",
      "Checking dataset\n",
      "Count infinite:\t 0\n",
      "Count nan:\t 0\n",
      "Count negative:\t 6180\n",
      "Count zero:\t 0\n",
      "Count positive:\t 6141\n",
      "vgae-line aa-standard none\n",
      "Union\n",
      "Checking dataset\n",
      "Count infinite:\t 0\n",
      "Count nan:\t 0\n",
      "Count negative:\t 0\n",
      "Count zero:\t 0\n",
      "Count positive:\t 444\n",
      "Checking dataset\n",
      "Count infinite:\t 0\n",
      "Count nan:\t 0\n",
      "Count negative:\t 6180\n",
      "Count zero:\t 0\n",
      "Count positive:\t 6141\n",
      "vgae-line aa-standard str\n",
      "Union\n",
      "Checking dataset\n",
      "Count infinite:\t 0\n",
      "Count nan:\t 0\n",
      "Count negative:\t 0\n",
      "Count zero:\t 0\n",
      "Count positive:\t 444\n",
      "Checking dataset\n",
      "Count infinite:\t 0\n",
      "Count nan:\t 0\n",
      "Count negative:\t 6180\n",
      "Count zero:\t 0\n",
      "Count positive:\t 6141\n",
      "vgae-line aa-standard dyn\n",
      "Union\n",
      "Checking dataset\n",
      "Count infinite:\t 0\n",
      "Count nan:\t 0\n",
      "Count negative:\t 0\n",
      "Count zero:\t 0\n",
      "Count positive:\t 440\n",
      "Checking dataset\n",
      "Count infinite:\t 0\n",
      "Count nan:\t 0\n",
      "Count negative:\t 6402\n",
      "Count zero:\t 0\n",
      "Count positive:\t 5698\n",
      "vgae-base WT-YNB none\n",
      "Union\n",
      "Checking dataset\n",
      "Count infinite:\t 0\n",
      "Count nan:\t 0\n",
      "Count negative:\t 0\n",
      "Count zero:\t 0\n",
      "Count positive:\t 440\n",
      "Checking dataset\n",
      "Count infinite:\t 0\n",
      "Count nan:\t 0\n",
      "Count negative:\t 6402\n",
      "Count zero:\t 0\n",
      "Count positive:\t 5698\n",
      "vgae-base WT-YNB str\n",
      "Union\n",
      "Checking dataset\n",
      "Count infinite:\t 0\n",
      "Count nan:\t 0\n",
      "Count negative:\t 0\n",
      "Count zero:\t 0\n",
      "Count positive:\t 440\n",
      "Checking dataset\n",
      "Count infinite:\t 0\n",
      "Count nan:\t 0\n",
      "Count negative:\t 6402\n",
      "Count zero:\t 0\n",
      "Count positive:\t 5698\n",
      "vgae-base WT-YNB dyn\n",
      "Union\n",
      "Checking dataset\n",
      "Count infinite:\t 0\n",
      "Count nan:\t 0\n",
      "Count negative:\t 0\n",
      "Count zero:\t 0\n",
      "Count positive:\t 436\n",
      "Checking dataset\n",
      "Count infinite:\t 0\n",
      "Count nan:\t 0\n",
      "Count negative:\t 5976\n",
      "Count zero:\t 0\n",
      "Count positive:\t 5905\n",
      "vgae-base S51A-YNB none\n",
      "Union\n",
      "Checking dataset\n",
      "Count infinite:\t 0\n",
      "Count nan:\t 0\n",
      "Count negative:\t 0\n",
      "Count zero:\t 0\n",
      "Count positive:\t 436\n",
      "Checking dataset\n",
      "Count infinite:\t 0\n",
      "Count nan:\t 0\n",
      "Count negative:\t 5976\n",
      "Count zero:\t 0\n",
      "Count positive:\t 5905\n",
      "vgae-base S51A-YNB str\n",
      "Union\n",
      "Checking dataset\n",
      "Count infinite:\t 0\n",
      "Count nan:\t 0\n",
      "Count negative:\t 0\n",
      "Count zero:\t 0\n",
      "Count positive:\t 436\n",
      "Checking dataset\n",
      "Count infinite:\t 0\n",
      "Count nan:\t 0\n",
      "Count negative:\t 5976\n",
      "Count zero:\t 0\n",
      "Count positive:\t 5905\n",
      "vgae-base S51A-YNB dyn\n",
      "Union\n",
      "Checking dataset\n",
      "Count infinite:\t 0\n",
      "Count nan:\t 0\n",
      "Count negative:\t 0\n",
      "Count zero:\t 0\n",
      "Count positive:\t 436\n",
      "Checking dataset\n",
      "Count infinite:\t 0\n",
      "Count nan:\t 0\n",
      "Count negative:\t 6092\n",
      "Count zero:\t 0\n",
      "Count positive:\t 5789\n",
      "vgae-base WT-Tyr none\n",
      "Union\n",
      "Checking dataset\n",
      "Count infinite:\t 0\n",
      "Count nan:\t 0\n",
      "Count negative:\t 0\n",
      "Count zero:\t 0\n",
      "Count positive:\t 436\n",
      "Checking dataset\n",
      "Count infinite:\t 0\n",
      "Count nan:\t 0\n",
      "Count negative:\t 6092\n",
      "Count zero:\t 0\n",
      "Count positive:\t 5789\n",
      "vgae-base WT-Tyr str\n",
      "Union\n",
      "Checking dataset\n",
      "Count infinite:\t 0\n",
      "Count nan:\t 0\n",
      "Count negative:\t 0\n",
      "Count zero:\t 0\n",
      "Count positive:\t 436\n",
      "Checking dataset\n",
      "Count infinite:\t 0\n",
      "Count nan:\t 0\n",
      "Count negative:\t 6092\n",
      "Count zero:\t 0\n",
      "Count positive:\t 5789\n",
      "vgae-base WT-Tyr dyn\n",
      "Union\n",
      "Checking dataset\n",
      "Count infinite:\t 0\n",
      "Count nan:\t 0\n",
      "Count negative:\t 0\n",
      "Count zero:\t 0\n",
      "Count positive:\t 444\n",
      "Checking dataset\n",
      "Count infinite:\t 0\n",
      "Count nan:\t 0\n",
      "Count negative:\t 7264\n",
      "Count zero:\t 0\n",
      "Count positive:\t 5057\n",
      "vgae-base S51A-Tyr none\n",
      "Union\n",
      "Checking dataset\n",
      "Count infinite:\t 0\n",
      "Count nan:\t 0\n",
      "Count negative:\t 0\n",
      "Count zero:\t 0\n",
      "Count positive:\t 444\n",
      "Checking dataset\n",
      "Count infinite:\t 0\n",
      "Count nan:\t 0\n",
      "Count negative:\t 7264\n",
      "Count zero:\t 0\n",
      "Count positive:\t 5057\n",
      "vgae-base S51A-Tyr str\n",
      "Union\n",
      "Checking dataset\n",
      "Count infinite:\t 0\n",
      "Count nan:\t 0\n",
      "Count negative:\t 0\n",
      "Count zero:\t 0\n",
      "Count positive:\t 444\n",
      "Checking dataset\n",
      "Count infinite:\t 0\n",
      "Count nan:\t 0\n",
      "Count negative:\t 7264\n",
      "Count zero:\t 0\n",
      "Count positive:\t 5057\n",
      "vgae-base S51A-Tyr dyn\n",
      "Union\n",
      "Checking dataset\n",
      "Count infinite:\t 0\n",
      "Count nan:\t 0\n",
      "Count negative:\t 0\n",
      "Count zero:\t 0\n",
      "Count positive:\t 436\n",
      "Checking dataset\n",
      "Count infinite:\t 0\n",
      "Count nan:\t 0\n",
      "Count negative:\t 6180\n",
      "Count zero:\t 0\n",
      "Count positive:\t 5701\n",
      "vgae-base WT-total none\n",
      "Union\n",
      "Checking dataset\n",
      "Count infinite:\t 0\n",
      "Count nan:\t 0\n",
      "Count negative:\t 0\n",
      "Count zero:\t 0\n",
      "Count positive:\t 436\n",
      "Checking dataset\n",
      "Count infinite:\t 0\n",
      "Count nan:\t 0\n",
      "Count negative:\t 6180\n",
      "Count zero:\t 0\n",
      "Count positive:\t 5701\n",
      "vgae-base WT-total str\n",
      "Union\n",
      "Checking dataset\n",
      "Count infinite:\t 0\n",
      "Count nan:\t 0\n",
      "Count negative:\t 0\n",
      "Count zero:\t 0\n",
      "Count positive:\t 436\n",
      "Checking dataset\n",
      "Count infinite:\t 0\n",
      "Count nan:\t 0\n",
      "Count negative:\t 6180\n",
      "Count zero:\t 0\n",
      "Count positive:\t 5701\n",
      "vgae-base WT-total dyn\n",
      "Union\n",
      "Checking dataset\n",
      "Count infinite:\t 0\n",
      "Count nan:\t 0\n",
      "Count negative:\t 0\n",
      "Count zero:\t 0\n",
      "Count positive:\t 444\n",
      "Checking dataset\n",
      "Count infinite:\t 0\n",
      "Count nan:\t 0\n",
      "Count negative:\t 6426\n",
      "Count zero:\t 0\n",
      "Count positive:\t 5895\n",
      "vgae-base WT-vac none\n",
      "Union\n",
      "Checking dataset\n",
      "Count infinite:\t 0\n",
      "Count nan:\t 0\n",
      "Count negative:\t 0\n",
      "Count zero:\t 0\n",
      "Count positive:\t 444\n",
      "Checking dataset\n",
      "Count infinite:\t 0\n",
      "Count nan:\t 0\n",
      "Count negative:\t 6426\n",
      "Count zero:\t 0\n",
      "Count positive:\t 5895\n",
      "vgae-base WT-vac str\n",
      "Union\n",
      "Checking dataset\n",
      "Count infinite:\t 0\n",
      "Count nan:\t 0\n",
      "Count negative:\t 0\n",
      "Count zero:\t 0\n",
      "Count positive:\t 444\n",
      "Checking dataset\n",
      "Count infinite:\t 0\n",
      "Count nan:\t 0\n",
      "Count negative:\t 6426\n",
      "Count zero:\t 0\n",
      "Count positive:\t 5895\n",
      "vgae-base WT-vac dyn\n",
      "Union\n",
      "Checking dataset\n",
      "Count infinite:\t 0\n",
      "Count nan:\t 0\n",
      "Count negative:\t 0\n",
      "Count zero:\t 0\n",
      "Count positive:\t 436\n",
      "Checking dataset\n",
      "Count infinite:\t 0\n",
      "Count nan:\t 0\n",
      "Count negative:\t 6622\n",
      "Count zero:\t 0\n",
      "Count positive:\t 5259\n",
      "vgae-base avt1-total none\n",
      "Union\n",
      "Checking dataset\n",
      "Count infinite:\t 0\n",
      "Count nan:\t 0\n",
      "Count negative:\t 0\n",
      "Count zero:\t 0\n",
      "Count positive:\t 436\n",
      "Checking dataset\n",
      "Count infinite:\t 0\n",
      "Count nan:\t 0\n",
      "Count negative:\t 6622\n",
      "Count zero:\t 0\n",
      "Count positive:\t 5259\n",
      "vgae-base avt1-total str\n",
      "Union\n",
      "Checking dataset\n",
      "Count infinite:\t 0\n",
      "Count nan:\t 0\n",
      "Count negative:\t 0\n",
      "Count zero:\t 0\n",
      "Count positive:\t 436\n",
      "Checking dataset\n",
      "Count infinite:\t 0\n",
      "Count nan:\t 0\n",
      "Count negative:\t 6622\n",
      "Count zero:\t 0\n",
      "Count positive:\t 5259\n",
      "vgae-base avt1-total dyn\n",
      "Union\n",
      "Checking dataset\n",
      "Count infinite:\t 0\n",
      "Count nan:\t 0\n",
      "Count negative:\t 0\n",
      "Count zero:\t 0\n",
      "Count positive:\t 444\n",
      "Checking dataset\n",
      "Count infinite:\t 0\n",
      "Count nan:\t 0\n",
      "Count negative:\t 6874\n",
      "Count zero:\t 0\n",
      "Count positive:\t 5447\n",
      "vgae-base avt1-vac none\n",
      "Union\n",
      "Checking dataset\n",
      "Count infinite:\t 0\n",
      "Count nan:\t 0\n",
      "Count negative:\t 0\n",
      "Count zero:\t 0\n",
      "Count positive:\t 444\n",
      "Checking dataset\n",
      "Count infinite:\t 0\n",
      "Count nan:\t 0\n",
      "Count negative:\t 6874\n",
      "Count zero:\t 0\n",
      "Count positive:\t 5447\n",
      "vgae-base avt1-vac str\n",
      "Union\n",
      "Checking dataset\n",
      "Count infinite:\t 0\n",
      "Count nan:\t 0\n",
      "Count negative:\t 0\n",
      "Count zero:\t 0\n",
      "Count positive:\t 444\n",
      "Checking dataset\n",
      "Count infinite:\t 0\n",
      "Count nan:\t 0\n",
      "Count negative:\t 6874\n",
      "Count zero:\t 0\n",
      "Count positive:\t 5447\n",
      "vgae-base avt1-vac dyn\n",
      "Union\n",
      "Checking dataset\n",
      "Count infinite:\t 0\n",
      "Count nan:\t 0\n",
      "Count negative:\t 0\n",
      "Count zero:\t 0\n",
      "Count positive:\t 444\n",
      "Checking dataset\n",
      "Count infinite:\t 0\n",
      "Count nan:\t 0\n",
      "Count negative:\t 6180\n",
      "Count zero:\t 0\n",
      "Count positive:\t 6141\n",
      "vgae-base aa-standard none\n",
      "Union\n",
      "Checking dataset\n",
      "Count infinite:\t 0\n",
      "Count nan:\t 0\n",
      "Count negative:\t 0\n",
      "Count zero:\t 0\n",
      "Count positive:\t 444\n",
      "Checking dataset\n",
      "Count infinite:\t 0\n",
      "Count nan:\t 0\n",
      "Count negative:\t 6180\n",
      "Count zero:\t 0\n",
      "Count positive:\t 6141\n",
      "vgae-base aa-standard str\n",
      "Union\n",
      "Checking dataset\n",
      "Count infinite:\t 0\n",
      "Count nan:\t 0\n",
      "Count negative:\t 0\n",
      "Count zero:\t 0\n",
      "Count positive:\t 444\n",
      "Checking dataset\n",
      "Count infinite:\t 0\n",
      "Count nan:\t 0\n",
      "Count negative:\t 6180\n",
      "Count zero:\t 0\n",
      "Count positive:\t 6141\n",
      "vgae-base aa-standard dyn\n"
     ]
    }
   ],
   "source": [
    "# join\n",
    "list_details = []\n",
    "\n",
    "for method in methods:\n",
    "    for k, group in enumerate(groups_id): #\n",
    "        dict_df_edges_filter = {}\n",
    "        dict_df_corr = {}\n",
    "        dict_df_edges_filter_weight = {}\n",
    "    \n",
    "        for data_variation in data_variations:\n",
    "            list_common_subgraph = []\n",
    "            for iteration in range(1, iterations + 1):\n",
    "                df_edges_filter_weight_filter = pd.read_csv(\"output/{}/common_edges/common_edges_{}_{}_{}_{}.csv\".format(exp, method, group, data_variation, iteration))\n",
    "                # print(df_edges_filter_weight_filter)\n",
    "\n",
    "                G = nx.from_pandas_edgelist(df_edges_filter_weight_filter) # last change: create_using=nx.Graph() # , edge_attr=[\"weight\"])\n",
    "                # SG = G.subgraph([0, 1, 2, 3, 4, 5])\n",
    "                # graph_partial_detail(SG, edges=True)\n",
    "                list_common_subgraph.append(G)\n",
    "                \n",
    "            print(\"Union\")\n",
    "            # union\n",
    "            U = nx.compose_all(list_common_subgraph)\n",
    "            \n",
    "            df_compose_subgraph = nx.to_pandas_edgelist(U)\n",
    "            dict_df_edges_filter[group] = df_compose_subgraph.iloc[:, [0, 1]]\n",
    "            \n",
    "            # new correlation\n",
    "            nodes = list(U.nodes())\n",
    "            # print(len(nodes)) #\n",
    "            \n",
    "            df_join_raw_filter = df_join_raw_log.loc[nodes, :]\n",
    "            # check_dataset(df_join_raw_filter) #\n",
    "            # print(df_join_raw_filter.describe()) #\n",
    "            df_join_raw_filter = df_join_raw_filter.filter(like=group, axis=1)\n",
    "\n",
    "            df_join_raw_filter_t= df_join_raw_filter.T\n",
    "            check_dataset(df_join_raw_filter_t)\n",
    "            # df_join_raw_filter_corr = df_join_raw_filter_t.corr(method=\"pearson\")\n",
    "            df_join_raw_filter_corr = pg.pcorr(df_join_raw_filter_t)\n",
    "            check_dataset(df_join_raw_filter_corr)\n",
    "            dict_df_corr[group] = df_join_raw_filter_corr\n",
    "            \n",
    "            # get new correlation\n",
    "            df_edges_filter_weight = dict_df_edges_filter[group].copy()\n",
    "            df_corr = dict_df_corr[group]\n",
    "\n",
    "            df_edges_filter_weight[\"weight\"] = df_edges_filter_weight.apply(lambda x: df_corr.loc[x[\"source\"], x[\"target\"]], axis=1)\n",
    "            df_edges_filter_weight.sort_values([\"source\", \"target\"], ascending=True, inplace=True)\n",
    "            dict_df_edges_filter_weight[group] = df_edges_filter_weight\n",
    "            \n",
    "            # common subgraph\n",
    "            df_edges_filter_weight = dict_df_edges_filter_weight[group]\n",
    "            # G = nx.from_pandas_edgelist(df_edges_filter_weight, \"source\", \"target\", edge_attr=\"weight\")\n",
    "            print(method, group, data_variation)\n",
    "            # print(\"Before\")\n",
    "            # graph_partial_detail(G, edges=True)\n",
    "                \n",
    "            # filter by abs(weight) >= threshold\n",
    "            df_edges_filter_weight = dict_df_edges_filter_weight[group]\n",
    "            df_edges_filter_weight_filter = df_edges_filter_weight[df_edges_filter_weight[\"weight\"].abs() >= threshold_corr]\n",
    "            df_edges_filter_weight_filter.to_csv(\"output/{}/common_edges/common_edges_{}_{}_{}.csv\".format(exp, method, group, data_variation), index=False)\n",
    "            \n",
    "            # print(\"After\")\n",
    "            # graph_partial_detail(G, edges=True)\n",
    "            G = nx.from_pandas_edgelist(df_edges_filter_weight_filter, \"source\", \"target\", edge_attr=\"weight\")\n",
    "            list_details.append([method, group, data_variation, G.number_of_nodes(), G.number_of_edges(), nx.density(G)])\n",
    "\n",
    "df_details = pd.DataFrame(list_details, columns=[\"Method\", \"Group\", \"Data var.\", \"Num. nodes\", \"Num. edges\", \"Density\"])\n",
    "df_details.to_csv(\"output/{}/common_edges/summary.csv\".format(exp), index=False)"
   ]
  }
 ],
 "metadata": {
  "kernelspec": {
   "display_name": "Python 3 (ipykernel)",
   "language": "python",
   "name": "python3"
  },
  "language_info": {
   "codemirror_mode": {
    "name": "ipython",
    "version": 3
   },
   "file_extension": ".py",
   "mimetype": "text/x-python",
   "name": "python",
   "nbconvert_exporter": "python",
   "pygments_lexer": "ipython3",
   "version": "3.10.12"
  },
  "orig_nbformat": 4
 },
 "nbformat": 4,
 "nbformat_minor": 2
}
