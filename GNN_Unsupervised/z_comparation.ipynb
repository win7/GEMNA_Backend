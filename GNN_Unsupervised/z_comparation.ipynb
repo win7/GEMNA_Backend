{
 "cells": [
  {
   "attachments": {},
   "cell_type": "markdown",
   "metadata": {},
   "source": [
    "### Imports"
   ]
  },
  {
   "cell_type": "code",
   "execution_count": 37,
   "metadata": {},
   "outputs": [],
   "source": [
    "from matplotlib import pyplot as plt\n",
    "from mpl_toolkits import mplot3d\n",
    "from sklearn.metrics import silhouette_score\n",
    "from sklearn.model_selection import RandomizedSearchCV\n",
    "from tqdm import tqdm\n",
    "from utils.utils_go import *\n",
    "\n",
    "import json\n",
    "import matplotlib.pyplot as plt\n",
    "import networkx as nx\n",
    "import numpy as np\n",
    "import os\n",
    "import pandas as pd\n",
    "import sys\n",
    "\n",
    "# %load_ext autotime"
   ]
  },
  {
   "attachments": {},
   "cell_type": "markdown",
   "metadata": {},
   "source": [
    "### Parameters"
   ]
  },
  {
   "cell_type": "code",
   "execution_count": 38,
   "metadata": {
    "notebookRunGroups": {
     "groupValue": "1"
    }
   },
   "outputs": [
    {
     "name": "stdout",
     "output_type": "stream",
     "text": [
      "Exp:\t\t exp11\n",
      "Methods:\t ['vgae-base']\n",
      "Data variations: ['str']\n",
      "Groups id:\t ['HN', 'HV']\n",
      "Subgroups id:\t {'HN': ['1', '2'], 'HV': ['1', '2']}\n"
     ]
    }
   ],
   "source": [
    "file = open(\"exp.json\")\n",
    "experiment = json.load(file)\n",
    "exp_num = experiment[\"exp\"]\n",
    "\n",
    "file = open(\"output/{}/parameters.json\".format(exp_num))\n",
    "params = json.load(file)\n",
    "\n",
    "exp = params[\"exp\"]\n",
    "print(\"Exp:\\t\\t\", exp)\n",
    "\n",
    "methods = params[\"methods\"]\n",
    "print(\"Methods:\\t\", methods)\n",
    "\n",
    "data_variations = params[\"data_variations\"]\n",
    "print(\"Data variations:\", data_variations)\n",
    "\n",
    "groups_id = params[\"groups_id\"]\n",
    "print(\"Groups id:\\t\", groups_id)\n",
    "\n",
    "subgroups_id = params[\"subgroups_id\"]\n",
    "print(\"Subgroups id:\\t\", subgroups_id)"
   ]
  },
  {
   "attachments": {},
   "cell_type": "markdown",
   "metadata": {},
   "source": [
    "### Input graph detail"
   ]
  },
  {
   "cell_type": "code",
   "execution_count": 39,
   "metadata": {},
   "outputs": [
    {
     "name": "stderr",
     "output_type": "stream",
     "text": [
      "100%|██████████| 2/2 [00:01<00:00,  1.64it/s]\n",
      "100%|██████████| 2/2 [00:00<00:00,  3.07it/s]\n",
      "100%|██████████| 2/2 [00:01<00:00,  1.06it/s]\n"
     ]
    },
    {
     "data": {
      "text/html": [
       "<div>\n",
       "<style scoped>\n",
       "    .dataframe tbody tr th:only-of-type {\n",
       "        vertical-align: middle;\n",
       "    }\n",
       "\n",
       "    .dataframe tbody tr th {\n",
       "        vertical-align: top;\n",
       "    }\n",
       "\n",
       "    .dataframe thead th {\n",
       "        text-align: right;\n",
       "    }\n",
       "</style>\n",
       "<table border=\"1\" class=\"dataframe\">\n",
       "  <thead>\n",
       "    <tr style=\"text-align: right;\">\n",
       "      <th></th>\n",
       "      <th>Group</th>\n",
       "      <th>Subgroup</th>\n",
       "      <th>Num. nodes</th>\n",
       "      <th>Num. Edges</th>\n",
       "    </tr>\n",
       "  </thead>\n",
       "  <tbody>\n",
       "    <tr>\n",
       "      <th>0</th>\n",
       "      <td>HN</td>\n",
       "      <td>1</td>\n",
       "      <td>858</td>\n",
       "      <td>367131</td>\n",
       "    </tr>\n",
       "    <tr>\n",
       "      <th>1</th>\n",
       "      <td>HN</td>\n",
       "      <td>2</td>\n",
       "      <td>1030</td>\n",
       "      <td>529274</td>\n",
       "    </tr>\n",
       "    <tr>\n",
       "      <th>2</th>\n",
       "      <td>HV</td>\n",
       "      <td>1</td>\n",
       "      <td>843</td>\n",
       "      <td>354903</td>\n",
       "    </tr>\n",
       "    <tr>\n",
       "      <th>3</th>\n",
       "      <td>HV</td>\n",
       "      <td>2</td>\n",
       "      <td>501</td>\n",
       "      <td>123154</td>\n",
       "    </tr>\n",
       "  </tbody>\n",
       "</table>\n",
       "</div>"
      ],
      "text/plain": [
       "  Group Subgroup  Num. nodes  Num. Edges\n",
       "0    HN        1         858      367131\n",
       "1    HN        2        1030      529274\n",
       "2    HV        1         843      354903\n",
       "3    HV        2         501      123154"
      ]
     },
     "execution_count": 39,
     "metadata": {},
     "output_type": "execute_result"
    }
   ],
   "source": [
    "input_detail = []\n",
    "\n",
    "for group in tqdm(groups_id):\n",
    "    for subgroup in tqdm(subgroups_id[group]):\n",
    "        df_edges = pd.read_csv(\"output/{}/preprocessing/edges/edges_{}_{}.csv\".format(exp, group, subgroup))\n",
    "        G = nx.from_pandas_edgelist(df_edges, \"source\", \"target\", edge_attr=\"weight\")\n",
    "        # print(\"{}, {}\".format(group, subgroup))\n",
    "        # graph_detail(G)\n",
    "        input_detail.append([group, subgroup, G.number_of_nodes(), G.number_of_edges()])\n",
    "\n",
    "df_input_detail = pd.DataFrame(input_detail, columns=[\"Group\", \"Subgroup\", \"Num. nodes\", \"Num. Edges\"])\n",
    "df_input_detail"
   ]
  },
  {
   "cell_type": "code",
   "execution_count": 40,
   "metadata": {},
   "outputs": [
    {
     "name": "stdout",
     "output_type": "stream",
     "text": [
      "\\begin{tabular}{llrr}\n",
      "\\toprule\n",
      "Group & Subgroup & Num. nodes & Num. Edges \\\\\n",
      "\\midrule\n",
      "HN & 1 & 858 & 367131 \\\\\n",
      "HN & 2 & 1030 & 529274 \\\\\n",
      "HV & 1 & 843 & 354903 \\\\\n",
      "HV & 2 & 501 & 123154 \\\\\n",
      "\\bottomrule\n",
      "\\end{tabular}\n",
      "\n"
     ]
    }
   ],
   "source": [
    "print(df_input_detail.to_latex(index=False, formatters={\"name\": str.upper}, float_format=\"{:.1f}\".format)) \n"
   ]
  },
  {
   "attachments": {},
   "cell_type": "markdown",
   "metadata": {},
   "source": [
    "### Results"
   ]
  },
  {
   "cell_type": "code",
   "execution_count": 41,
   "metadata": {},
   "outputs": [
    {
     "data": {
      "text/html": [
       "<div>\n",
       "<style scoped>\n",
       "    .dataframe tbody tr th:only-of-type {\n",
       "        vertical-align: middle;\n",
       "    }\n",
       "\n",
       "    .dataframe tbody tr th {\n",
       "        vertical-align: top;\n",
       "    }\n",
       "\n",
       "    .dataframe thead th {\n",
       "        text-align: right;\n",
       "    }\n",
       "</style>\n",
       "<table border=\"1\" class=\"dataframe\">\n",
       "  <thead>\n",
       "    <tr style=\"text-align: right;\">\n",
       "      <th></th>\n",
       "      <th>Method</th>\n",
       "      <th>Group</th>\n",
       "      <th>Data var.</th>\n",
       "      <th>Num. nodes</th>\n",
       "      <th>Num. edges</th>\n",
       "    </tr>\n",
       "  </thead>\n",
       "  <tbody>\n",
       "    <tr>\n",
       "      <th>0</th>\n",
       "      <td>greedy</td>\n",
       "      <td>HN</td>\n",
       "      <td>none</td>\n",
       "      <td>688</td>\n",
       "      <td>232669</td>\n",
       "    </tr>\n",
       "    <tr>\n",
       "      <th>1</th>\n",
       "      <td>greedy</td>\n",
       "      <td>HV</td>\n",
       "      <td>none</td>\n",
       "      <td>230</td>\n",
       "      <td>25250</td>\n",
       "    </tr>\n",
       "    <tr>\n",
       "      <th>2</th>\n",
       "      <td>vgae-base</td>\n",
       "      <td>HN</td>\n",
       "      <td>str</td>\n",
       "      <td>688</td>\n",
       "      <td>232820</td>\n",
       "    </tr>\n",
       "    <tr>\n",
       "      <th>3</th>\n",
       "      <td>vgae-base</td>\n",
       "      <td>HV</td>\n",
       "      <td>str</td>\n",
       "      <td>230</td>\n",
       "      <td>23853</td>\n",
       "    </tr>\n",
       "  </tbody>\n",
       "</table>\n",
       "</div>"
      ],
      "text/plain": [
       "      Method Group Data var.  Num. nodes  Num. edges\n",
       "0     greedy    HN      none         688      232669\n",
       "1     greedy    HV      none         230       25250\n",
       "2  vgae-base    HN       str         688      232820\n",
       "3  vgae-base    HV       str         230       23853"
      ]
     },
     "execution_count": 41,
     "metadata": {},
     "output_type": "execute_result"
    }
   ],
   "source": [
    "results = []\n",
    "\n",
    "for group in groups_id:\n",
    "    df_common_edges = pd.read_csv(\"output/{}/common_edges/common_edges_{}_{}_{}.csv\".format(exp, \"greedy\", group, \"none\"))\n",
    "    G = nx.from_pandas_edgelist(df_common_edges, edge_attr=[\"weight\"])\n",
    "    results.append([\"greedy\", group, \"none\", G.number_of_nodes(), G.number_of_edges()])\n",
    "    \n",
    "for method in methods:\n",
    "    for group in groups_id:\n",
    "        for data_variation in data_variations:\n",
    "            df_common_edges = pd.read_csv(\"output/{}/common_edges/common_edges_{}_{}_{}.csv\".format(exp, method, group, data_variation))\n",
    "            G = nx.from_pandas_edgelist(df_common_edges, edge_attr=[\"weight\"])\n",
    "            results.append([method, group, data_variation, G.number_of_nodes(), G.number_of_edges()])\n",
    "\n",
    "df_results = pd.DataFrame(results, columns=[\"Method\", \"Group\", \"Data var.\", \"Num. nodes\", \"Num. edges\"])\n",
    "# df_results.to_csv(\"output/{}/common_edges/details.csv\".format(exp), index=False)\n",
    "# df_results.replace(\"greedy\", \"baseline\", inplace=True)\n",
    "df_results"
   ]
  },
  {
   "cell_type": "code",
   "execution_count": 42,
   "metadata": {},
   "outputs": [
    {
     "data": {
      "image/png": "[encoded data removed]",
      "text/plain": [
       "<Figure size 640x480 with 1 Axes>"
      ]
     },
     "metadata": {},
     "output_type": "display_data"
    }
   ],
   "source": [
    "df_results_temp = df_results.set_index([\"Method\", \"Group\", \"Data var.\"])\n",
    "df_results_temp.sort_values(by=[\"Method\", \"Group\", \"Num. edges\"], ascending=False, inplace=True)\n",
    "ax = df_results_temp.plot.bar(rot=90)\n",
    "ax.grid()\n",
    "\n",
    "# plt.xticks(rotation=90)\n",
    "# ax.set_xticklabels(df_results[\"Method\", \"Group\", \"Option\"], rotation=90, ha='right')"
   ]
  },
  {
   "cell_type": "code",
   "execution_count": 43,
   "metadata": {},
   "outputs": [
    {
     "name": "stderr",
     "output_type": "stream",
     "text": [
      "100%|██████████| 2/2 [00:00<00:00, 9147.88it/s]\n",
      "100%|██████████| 2/2 [00:00<00:00, 18040.02it/s]\n"
     ]
    }
   ],
   "source": [
    "total = []\n",
    "nodes = []\n",
    "edges = []\n",
    "\n",
    "for i in tqdm(df_results.index[:len(groups_id)]):\n",
    "    total.append([df_results[\"Num. nodes\"][i], df_results[\"Num. edges\"][i]])\n",
    "    nodes.append(\"{} ({}%)\".format(df_results[\"Num. nodes\"][i], round(df_results[\"Num. nodes\"][i]*100/df_results[\"Num. nodes\"][i], 2)))\n",
    "    edges.append(\"{} ({}%)\".format(df_results[\"Num. edges\"][i], round(df_results[\"Num. edges\"][i]*100/df_results[\"Num. edges\"][i], 2)))\n",
    "\n",
    "index = 0\n",
    "c = 0\n",
    "for i in tqdm(df_results.index[len(groups_id):]):\n",
    "    nodes.append(\"{} ({}%)\".format(df_results[\"Num. nodes\"][i], round(df_results[\"Num. nodes\"][i]*100/total[index][0], 2)))\n",
    "    edges.append(\"{} ({}%)\".format(df_results[\"Num. edges\"][i], round(df_results[\"Num. edges\"][i]*100/total[index][1], 2)))\n",
    "\n",
    "    c += 1\n",
    "    if c % len(data_variations) == 0:\n",
    "        index = (index + 1) % len(groups_id)"
   ]
  },
  {
   "cell_type": "code",
   "execution_count": 44,
   "metadata": {},
   "outputs": [
    {
     "data": {
      "text/html": [
       "<div>\n",
       "<style scoped>\n",
       "    .dataframe tbody tr th:only-of-type {\n",
       "        vertical-align: middle;\n",
       "    }\n",
       "\n",
       "    .dataframe tbody tr th {\n",
       "        vertical-align: top;\n",
       "    }\n",
       "\n",
       "    .dataframe thead th {\n",
       "        text-align: right;\n",
       "    }\n",
       "</style>\n",
       "<table border=\"1\" class=\"dataframe\">\n",
       "  <thead>\n",
       "    <tr style=\"text-align: right;\">\n",
       "      <th></th>\n",
       "      <th>Method</th>\n",
       "      <th>Group</th>\n",
       "      <th>Data var.</th>\n",
       "      <th>Num. nodes</th>\n",
       "      <th>Num. edges</th>\n",
       "    </tr>\n",
       "  </thead>\n",
       "  <tbody>\n",
       "    <tr>\n",
       "      <th>0</th>\n",
       "      <td>greedy</td>\n",
       "      <td>HN</td>\n",
       "      <td>none</td>\n",
       "      <td>688 (100.0%)</td>\n",
       "      <td>232669 (100.0%)</td>\n",
       "    </tr>\n",
       "    <tr>\n",
       "      <th>1</th>\n",
       "      <td>greedy</td>\n",
       "      <td>HV</td>\n",
       "      <td>none</td>\n",
       "      <td>230 (100.0%)</td>\n",
       "      <td>25250 (100.0%)</td>\n",
       "    </tr>\n",
       "    <tr>\n",
       "      <th>2</th>\n",
       "      <td>vgae-base</td>\n",
       "      <td>HN</td>\n",
       "      <td>str</td>\n",
       "      <td>688 (100.0%)</td>\n",
       "      <td>232820 (100.06%)</td>\n",
       "    </tr>\n",
       "    <tr>\n",
       "      <th>3</th>\n",
       "      <td>vgae-base</td>\n",
       "      <td>HV</td>\n",
       "      <td>str</td>\n",
       "      <td>230 (100.0%)</td>\n",
       "      <td>23853 (94.47%)</td>\n",
       "    </tr>\n",
       "  </tbody>\n",
       "</table>\n",
       "</div>"
      ],
      "text/plain": [
       "      Method Group Data var.    Num. nodes        Num. edges\n",
       "0     greedy    HN      none  688 (100.0%)   232669 (100.0%)\n",
       "1     greedy    HV      none  230 (100.0%)    25250 (100.0%)\n",
       "2  vgae-base    HN       str  688 (100.0%)  232820 (100.06%)\n",
       "3  vgae-base    HV       str  230 (100.0%)    23853 (94.47%)"
      ]
     },
     "execution_count": 44,
     "metadata": {},
     "output_type": "execute_result"
    }
   ],
   "source": [
    "df_results_ = df_results.copy()\n",
    "df_results_[\"Num. nodes\"] = nodes\n",
    "df_results_[\"Num. edges\"] = edges\n",
    "df_results_.to_csv(\"output/{}/common_edges/details.csv\".format(exp), index=False)\n",
    "df_results_"
   ]
  },
  {
   "cell_type": "code",
   "execution_count": 45,
   "metadata": {},
   "outputs": [
    {
     "name": "stdout",
     "output_type": "stream",
     "text": [
      "\\begin{tabular}{lllll}\n",
      "\\toprule\n",
      "Method & Group & Data var. & Num. nodes & Num. edges \\\\\n",
      "\\midrule\n",
      "greedy & HN & none & 688 (100.0%) & 232669 (100.0%) \\\\\n",
      "greedy & HV & none & 230 (100.0%) & 25250 (100.0%) \\\\\n",
      "vgae-base & HN & str & 688 (100.0%) & 232820 (100.06%) \\\\\n",
      "vgae-base & HV & str & 230 (100.0%) & 23853 (94.47%) \\\\\n",
      "\\bottomrule\n",
      "\\end{tabular}\n",
      "\n"
     ]
    }
   ],
   "source": [
    "print(df_results_.to_latex(index=False, formatters={\"name\": str.upper}, float_format=\"{:.1f}\".format)) "
   ]
  }
 ],
 "metadata": {
  "kernelspec": {
   "display_name": "Python 3 (ipykernel)",
   "language": "python",
   "name": "python3"
  },
  "language_info": {
   "codemirror_mode": {
    "name": "ipython",
    "version": 3
   },
   "file_extension": ".py",
   "mimetype": "text/x-python",
   "name": "python",
   "nbconvert_exporter": "python",
   "pygments_lexer": "ipython3",
   "version": "3.10.13"
  },
  "orig_nbformat": 4
 },
 "nbformat": 4,
 "nbformat_minor": 2
}
