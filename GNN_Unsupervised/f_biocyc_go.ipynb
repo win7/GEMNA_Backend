{
 "cells": [
  {
   "attachments": {},
   "cell_type": "markdown",
   "metadata": {},
   "source": [
    "### Imports"
   ]
  },
  {
   "cell_type": "code",
   "execution_count": 1,
   "metadata": {
    "notebookRunGroups": {
     "groupValue": "1"
    }
   },
   "outputs": [
    {
     "name": "stderr",
     "output_type": "stream",
     "text": [
      "/home/ealvarez/miniconda3/envs/gnn_unsupervised_3.10/lib/python3.10/site-packages/outdated/utils.py:14: OutdatedPackageWarning: The package pingouin is out of date. Your version is 0.5.3, the latest is 0.5.4.\n",
      "Set the environment variable OUTDATED_IGNORE=1 to disable these warnings.\n",
      "  return warn(\n"
     ]
    }
   ],
   "source": [
    "import json\n",
    "\n",
    "import networkx as nx\n",
    "import numpy as np\n",
    "import pandas as pd\n",
    "import plotly.graph_objects as go\n",
    "\n",
    "from utils.utils_go import *\n",
    "\n",
    "# %load_ext autotime"
   ]
  },
  {
   "attachments": {},
   "cell_type": "markdown",
   "metadata": {},
   "source": [
    "### Parameters"
   ]
  },
  {
   "cell_type": "code",
   "execution_count": 2,
   "metadata": {
    "notebookRunGroups": {
     "groupValue": "1"
    }
   },
   "outputs": [
    {
     "name": "stdout",
     "output_type": "stream",
     "text": [
      "Exp:\t\t exp3\n",
      "Methods:\t ['dgi-tran', 'argva-base', 'vgae-line', 'vgae-base']\n",
      "Data variations: ['none', 'str', 'dyn']\n",
      "Control:\t Nueva\n",
      "Subgroups id:\t {'Nueva': ['1', '2'], 'Vieja': ['1', '2']}\n",
      "Groups:\t\t [['Nueva', 'Vieja']]\n"
     ]
    }
   ],
   "source": [
    "file = open(\"exp.json\")\n",
    "experiment = json.load(file)\n",
    "exp_num = experiment[\"exp\"]\n",
    "\n",
    "file = open(\"output/{}/parameters.json\".format(exp_num))\n",
    "params = json.load(file)\n",
    "\n",
    "exp = params[\"exp\"]\n",
    "print(\"Exp:\\t\\t\", exp)\n",
    "\n",
    "methods = params[\"methods\"]\n",
    "print(\"Methods:\\t\", methods)\n",
    "\n",
    "data_variations = params[\"data_variations\"]\n",
    "print(\"Data variations:\", data_variations)\n",
    "\n",
    "control = params[\"control\"]\n",
    "print(\"Control:\\t\", control)\n",
    "\n",
    "subgroups_id = params[\"subgroups_id\"]\n",
    "print(\"Subgroups id:\\t\", subgroups_id)\n",
    "\n",
    "groups = params[\"groups\"]\n",
    "print(\"Groups:\\t\\t\", groups)"
   ]
  },
  {
   "attachments": {},
   "cell_type": "markdown",
   "metadata": {},
   "source": [
    "### Biocyc"
   ]
  },
  {
   "cell_type": "code",
   "execution_count": 3,
   "metadata": {},
   "outputs": [],
   "source": [
    "# load raw data\n",
    "df_join_raw = pd.read_csv(\"input/{}_raw.csv\".format(exp), index_col=0)\n",
    "\n",
    "for method in methods: # change\n",
    "    for option in data_variations: # change\n",
    "        for group in groups: # change\n",
    "            # get common nodes from change detection result\n",
    "            df_change_filter = pd.read_csv(\"output/{}/changes/changes_edges_log2_{}_{}_{}_{}.csv\".format(exp, method, group[0], group[1], option))\n",
    "            \n",
    "            G = nx.from_pandas_edgelist(df_change_filter.iloc[:, [0, 1]])\n",
    "            nodes = list(G.nodes())\n",
    "            \n",
    "            # mapping metabolite name with ratio (2)\n",
    "            df_biocyc = pd.DataFrame()\n",
    "            df_biocyc[\"Alignment ID\"] = nodes\n",
    "            list_data = []\n",
    "            for group_id in group:\n",
    "                df_aux = df_join_raw.filter(like=group_id)\n",
    "                df_aux = df_aux.loc[nodes]\n",
    "                # df_biocyc[\"mean-{}\".format(group)] = df_aux.mean(axis=1).values\n",
    "                # df_biocyc[\"log-{}\".format(group)] = np.log10(df_aux.mean(axis=1).values)\n",
    "                list_data.append(df_aux.mean(axis=1).values)\n",
    "            df_biocyc[group[0]] = np.log10(list_data[0])\n",
    "            df_biocyc[group[1]] = np.log10(list_data[1])\n",
    "            df_biocyc[\"Ratio\"] = np.log2(np.divide(list_data[1], list_data[0]))\n",
    "            # df_biocyc[\"metabolities\"] = df_metadata.loc[common_nodes][\"Metabolites - Approved by Nicola\"].values\n",
    "            df_biocyc.insert(0, \"Average Mz\", df_join_raw.loc[nodes][\"Average Mz\"].values)\n",
    "            df_biocyc.insert(0, \"Metabolite name\", df_join_raw.loc[nodes][\"Metabolite name\"].values)         \n",
    "            # df_biocyc = df_biocyc.iloc[:, 1:]\n",
    "            df_biocyc.to_csv(\"output/{}/biocyc/biocyc_{}_{}_{}.csv\".format(exp, method, \"-\".join(group), option), index=False, sep=\"\\t\") # header=False\n",
    "            \n",
    "            \"\"\" df_biocyc = pd.read_csv(\"output/{}/biocyc/biocyc_{}_{}_{}.csv\".format(exp, method, \"-\".join(group), option),\n",
    "                    names=[\"Metabolite name\", \"Average Mz\", \"Alignment ID\", group[0], group[1], \"Ratio\"], sep=\"\\t\") # header=None \"\"\""
   ]
  }
 ],
 "metadata": {
  "kernelspec": {
   "display_name": "Python 3 (ipykernel)",
   "language": "python",
   "name": "python3"
  },
  "language_info": {
   "codemirror_mode": {
    "name": "ipython",
    "version": 3
   },
   "file_extension": ".py",
   "mimetype": "text/x-python",
   "name": "python",
   "nbconvert_exporter": "python",
   "pygments_lexer": "ipython3",
   "version": "3.10.12"
  },
  "orig_nbformat": 4
 },
 "nbformat": 4,
 "nbformat_minor": 2
}
